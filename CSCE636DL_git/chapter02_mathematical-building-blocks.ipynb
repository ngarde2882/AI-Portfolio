{
 "cells": [
  {
   "cell_type": "markdown",
   "metadata": {
    "colab_type": "text"
   },
   "source": [
    "This is a companion notebook for the book [Deep Learning with Python, Second Edition](https://www.manning.com/books/deep-learning-with-python-second-edition?a_aid=keras&a_bid=76564dff). For readability, it only contains runnable code blocks and section titles, and omits everything else in the book: text paragraphs, figures, and pseudocode.\n",
    "\n",
    "**If you want to be able to follow what's going on, I recommend reading the notebook side by side with your copy of the book.**\n",
    "\n",
    "This notebook was generated for TensorFlow 2.6."
   ]
  },
  {
   "cell_type": "markdown",
   "metadata": {
    "colab_type": "text"
   },
   "source": [
    "# The mathematical building blocks of neural networks"
   ]
  },
  {
   "cell_type": "markdown",
   "metadata": {
    "colab_type": "text"
   },
   "source": [
    "## A first look at a neural network"
   ]
  },
  {
   "cell_type": "markdown",
   "metadata": {
    "colab_type": "text"
   },
   "source": [
    "**Loading the MNIST dataset in Keras**"
   ]
  },
  {
   "cell_type": "code",
   "execution_count": 1,
   "metadata": {
    "colab_type": "code"
   },
   "outputs": [
    {
     "name": "stdout",
     "output_type": "stream",
     "text": [
      "Downloading data from https://storage.googleapis.com/tensorflow/tf-keras-datasets/mnist.npz\n",
      "\u001b[1m11490434/11490434\u001b[0m \u001b[32m━━━━━━━━━━━━━━━━━━━━\u001b[0m\u001b[37m\u001b[0m \u001b[1m0s\u001b[0m 0us/step\n"
     ]
    }
   ],
   "source": [
    "from tensorflow.keras.datasets import mnist\n",
    "(train_images, train_labels), (test_images, test_labels) = mnist.load_data()"
   ]
  },
  {
   "cell_type": "code",
   "execution_count": 2,
   "metadata": {
    "colab_type": "code"
   },
   "outputs": [
    {
     "data": {
      "text/plain": [
       "(60000, 28, 28)"
      ]
     },
     "execution_count": 2,
     "metadata": {},
     "output_type": "execute_result"
    }
   ],
   "source": [
    "train_images.shape"
   ]
  },
  {
   "cell_type": "code",
   "execution_count": 3,
   "metadata": {
    "colab_type": "code"
   },
   "outputs": [
    {
     "data": {
      "text/plain": [
       "60000"
      ]
     },
     "execution_count": 3,
     "metadata": {},
     "output_type": "execute_result"
    }
   ],
   "source": [
    "len(train_labels)"
   ]
  },
  {
   "cell_type": "code",
   "execution_count": 4,
   "metadata": {
    "colab_type": "code"
   },
   "outputs": [
    {
     "data": {
      "text/plain": [
       "array([5, 0, 4, ..., 5, 6, 8], dtype=uint8)"
      ]
     },
     "execution_count": 4,
     "metadata": {},
     "output_type": "execute_result"
    }
   ],
   "source": [
    "train_labels"
   ]
  },
  {
   "cell_type": "code",
   "execution_count": 5,
   "metadata": {
    "colab_type": "code"
   },
   "outputs": [
    {
     "data": {
      "text/plain": [
       "(10000, 28, 28)"
      ]
     },
     "execution_count": 5,
     "metadata": {},
     "output_type": "execute_result"
    }
   ],
   "source": [
    "test_images.shape"
   ]
  },
  {
   "cell_type": "code",
   "execution_count": 6,
   "metadata": {
    "colab_type": "code"
   },
   "outputs": [
    {
     "data": {
      "text/plain": [
       "10000"
      ]
     },
     "execution_count": 6,
     "metadata": {},
     "output_type": "execute_result"
    }
   ],
   "source": [
    "len(test_labels)"
   ]
  },
  {
   "cell_type": "code",
   "execution_count": 7,
   "metadata": {
    "colab_type": "code"
   },
   "outputs": [
    {
     "data": {
      "text/plain": [
       "array([7, 2, 1, ..., 4, 5, 6], dtype=uint8)"
      ]
     },
     "execution_count": 7,
     "metadata": {},
     "output_type": "execute_result"
    }
   ],
   "source": [
    "test_labels"
   ]
  },
  {
   "cell_type": "markdown",
   "metadata": {
    "colab_type": "text"
   },
   "source": [
    "**The network architecture**"
   ]
  },
  {
   "cell_type": "code",
   "execution_count": 8,
   "metadata": {
    "colab_type": "code"
   },
   "outputs": [],
   "source": [
    "from tensorflow import keras\n",
    "from tensorflow.keras import layers\n",
    "model = keras.Sequential([\n",
    "    layers.Dense(512, activation=\"relu\"),\n",
    "    layers.Dense(10, activation=\"softmax\")\n",
    "])"
   ]
  },
  {
   "cell_type": "markdown",
   "metadata": {
    "colab_type": "text"
   },
   "source": [
    "**The compilation step**"
   ]
  },
  {
   "cell_type": "code",
   "execution_count": 9,
   "metadata": {
    "colab_type": "code"
   },
   "outputs": [],
   "source": [
    "model.compile(optimizer=\"rmsprop\",\n",
    "              loss=\"sparse_categorical_crossentropy\",\n",
    "              metrics=[\"accuracy\"])"
   ]
  },
  {
   "cell_type": "markdown",
   "metadata": {
    "colab_type": "text"
   },
   "source": [
    "**Preparing the image data**"
   ]
  },
  {
   "cell_type": "code",
   "execution_count": 10,
   "metadata": {
    "colab_type": "code"
   },
   "outputs": [],
   "source": [
    "train_images = train_images.reshape((60000, 28 * 28))\n",
    "train_images = train_images.astype(\"float32\") / 255\n",
    "test_images = test_images.reshape((10000, 28 * 28))\n",
    "test_images = test_images.astype(\"float32\") / 255"
   ]
  },
  {
   "cell_type": "markdown",
   "metadata": {
    "colab_type": "text"
   },
   "source": [
    "**\"Fitting\" the model**"
   ]
  },
  {
   "cell_type": "code",
   "execution_count": 11,
   "metadata": {
    "colab_type": "code"
   },
   "outputs": [
    {
     "name": "stdout",
     "output_type": "stream",
     "text": [
      "Epoch 1/5\n",
      "\u001b[1m469/469\u001b[0m \u001b[32m━━━━━━━━━━━━━━━━━━━━\u001b[0m\u001b[37m\u001b[0m \u001b[1m2s\u001b[0m 2ms/step - accuracy: 0.8704 - loss: 0.4515\n",
      "Epoch 2/5\n",
      "\u001b[1m469/469\u001b[0m \u001b[32m━━━━━━━━━━━━━━━━━━━━\u001b[0m\u001b[37m\u001b[0m \u001b[1m1s\u001b[0m 2ms/step - accuracy: 0.9651 - loss: 0.1181\n",
      "Epoch 3/5\n",
      "\u001b[1m469/469\u001b[0m \u001b[32m━━━━━━━━━━━━━━━━━━━━\u001b[0m\u001b[37m\u001b[0m \u001b[1m1s\u001b[0m 2ms/step - accuracy: 0.9783 - loss: 0.0720\n",
      "Epoch 4/5\n",
      "\u001b[1m469/469\u001b[0m \u001b[32m━━━━━━━━━━━━━━━━━━━━\u001b[0m\u001b[37m\u001b[0m \u001b[1m1s\u001b[0m 2ms/step - accuracy: 0.9845 - loss: 0.0519\n",
      "Epoch 5/5\n",
      "\u001b[1m469/469\u001b[0m \u001b[32m━━━━━━━━━━━━━━━━━━━━\u001b[0m\u001b[37m\u001b[0m \u001b[1m1s\u001b[0m 2ms/step - accuracy: 0.9893 - loss: 0.0359\n"
     ]
    },
    {
     "data": {
      "text/plain": [
       "<keras.src.callbacks.history.History at 0x13b33841130>"
      ]
     },
     "execution_count": 11,
     "metadata": {},
     "output_type": "execute_result"
    }
   ],
   "source": [
    "model.fit(train_images, train_labels, epochs=5, batch_size=128)"
   ]
  },
  {
   "cell_type": "markdown",
   "metadata": {
    "colab_type": "text"
   },
   "source": [
    "**Using the model to make predictions**"
   ]
  },
  {
   "cell_type": "code",
   "execution_count": 12,
   "metadata": {
    "colab_type": "code"
   },
   "outputs": [
    {
     "name": "stdout",
     "output_type": "stream",
     "text": [
      "\u001b[1m1/1\u001b[0m \u001b[32m━━━━━━━━━━━━━━━━━━━━\u001b[0m\u001b[37m\u001b[0m \u001b[1m0s\u001b[0m 44ms/step\n"
     ]
    },
    {
     "data": {
      "text/plain": [
       "array([6.3272026e-08, 1.7327914e-09, 8.9202586e-06, 8.4536907e-05,\n",
       "       2.9114402e-11, 1.0970149e-07, 4.6808033e-13, 9.9990296e-01,\n",
       "       3.8954173e-07, 2.9822190e-06], dtype=float32)"
      ]
     },
     "execution_count": 12,
     "metadata": {},
     "output_type": "execute_result"
    }
   ],
   "source": [
    "test_digits = test_images[0:10]\n",
    "predictions = model.predict(test_digits)\n",
    "predictions[0]"
   ]
  },
  {
   "cell_type": "code",
   "execution_count": 13,
   "metadata": {
    "colab_type": "code"
   },
   "outputs": [
    {
     "data": {
      "text/plain": [
       "np.int64(7)"
      ]
     },
     "execution_count": 13,
     "metadata": {},
     "output_type": "execute_result"
    }
   ],
   "source": [
    "predictions[0].argmax()"
   ]
  },
  {
   "cell_type": "code",
   "execution_count": 14,
   "metadata": {
    "colab_type": "code"
   },
   "outputs": [
    {
     "data": {
      "text/plain": [
       "np.float32(0.99990296)"
      ]
     },
     "execution_count": 14,
     "metadata": {},
     "output_type": "execute_result"
    }
   ],
   "source": [
    "predictions[0][7]"
   ]
  },
  {
   "cell_type": "code",
   "execution_count": 15,
   "metadata": {
    "colab_type": "code"
   },
   "outputs": [
    {
     "data": {
      "text/plain": [
       "np.uint8(7)"
      ]
     },
     "execution_count": 15,
     "metadata": {},
     "output_type": "execute_result"
    }
   ],
   "source": [
    "test_labels[0]"
   ]
  },
  {
   "cell_type": "markdown",
   "metadata": {
    "colab_type": "text"
   },
   "source": [
    "**Evaluating the model on new data**"
   ]
  },
  {
   "cell_type": "code",
   "execution_count": 16,
   "metadata": {
    "colab_type": "code"
   },
   "outputs": [
    {
     "name": "stdout",
     "output_type": "stream",
     "text": [
      "\u001b[1m313/313\u001b[0m \u001b[32m━━━━━━━━━━━━━━━━━━━━\u001b[0m\u001b[37m\u001b[0m \u001b[1m0s\u001b[0m 858us/step - accuracy: 0.9783 - loss: 0.0719\n",
      "test_acc: 0.9805999994277954\n"
     ]
    }
   ],
   "source": [
    "test_loss, test_acc = model.evaluate(test_images, test_labels)\n",
    "print(f\"test_acc: {test_acc}\")"
   ]
  },
  {
   "cell_type": "markdown",
   "metadata": {
    "colab_type": "text"
   },
   "source": [
    "## Data representations for neural networks"
   ]
  },
  {
   "cell_type": "markdown",
   "metadata": {
    "colab_type": "text"
   },
   "source": [
    "### Scalars (rank-0 tensors)"
   ]
  },
  {
   "cell_type": "code",
   "execution_count": 17,
   "metadata": {
    "colab_type": "code"
   },
   "outputs": [
    {
     "data": {
      "text/plain": [
       "array(12)"
      ]
     },
     "execution_count": 17,
     "metadata": {},
     "output_type": "execute_result"
    }
   ],
   "source": [
    "import numpy as np\n",
    "x = np.array(12)\n",
    "x"
   ]
  },
  {
   "cell_type": "code",
   "execution_count": 18,
   "metadata": {
    "colab_type": "code"
   },
   "outputs": [
    {
     "data": {
      "text/plain": [
       "0"
      ]
     },
     "execution_count": 18,
     "metadata": {},
     "output_type": "execute_result"
    }
   ],
   "source": [
    "x.ndim"
   ]
  },
  {
   "cell_type": "markdown",
   "metadata": {
    "colab_type": "text"
   },
   "source": [
    "### Vectors (rank-1 tensors)"
   ]
  },
  {
   "cell_type": "code",
   "execution_count": 19,
   "metadata": {
    "colab_type": "code"
   },
   "outputs": [
    {
     "data": {
      "text/plain": [
       "array([12,  3,  6, 14,  7])"
      ]
     },
     "execution_count": 19,
     "metadata": {},
     "output_type": "execute_result"
    }
   ],
   "source": [
    "x = np.array([12, 3, 6, 14, 7])\n",
    "x"
   ]
  },
  {
   "cell_type": "code",
   "execution_count": 20,
   "metadata": {
    "colab_type": "code"
   },
   "outputs": [
    {
     "data": {
      "text/plain": [
       "1"
      ]
     },
     "execution_count": 20,
     "metadata": {},
     "output_type": "execute_result"
    }
   ],
   "source": [
    "x.ndim"
   ]
  },
  {
   "cell_type": "markdown",
   "metadata": {
    "colab_type": "text"
   },
   "source": [
    "### Matrices (rank-2 tensors)"
   ]
  },
  {
   "cell_type": "code",
   "execution_count": 21,
   "metadata": {
    "colab_type": "code"
   },
   "outputs": [
    {
     "data": {
      "text/plain": [
       "2"
      ]
     },
     "execution_count": 21,
     "metadata": {},
     "output_type": "execute_result"
    }
   ],
   "source": [
    "x = np.array([[5, 78, 2, 34, 0],\n",
    "              [6, 79, 3, 35, 1],\n",
    "              [7, 80, 4, 36, 2]])\n",
    "x.ndim"
   ]
  },
  {
   "cell_type": "markdown",
   "metadata": {
    "colab_type": "text"
   },
   "source": [
    "### Rank-3 and higher-rank tensors"
   ]
  },
  {
   "cell_type": "code",
   "execution_count": 22,
   "metadata": {
    "colab_type": "code"
   },
   "outputs": [
    {
     "data": {
      "text/plain": [
       "3"
      ]
     },
     "execution_count": 22,
     "metadata": {},
     "output_type": "execute_result"
    }
   ],
   "source": [
    "x = np.array([[[5, 78, 2, 34, 0],\n",
    "               [6, 79, 3, 35, 1],\n",
    "               [7, 80, 4, 36, 2]],\n",
    "              [[5, 78, 2, 34, 0],\n",
    "               [6, 79, 3, 35, 1],\n",
    "               [7, 80, 4, 36, 2]],\n",
    "              [[5, 78, 2, 34, 0],\n",
    "               [6, 79, 3, 35, 1],\n",
    "               [7, 80, 4, 36, 2]]])\n",
    "x.ndim"
   ]
  },
  {
   "cell_type": "markdown",
   "metadata": {
    "colab_type": "text"
   },
   "source": [
    "### Key attributes"
   ]
  },
  {
   "cell_type": "code",
   "execution_count": 23,
   "metadata": {
    "colab_type": "code"
   },
   "outputs": [],
   "source": [
    "from tensorflow.keras.datasets import mnist\n",
    "(train_images, train_labels), (test_images, test_labels) = mnist.load_data()"
   ]
  },
  {
   "cell_type": "code",
   "execution_count": 24,
   "metadata": {
    "colab_type": "code"
   },
   "outputs": [
    {
     "data": {
      "text/plain": [
       "3"
      ]
     },
     "execution_count": 24,
     "metadata": {},
     "output_type": "execute_result"
    }
   ],
   "source": [
    "train_images.ndim"
   ]
  },
  {
   "cell_type": "code",
   "execution_count": 25,
   "metadata": {
    "colab_type": "code"
   },
   "outputs": [
    {
     "data": {
      "text/plain": [
       "(60000, 28, 28)"
      ]
     },
     "execution_count": 25,
     "metadata": {},
     "output_type": "execute_result"
    }
   ],
   "source": [
    "train_images.shape"
   ]
  },
  {
   "cell_type": "code",
   "execution_count": 26,
   "metadata": {
    "colab_type": "code"
   },
   "outputs": [
    {
     "data": {
      "text/plain": [
       "dtype('uint8')"
      ]
     },
     "execution_count": 26,
     "metadata": {},
     "output_type": "execute_result"
    }
   ],
   "source": [
    "train_images.dtype"
   ]
  },
  {
   "cell_type": "markdown",
   "metadata": {
    "colab_type": "text"
   },
   "source": [
    "**Displaying the fourth digit**"
   ]
  },
  {
   "cell_type": "code",
   "execution_count": 27,
   "metadata": {
    "colab_type": "code"
   },
   "outputs": [
    {
     "data": {
      "image/png": "[encoded data removed]",
      "text/plain": [
       "<Figure size 640x480 with 1 Axes>"
      ]
     },
     "metadata": {},
     "output_type": "display_data"
    }
   ],
   "source": [
    "import matplotlib.pyplot as plt\n",
    "digit = train_images[4]\n",
    "plt.imshow(digit, cmap=plt.cm.binary)\n",
    "plt.show()"
   ]
  },
  {
   "cell_type": "code",
   "execution_count": 28,
   "metadata": {
    "colab_type": "code"
   },
   "outputs": [
    {
     "data": {
      "text/plain": [
       "np.uint8(9)"
      ]
     },
     "execution_count": 28,
     "metadata": {},
     "output_type": "execute_result"
    }
   ],
   "source": [
    "train_labels[4]"
   ]
  },
  {
   "cell_type": "markdown",
   "metadata": {
    "colab_type": "text"
   },
   "source": [
    "### Manipulating tensors in NumPy"
   ]
  },
  {
   "cell_type": "code",
   "execution_count": 29,
   "metadata": {
    "colab_type": "code"
   },
   "outputs": [
    {
     "data": {
      "text/plain": [
       "(90, 28, 28)"
      ]
     },
     "execution_count": 29,
     "metadata": {},
     "output_type": "execute_result"
    }
   ],
   "source": [
    "my_slice = train_images[10:100]\n",
    "my_slice.shape"
   ]
  },
  {
   "cell_type": "code",
   "execution_count": 30,
   "metadata": {
    "colab_type": "code"
   },
   "outputs": [
    {
     "data": {
      "text/plain": [
       "(90, 28, 28)"
      ]
     },
     "execution_count": 30,
     "metadata": {},
     "output_type": "execute_result"
    }
   ],
   "source": [
    "my_slice = train_images[10:100, :, :]\n",
    "my_slice.shape"
   ]
  },
  {
   "cell_type": "code",
   "execution_count": 31,
   "metadata": {
    "colab_type": "code"
   },
   "outputs": [
    {
     "data": {
      "text/plain": [
       "(90, 28, 28)"
      ]
     },
     "execution_count": 31,
     "metadata": {},
     "output_type": "execute_result"
    }
   ],
   "source": [
    "my_slice = train_images[10:100, 0:28, 0:28]\n",
    "my_slice.shape"
   ]
  },
  {
   "cell_type": "code",
   "execution_count": 32,
   "metadata": {
    "colab_type": "code"
   },
   "outputs": [],
   "source": [
    "my_slice = train_images[:, 14:, 14:]"
   ]
  },
  {
   "cell_type": "code",
   "execution_count": 33,
   "metadata": {
    "colab_type": "code"
   },
   "outputs": [],
   "source": [
    "my_slice = train_images[:, 7:-7, 7:-7]"
   ]
  },
  {
   "cell_type": "markdown",
   "metadata": {
    "colab_type": "text"
   },
   "source": [
    "### The notion of data batches"
   ]
  },
  {
   "cell_type": "code",
   "execution_count": 34,
   "metadata": {
    "colab_type": "code"
   },
   "outputs": [],
   "source": [
    "batch = train_images[:128]"
   ]
  },
  {
   "cell_type": "code",
   "execution_count": 35,
   "metadata": {
    "colab_type": "code"
   },
   "outputs": [],
   "source": [
    "batch = train_images[128:256]"
   ]
  },
  {
   "cell_type": "code",
   "execution_count": 36,
   "metadata": {
    "colab_type": "code"
   },
   "outputs": [],
   "source": [
    "n = 3\n",
    "batch = train_images[128 * n:128 * (n + 1)]"
   ]
  },
  {
   "cell_type": "markdown",
   "metadata": {
    "colab_type": "text"
   },
   "source": [
    "### Real-world examples of data tensors"
   ]
  },
  {
   "cell_type": "markdown",
   "metadata": {
    "colab_type": "text"
   },
   "source": [
    "### Vector data"
   ]
  },
  {
   "cell_type": "markdown",
   "metadata": {
    "colab_type": "text"
   },
   "source": [
    "### Timeseries data or sequence data"
   ]
  },
  {
   "cell_type": "markdown",
   "metadata": {
    "colab_type": "text"
   },
   "source": [
    "### Image data"
   ]
  },
  {
   "cell_type": "markdown",
   "metadata": {
    "colab_type": "text"
   },
   "source": [
    "### Video data"
   ]
  },
  {
   "cell_type": "markdown",
   "metadata": {
    "colab_type": "text"
   },
   "source": [
    "## The gears of neural networks: tensor operations"
   ]
  },
  {
   "cell_type": "markdown",
   "metadata": {
    "colab_type": "text"
   },
   "source": [
    "### Element-wise operations"
   ]
  },
  {
   "cell_type": "code",
   "execution_count": 37,
   "metadata": {
    "colab_type": "code"
   },
   "outputs": [],
   "source": [
    "def naive_relu(x):\n",
    "    assert len(x.shape) == 2\n",
    "    x = x.copy()\n",
    "    for i in range(x.shape[0]):\n",
    "        for j in range(x.shape[1]):\n",
    "            x[i, j] = max(x[i, j], 0)\n",
    "    return x"
   ]
  },
  {
   "cell_type": "code",
   "execution_count": 38,
   "metadata": {
    "colab_type": "code"
   },
   "outputs": [],
   "source": [
    "def naive_add(x, y):\n",
    "    assert len(x.shape) == 2\n",
    "    assert x.shape == y.shape\n",
    "    x = x.copy()\n",
    "    for i in range(x.shape[0]):\n",
    "        for j in range(x.shape[1]):\n",
    "            x[i, j] += y[i, j]\n",
    "    return x"
   ]
  },
  {
   "cell_type": "code",
   "execution_count": 39,
   "metadata": {
    "colab_type": "code"
   },
   "outputs": [
    {
     "name": "stdout",
     "output_type": "stream",
     "text": [
      "Took: 0.00 s\n"
     ]
    }
   ],
   "source": [
    "import time\n",
    "\n",
    "x = np.random.random((20, 100))\n",
    "y = np.random.random((20, 100))\n",
    "\n",
    "t0 = time.time()\n",
    "for _ in range(1000):\n",
    "    z = x + y\n",
    "    z = np.maximum(z, 0.)\n",
    "print(\"Took: {0:.2f} s\".format(time.time() - t0))"
   ]
  },
  {
   "cell_type": "code",
   "execution_count": 40,
   "metadata": {
    "colab_type": "code"
   },
   "outputs": [
    {
     "name": "stdout",
     "output_type": "stream",
     "text": [
      "Took: 1.34 s\n"
     ]
    }
   ],
   "source": [
    "t0 = time.time()\n",
    "for _ in range(1000):\n",
    "    z = naive_add(x, y)\n",
    "    z = naive_relu(z)\n",
    "print(\"Took: {0:.2f} s\".format(time.time() - t0))"
   ]
  },
  {
   "cell_type": "markdown",
   "metadata": {
    "colab_type": "text"
   },
   "source": [
    "### Broadcasting"
   ]
  },
  {
   "cell_type": "code",
   "execution_count": 41,
   "metadata": {
    "colab_type": "code"
   },
   "outputs": [],
   "source": [
    "import numpy as np\n",
    "X = np.random.random((32, 10))\n",
    "y = np.random.random((10,))"
   ]
  },
  {
   "cell_type": "code",
   "execution_count": 42,
   "metadata": {
    "colab_type": "code"
   },
   "outputs": [],
   "source": [
    "y = np.expand_dims(y, axis=0)"
   ]
  },
  {
   "cell_type": "code",
   "execution_count": 43,
   "metadata": {
    "colab_type": "code"
   },
   "outputs": [],
   "source": [
    "Y = np.concatenate([y] * 32, axis=0)"
   ]
  },
  {
   "cell_type": "code",
   "execution_count": 44,
   "metadata": {
    "colab_type": "code"
   },
   "outputs": [],
   "source": [
    "def naive_add_matrix_and_vector(x, y):\n",
    "    assert len(x.shape) == 2\n",
    "    assert len(y.shape) == 1\n",
    "    assert x.shape[1] == y.shape[0]\n",
    "    x = x.copy()\n",
    "    for i in range(x.shape[0]):\n",
    "        for j in range(x.shape[1]):\n",
    "            x[i, j] += y[j]\n",
    "    return x"
   ]
  },
  {
   "cell_type": "code",
   "execution_count": 45,
   "metadata": {
    "colab_type": "code"
   },
   "outputs": [],
   "source": [
    "import numpy as np\n",
    "x = np.random.random((64, 3, 32, 10))\n",
    "y = np.random.random((32, 10))\n",
    "z = np.maximum(x, y)"
   ]
  },
  {
   "cell_type": "markdown",
   "metadata": {
    "colab_type": "text"
   },
   "source": [
    "### Tensor product"
   ]
  },
  {
   "cell_type": "code",
   "execution_count": 46,
   "metadata": {
    "colab_type": "code"
   },
   "outputs": [],
   "source": [
    "x = np.random.random((32,))\n",
    "y = np.random.random((32,))\n",
    "z = np.dot(x, y)"
   ]
  },
  {
   "cell_type": "code",
   "execution_count": 47,
   "metadata": {
    "colab_type": "code"
   },
   "outputs": [],
   "source": [
    "def naive_vector_dot(x, y):\n",
    "    assert len(x.shape) == 1\n",
    "    assert len(y.shape) == 1\n",
    "    assert x.shape[0] == y.shape[0]\n",
    "    z = 0.\n",
    "    for i in range(x.shape[0]):\n",
    "        z += x[i] * y[i]\n",
    "    return z"
   ]
  },
  {
   "cell_type": "code",
   "execution_count": 48,
   "metadata": {
    "colab_type": "code"
   },
   "outputs": [],
   "source": [
    "def naive_matrix_vector_dot(x, y):\n",
    "    assert len(x.shape) == 2\n",
    "    assert len(y.shape) == 1\n",
    "    assert x.shape[1] == y.shape[0]\n",
    "    z = np.zeros(x.shape[0])\n",
    "    for i in range(x.shape[0]):\n",
    "        for j in range(x.shape[1]):\n",
    "            z[i] += x[i, j] * y[j]\n",
    "    return z"
   ]
  },
  {
   "cell_type": "code",
   "execution_count": 49,
   "metadata": {
    "colab_type": "code"
   },
   "outputs": [],
   "source": [
    "def naive_matrix_vector_dot(x, y):\n",
    "    z = np.zeros(x.shape[0])\n",
    "    for i in range(x.shape[0]):\n",
    "        z[i] = naive_vector_dot(x[i, :], y)\n",
    "    return z"
   ]
  },
  {
   "cell_type": "code",
   "execution_count": 50,
   "metadata": {
    "colab_type": "code"
   },
   "outputs": [],
   "source": [
    "def naive_matrix_dot(x, y):\n",
    "    assert len(x.shape) == 2\n",
    "    assert len(y.shape) == 2\n",
    "    assert x.shape[1] == y.shape[0]\n",
    "    z = np.zeros((x.shape[0], y.shape[1]))\n",
    "    for i in range(x.shape[0]):\n",
    "        for j in range(y.shape[1]):\n",
    "            row_x = x[i, :]\n",
    "            column_y = y[:, j]\n",
    "            z[i, j] = naive_vector_dot(row_x, column_y)\n",
    "    return z"
   ]
  },
  {
   "cell_type": "markdown",
   "metadata": {
    "colab_type": "text"
   },
   "source": [
    "### Tensor reshaping"
   ]
  },
  {
   "cell_type": "code",
   "execution_count": 51,
   "metadata": {
    "colab_type": "code"
   },
   "outputs": [],
   "source": [
    "train_images = train_images.reshape((60000, 28 * 28))"
   ]
  },
  {
   "cell_type": "code",
   "execution_count": 52,
   "metadata": {
    "colab_type": "code"
   },
   "outputs": [
    {
     "data": {
      "text/plain": [
       "(3, 2)"
      ]
     },
     "execution_count": 52,
     "metadata": {},
     "output_type": "execute_result"
    }
   ],
   "source": [
    "x = np.array([[0., 1.],\n",
    "             [2., 3.],\n",
    "             [4., 5.]])\n",
    "x.shape"
   ]
  },
  {
   "cell_type": "code",
   "execution_count": 53,
   "metadata": {
    "colab_type": "code"
   },
   "outputs": [
    {
     "data": {
      "text/plain": [
       "array([[0.],\n",
       "       [1.],\n",
       "       [2.],\n",
       "       [3.],\n",
       "       [4.],\n",
       "       [5.]])"
      ]
     },
     "execution_count": 53,
     "metadata": {},
     "output_type": "execute_result"
    }
   ],
   "source": [
    "x = x.reshape((6, 1))\n",
    "x"
   ]
  },
  {
   "cell_type": "code",
   "execution_count": 54,
   "metadata": {
    "colab_type": "code"
   },
   "outputs": [
    {
     "data": {
      "text/plain": [
       "(20, 300)"
      ]
     },
     "execution_count": 54,
     "metadata": {},
     "output_type": "execute_result"
    }
   ],
   "source": [
    "x = np.zeros((300, 20))\n",
    "x = np.transpose(x)\n",
    "x.shape"
   ]
  },
  {
   "cell_type": "markdown",
   "metadata": {
    "colab_type": "text"
   },
   "source": [
    "### Geometric interpretation of tensor operations"
   ]
  },
  {
   "cell_type": "markdown",
   "metadata": {
    "colab_type": "text"
   },
   "source": [
    "### A geometric interpretation of deep learning"
   ]
  },
  {
   "cell_type": "markdown",
   "metadata": {
    "colab_type": "text"
   },
   "source": [
    "## The engine of neural networks: gradient-based optimization"
   ]
  },
  {
   "cell_type": "markdown",
   "metadata": {
    "colab_type": "text"
   },
   "source": [
    "### What's a derivative?"
   ]
  },
  {
   "cell_type": "markdown",
   "metadata": {
    "colab_type": "text"
   },
   "source": [
    "### Derivative of a tensor operation: the gradient"
   ]
  },
  {
   "cell_type": "markdown",
   "metadata": {
    "colab_type": "text"
   },
   "source": [
    "### Stochastic gradient descent"
   ]
  },
  {
   "cell_type": "markdown",
   "metadata": {
    "colab_type": "text"
   },
   "source": [
    "### Chaining derivatives: The Backpropagation algorithm"
   ]
  },
  {
   "cell_type": "markdown",
   "metadata": {
    "colab_type": "text"
   },
   "source": [
    "#### The chain rule"
   ]
  },
  {
   "cell_type": "markdown",
   "metadata": {
    "colab_type": "text"
   },
   "source": [
    "#### Automatic differentiation with computation graphs"
   ]
  },
  {
   "cell_type": "markdown",
   "metadata": {
    "colab_type": "text"
   },
   "source": [
    "#### The gradient tape in TensorFlow"
   ]
  },
  {
   "cell_type": "code",
   "execution_count": 55,
   "metadata": {
    "colab_type": "code"
   },
   "outputs": [],
   "source": [
    "import tensorflow as tf\n",
    "x = tf.Variable(0.)\n",
    "with tf.GradientTape() as tape:\n",
    "    y = 2 * x + 3\n",
    "grad_of_y_wrt_x = tape.gradient(y, x)"
   ]
  },
  {
   "cell_type": "code",
   "execution_count": 56,
   "metadata": {
    "colab_type": "code"
   },
   "outputs": [],
   "source": [
    "x = tf.Variable(tf.random.uniform((2, 2)))\n",
    "with tf.GradientTape() as tape:\n",
    "    y = 2 * x + 3\n",
    "grad_of_y_wrt_x = tape.gradient(y, x)"
   ]
  },
  {
   "cell_type": "code",
   "execution_count": 57,
   "metadata": {
    "colab_type": "code"
   },
   "outputs": [],
   "source": [
    "W = tf.Variable(tf.random.uniform((2, 2)))\n",
    "b = tf.Variable(tf.zeros((2,)))\n",
    "x = tf.random.uniform((2, 2))\n",
    "with tf.GradientTape() as tape:\n",
    "    y = tf.matmul(x, W) + b\n",
    "grad_of_y_wrt_W_and_b = tape.gradient(y, [W, b])"
   ]
  },
  {
   "cell_type": "markdown",
   "metadata": {
    "colab_type": "text"
   },
   "source": [
    "## Looking back at our first example"
   ]
  },
  {
   "cell_type": "code",
   "execution_count": 58,
   "metadata": {
    "colab_type": "code"
   },
   "outputs": [],
   "source": [
    "(train_images, train_labels), (test_images, test_labels) = mnist.load_data()\n",
    "train_images = train_images.reshape((60000, 28 * 28))\n",
    "train_images = train_images.astype(\"float32\") / 255\n",
    "test_images = test_images.reshape((10000, 28 * 28))\n",
    "test_images = test_images.astype(\"float32\") / 255"
   ]
  },
  {
   "cell_type": "code",
   "execution_count": 59,
   "metadata": {
    "colab_type": "code"
   },
   "outputs": [],
   "source": [
    "model = keras.Sequential([\n",
    "    layers.Dense(512, activation=\"relu\"),\n",
    "    layers.Dense(10, activation=\"softmax\")\n",
    "])"
   ]
  },
  {
   "cell_type": "code",
   "execution_count": 60,
   "metadata": {
    "colab_type": "code"
   },
   "outputs": [],
   "source": [
    "model.compile(optimizer=\"rmsprop\",\n",
    "              loss=\"sparse_categorical_crossentropy\",\n",
    "              metrics=[\"accuracy\"])"
   ]
  },
  {
   "cell_type": "code",
   "execution_count": 61,
   "metadata": {
    "colab_type": "code"
   },
   "outputs": [
    {
     "name": "stdout",
     "output_type": "stream",
     "text": [
      "Epoch 1/5\n",
      "\u001b[1m469/469\u001b[0m \u001b[32m━━━━━━━━━━━━━━━━━━━━\u001b[0m\u001b[37m\u001b[0m \u001b[1m2s\u001b[0m 3ms/step - accuracy: 0.8768 - loss: 0.4397\n",
      "Epoch 2/5\n",
      "\u001b[1m469/469\u001b[0m \u001b[32m━━━━━━━━━━━━━━━━━━━━\u001b[0m\u001b[37m\u001b[0m \u001b[1m1s\u001b[0m 3ms/step - accuracy: 0.9653 - loss: 0.1199\n",
      "Epoch 3/5\n",
      "\u001b[1m469/469\u001b[0m \u001b[32m━━━━━━━━━━━━━━━━━━━━\u001b[0m\u001b[37m\u001b[0m \u001b[1m1s\u001b[0m 3ms/step - accuracy: 0.9791 - loss: 0.0710\n",
      "Epoch 4/5\n",
      "\u001b[1m469/469\u001b[0m \u001b[32m━━━━━━━━━━━━━━━━━━━━\u001b[0m\u001b[37m\u001b[0m \u001b[1m1s\u001b[0m 3ms/step - accuracy: 0.9853 - loss: 0.0483\n",
      "Epoch 5/5\n",
      "\u001b[1m469/469\u001b[0m \u001b[32m━━━━━━━━━━━━━━━━━━━━\u001b[0m\u001b[37m\u001b[0m \u001b[1m1s\u001b[0m 2ms/step - accuracy: 0.9910 - loss: 0.0342\n"
     ]
    },
    {
     "data": {
      "text/plain": [
       "<keras.src.callbacks.history.History at 0x13b3384af90>"
      ]
     },
     "execution_count": 61,
     "metadata": {},
     "output_type": "execute_result"
    }
   ],
   "source": [
    "model.fit(train_images, train_labels, epochs=5, batch_size=128)"
   ]
  },
  {
   "cell_type": "markdown",
   "metadata": {
    "colab_type": "text"
   },
   "source": [
    "### Reimplementing our first example from scratch in TensorFlow"
   ]
  },
  {
   "cell_type": "markdown",
   "metadata": {
    "colab_type": "text"
   },
   "source": [
    "#### A simple Dense class"
   ]
  },
  {
   "cell_type": "code",
   "execution_count": 62,
   "metadata": {
    "colab_type": "code"
   },
   "outputs": [],
   "source": [
    "import tensorflow as tf\n",
    "\n",
    "class NaiveDense:\n",
    "    def __init__(self, input_size, output_size, activation):\n",
    "        self.activation = activation\n",
    "\n",
    "        w_shape = (input_size, output_size)\n",
    "        w_initial_value = tf.random.uniform(w_shape, minval=0, maxval=1e-1)\n",
    "        self.W = tf.Variable(w_initial_value)\n",
    "\n",
    "        b_shape = (output_size,)\n",
    "        b_initial_value = tf.zeros(b_shape)\n",
    "        self.b = tf.Variable(b_initial_value)\n",
    "\n",
    "    def __call__(self, inputs):\n",
    "        return self.activation(tf.matmul(inputs, self.W) + self.b)\n",
    "\n",
    "    @property\n",
    "    def weights(self):\n",
    "        return [self.W, self.b]"
   ]
  },
  {
   "cell_type": "markdown",
   "metadata": {
    "colab_type": "text"
   },
   "source": [
    "#### A simple Sequential class"
   ]
  },
  {
   "cell_type": "code",
   "execution_count": 63,
   "metadata": {
    "colab_type": "code"
   },
   "outputs": [],
   "source": [
    "class NaiveSequential:\n",
    "    def __init__(self, layers):\n",
    "        self.layers = layers\n",
    "\n",
    "    def __call__(self, inputs):\n",
    "        x = inputs\n",
    "        for layer in self.layers:\n",
    "           x = layer(x)\n",
    "        return x\n",
    "\n",
    "    @property\n",
    "    def weights(self):\n",
    "       weights = []\n",
    "       for layer in self.layers:\n",
    "           weights += layer.weights\n",
    "       return weights"
   ]
  },
  {
   "cell_type": "code",
   "execution_count": 64,
   "metadata": {
    "colab_type": "code"
   },
   "outputs": [],
   "source": [
    "model = NaiveSequential([\n",
    "    NaiveDense(input_size=28 * 28, output_size=512, activation=tf.nn.relu),\n",
    "    NaiveDense(input_size=512, output_size=10, activation=tf.nn.softmax)\n",
    "])\n",
    "assert len(model.weights) == 4"
   ]
  },
  {
   "cell_type": "markdown",
   "metadata": {
    "colab_type": "text"
   },
   "source": [
    "#### A batch generator"
   ]
  },
  {
   "cell_type": "code",
   "execution_count": 65,
   "metadata": {
    "colab_type": "code"
   },
   "outputs": [],
   "source": [
    "import math\n",
    "\n",
    "class BatchGenerator:\n",
    "    def __init__(self, images, labels, batch_size=128):\n",
    "        assert len(images) == len(labels)\n",
    "        self.index = 0\n",
    "        self.images = images\n",
    "        self.labels = labels\n",
    "        self.batch_size = batch_size\n",
    "        self.num_batches = math.ceil(len(images) / batch_size)\n",
    "\n",
    "    def next(self):\n",
    "        images = self.images[self.index : self.index + self.batch_size]\n",
    "        labels = self.labels[self.index : self.index + self.batch_size]\n",
    "        self.index += self.batch_size\n",
    "        return images, labels"
   ]
  },
  {
   "cell_type": "markdown",
   "metadata": {
    "colab_type": "text"
   },
   "source": [
    "### Running one training step"
   ]
  },
  {
   "cell_type": "code",
   "execution_count": 66,
   "metadata": {
    "colab_type": "code"
   },
   "outputs": [],
   "source": [
    "def one_training_step(model, images_batch, labels_batch):\n",
    "    with tf.GradientTape() as tape:\n",
    "        predictions = model(images_batch)\n",
    "        per_sample_losses = tf.keras.losses.sparse_categorical_crossentropy(\n",
    "            labels_batch, predictions)\n",
    "        average_loss = tf.reduce_mean(per_sample_losses)\n",
    "    gradients = tape.gradient(average_loss, model.weights)\n",
    "    update_weights(gradients, model.weights)\n",
    "    return average_loss"
   ]
  },
  {
   "cell_type": "code",
   "execution_count": 67,
   "metadata": {
    "colab_type": "code"
   },
   "outputs": [],
   "source": [
    "learning_rate = 1e-3\n",
    "\n",
    "def update_weights(gradients, weights):\n",
    "    for g, w in zip(gradients, weights):\n",
    "        w.assign_sub(g * learning_rate)"
   ]
  },
  {
   "cell_type": "code",
   "execution_count": 68,
   "metadata": {
    "colab_type": "code"
   },
   "outputs": [],
   "source": [
    "from tensorflow.keras import optimizers\n",
    "\n",
    "optimizer = optimizers.SGD(learning_rate=1e-3)\n",
    "\n",
    "def update_weights(gradients, weights):\n",
    "    optimizer.apply_gradients(zip(gradients, weights))"
   ]
  },
  {
   "cell_type": "markdown",
   "metadata": {
    "colab_type": "text"
   },
   "source": [
    "### The full training loop"
   ]
  },
  {
   "cell_type": "code",
   "execution_count": 69,
   "metadata": {
    "colab_type": "code"
   },
   "outputs": [],
   "source": [
    "def fit(model, images, labels, epochs, batch_size=128):\n",
    "    for epoch_counter in range(epochs):\n",
    "        print(f\"Epoch {epoch_counter}\")\n",
    "        batch_generator = BatchGenerator(images, labels)\n",
    "        for batch_counter in range(batch_generator.num_batches):\n",
    "            images_batch, labels_batch = batch_generator.next()\n",
    "            loss = one_training_step(model, images_batch, labels_batch)\n",
    "            if batch_counter % 100 == 0:\n",
    "                print(f\"loss at batch {batch_counter}: {loss:.2f}\")"
   ]
  },
  {
   "cell_type": "code",
   "execution_count": 70,
   "metadata": {
    "colab_type": "code"
   },
   "outputs": [
    {
     "name": "stdout",
     "output_type": "stream",
     "text": [
      "Epoch 0\n",
      "loss at batch 0: 7.04\n",
      "loss at batch 100: 2.26\n",
      "loss at batch 200: 2.22\n",
      "loss at batch 300: 2.07\n",
      "loss at batch 400: 2.25\n",
      "Epoch 1\n",
      "loss at batch 0: 1.90\n",
      "loss at batch 100: 1.90\n",
      "loss at batch 200: 1.84\n",
      "loss at batch 300: 1.70\n",
      "loss at batch 400: 1.85\n",
      "Epoch 2\n",
      "loss at batch 0: 1.58\n",
      "loss at batch 100: 1.60\n",
      "loss at batch 200: 1.51\n",
      "loss at batch 300: 1.41\n",
      "loss at batch 400: 1.53\n",
      "Epoch 3\n",
      "loss at batch 0: 1.32\n",
      "loss at batch 100: 1.36\n",
      "loss at batch 200: 1.24\n",
      "loss at batch 300: 1.20\n",
      "loss at batch 400: 1.30\n",
      "Epoch 4\n",
      "loss at batch 0: 1.12\n",
      "loss at batch 100: 1.17\n",
      "loss at batch 200: 1.04\n",
      "loss at batch 300: 1.04\n",
      "loss at batch 400: 1.13\n",
      "Epoch 5\n",
      "loss at batch 0: 0.97\n",
      "loss at batch 100: 1.03\n",
      "loss at batch 200: 0.90\n",
      "loss at batch 300: 0.92\n",
      "loss at batch 400: 1.01\n",
      "Epoch 6\n",
      "loss at batch 0: 0.86\n",
      "loss at batch 100: 0.92\n",
      "loss at batch 200: 0.80\n",
      "loss at batch 300: 0.83\n",
      "loss at batch 400: 0.92\n",
      "Epoch 7\n",
      "loss at batch 0: 0.78\n",
      "loss at batch 100: 0.84\n",
      "loss at batch 200: 0.72\n",
      "loss at batch 300: 0.76\n",
      "loss at batch 400: 0.85\n",
      "Epoch 8\n",
      "loss at batch 0: 0.72\n",
      "loss at batch 100: 0.77\n",
      "loss at batch 200: 0.66\n",
      "loss at batch 300: 0.71\n",
      "loss at batch 400: 0.80\n",
      "Epoch 9\n",
      "loss at batch 0: 0.67\n",
      "loss at batch 100: 0.72\n",
      "loss at batch 200: 0.61\n",
      "loss at batch 300: 0.66\n",
      "loss at batch 400: 0.76\n"
     ]
    }
   ],
   "source": [
    "from tensorflow.keras.datasets import mnist\n",
    "(train_images, train_labels), (test_images, test_labels) = mnist.load_data()\n",
    "\n",
    "train_images = train_images.reshape((60000, 28 * 28))\n",
    "train_images = train_images.astype(\"float32\") / 255\n",
    "test_images = test_images.reshape((10000, 28 * 28))\n",
    "test_images = test_images.astype(\"float32\") / 255\n",
    "\n",
    "fit(model, train_images, train_labels, epochs=10, batch_size=128)"
   ]
  },
  {
   "cell_type": "markdown",
   "metadata": {
    "colab_type": "text"
   },
   "source": [
    "### Evaluating the model"
   ]
  },
  {
   "cell_type": "code",
   "execution_count": 71,
   "metadata": {
    "colab_type": "code"
   },
   "outputs": [
    {
     "name": "stdout",
     "output_type": "stream",
     "text": [
      "accuracy: 0.82\n"
     ]
    }
   ],
   "source": [
    "predictions = model(test_images)\n",
    "predictions = predictions.numpy()\n",
    "predicted_labels = np.argmax(predictions, axis=1)\n",
    "matches = predicted_labels == test_labels\n",
    "print(f\"accuracy: {matches.mean():.2f}\")"
   ]
  },
  {
   "cell_type": "markdown",
   "metadata": {
    "colab_type": "text"
   },
   "source": [
    "## Summary"
   ]
  },
  {
   "cell_type": "code",
   "execution_count": 106,
   "metadata": {},
   "outputs": [],
   "source": [
    "from collections import defaultdict\n",
    "D = defaultdict(list)"
   ]
  },
  {
   "cell_type": "code",
   "execution_count": 111,
   "metadata": {},
   "outputs": [
    {
     "name": "stdout",
     "output_type": "stream",
     "text": [
      "Running 16 neurons, 2 layers\n",
      "Epoch 0\n",
      "loss at batch 0: 2.50\n",
      "loss at batch 100: 1.40\n",
      "loss at batch 200: 0.59\n",
      "loss at batch 300: 0.47\n",
      "loss at batch 400: 0.51\n",
      "Epoch 1\n",
      "loss at batch 0: 0.37\n",
      "loss at batch 100: 0.31\n",
      "loss at batch 200: 0.28\n",
      "loss at batch 300: 0.31\n",
      "loss at batch 400: 0.38\n",
      "Epoch 2\n",
      "loss at batch 0: 0.26\n",
      "loss at batch 100: 0.24\n",
      "loss at batch 200: 0.24\n",
      "loss at batch 300: 0.28\n",
      "loss at batch 400: 0.35\n",
      "Epoch 3\n",
      "loss at batch 0: 0.21\n",
      "loss at batch 100: 0.21\n",
      "loss at batch 200: 0.22\n",
      "loss at batch 300: 0.26\n",
      "loss at batch 400: 0.32\n",
      "Epoch 4\n",
      "loss at batch 0: 0.18\n",
      "loss at batch 100: 0.19\n",
      "loss at batch 200: 0.22\n",
      "loss at batch 300: 0.24\n",
      "loss at batch 400: 0.30\n",
      "Epoch 5\n",
      "loss at batch 0: 0.16\n",
      "loss at batch 100: 0.18\n",
      "loss at batch 200: 0.21\n",
      "loss at batch 300: 0.23\n",
      "loss at batch 400: 0.28\n",
      "Epoch 6\n",
      "loss at batch 0: 0.16\n",
      "loss at batch 100: 0.17\n",
      "loss at batch 200: 0.21\n",
      "loss at batch 300: 0.22\n",
      "loss at batch 400: 0.27\n",
      "Epoch 7\n",
      "loss at batch 0: 0.15\n",
      "loss at batch 100: 0.17\n",
      "loss at batch 200: 0.20\n",
      "loss at batch 300: 0.21\n",
      "loss at batch 400: 0.26\n",
      "Epoch 8\n",
      "loss at batch 0: 0.15\n",
      "loss at batch 100: 0.16\n",
      "loss at batch 200: 0.19\n",
      "loss at batch 300: 0.20\n",
      "loss at batch 400: 0.25\n",
      "Epoch 9\n",
      "loss at batch 0: 0.14\n",
      "loss at batch 100: 0.16\n",
      "loss at batch 200: 0.19\n",
      "loss at batch 300: 0.20\n",
      "loss at batch 400: 0.24\n",
      "accuracy: 0.93\n",
      "Running 16 neurons, 3 layers\n",
      "Epoch 0\n",
      "loss at batch 0: 2.34\n",
      "loss at batch 100: 1.98\n",
      "loss at batch 200: 1.01\n",
      "loss at batch 300: 0.70\n",
      "loss at batch 400: 0.65\n",
      "Epoch 1\n",
      "loss at batch 0: 0.52\n",
      "loss at batch 100: 0.37\n",
      "loss at batch 200: 0.40\n",
      "loss at batch 300: 0.45\n",
      "loss at batch 400: 0.47\n",
      "Epoch 2\n",
      "loss at batch 0: 0.38\n",
      "loss at batch 100: 0.30\n",
      "loss at batch 200: 0.35\n",
      "loss at batch 300: 0.39\n",
      "loss at batch 400: 0.40\n",
      "Epoch 3\n",
      "loss at batch 0: 0.32\n",
      "loss at batch 100: 0.27\n",
      "loss at batch 200: 0.32\n",
      "loss at batch 300: 0.34\n",
      "loss at batch 400: 0.36\n",
      "Epoch 4\n",
      "loss at batch 0: 0.28\n",
      "loss at batch 100: 0.25\n",
      "loss at batch 200: 0.31\n",
      "loss at batch 300: 0.31\n",
      "loss at batch 400: 0.32\n",
      "Epoch 5\n",
      "loss at batch 0: 0.26\n",
      "loss at batch 100: 0.23\n",
      "loss at batch 200: 0.29\n",
      "loss at batch 300: 0.28\n",
      "loss at batch 400: 0.29\n",
      "Epoch 6\n",
      "loss at batch 0: 0.24\n",
      "loss at batch 100: 0.21\n",
      "loss at batch 200: 0.28\n",
      "loss at batch 300: 0.25\n",
      "loss at batch 400: 0.27\n",
      "Epoch 7\n",
      "loss at batch 0: 0.22\n",
      "loss at batch 100: 0.19\n",
      "loss at batch 200: 0.27\n",
      "loss at batch 300: 0.22\n",
      "loss at batch 400: 0.25\n",
      "Epoch 8\n",
      "loss at batch 0: 0.21\n",
      "loss at batch 100: 0.18\n",
      "loss at batch 200: 0.26\n",
      "loss at batch 300: 0.21\n",
      "loss at batch 400: 0.23\n",
      "Epoch 9\n",
      "loss at batch 0: 0.19\n",
      "loss at batch 100: 0.16\n",
      "loss at batch 200: 0.25\n",
      "loss at batch 300: 0.20\n",
      "loss at batch 400: 0.22\n",
      "accuracy: 0.93\n",
      "Running 16 neurons, 4 layers\n",
      "Epoch 0\n",
      "loss at batch 0: 2.34\n",
      "loss at batch 100: 2.05\n",
      "loss at batch 200: 2.01\n",
      "loss at batch 300: 1.84\n",
      "loss at batch 400: 1.50\n",
      "Epoch 1\n",
      "loss at batch 0: 1.43\n",
      "loss at batch 100: 1.12\n",
      "loss at batch 200: 1.01\n",
      "loss at batch 300: 0.73\n",
      "loss at batch 400: 0.71\n",
      "Epoch 2\n",
      "loss at batch 0: 0.66\n",
      "loss at batch 100: 0.42\n",
      "loss at batch 200: 0.43\n",
      "loss at batch 300: 0.40\n",
      "loss at batch 400: 0.39\n",
      "Epoch 3\n",
      "loss at batch 0: 0.44\n",
      "loss at batch 100: 0.29\n",
      "loss at batch 200: 0.32\n",
      "loss at batch 300: 0.31\n",
      "loss at batch 400: 0.33\n",
      "Epoch 4\n",
      "loss at batch 0: 0.35\n",
      "loss at batch 100: 0.25\n",
      "loss at batch 200: 0.29\n",
      "loss at batch 300: 0.26\n",
      "loss at batch 400: 0.28\n",
      "Epoch 5\n",
      "loss at batch 0: 0.28\n",
      "loss at batch 100: 0.22\n",
      "loss at batch 200: 0.25\n",
      "loss at batch 300: 0.22\n",
      "loss at batch 400: 0.25\n",
      "Epoch 6\n",
      "loss at batch 0: 0.24\n",
      "loss at batch 100: 0.19\n",
      "loss at batch 200: 0.22\n",
      "loss at batch 300: 0.19\n",
      "loss at batch 400: 0.22\n",
      "Epoch 7\n",
      "loss at batch 0: 0.22\n",
      "loss at batch 100: 0.17\n",
      "loss at batch 200: 0.19\n",
      "loss at batch 300: 0.17\n",
      "loss at batch 400: 0.20\n",
      "Epoch 8\n",
      "loss at batch 0: 0.21\n",
      "loss at batch 100: 0.16\n",
      "loss at batch 200: 0.18\n",
      "loss at batch 300: 0.16\n",
      "loss at batch 400: 0.19\n",
      "Epoch 9\n",
      "loss at batch 0: 0.20\n",
      "loss at batch 100: 0.15\n",
      "loss at batch 200: 0.17\n",
      "loss at batch 300: 0.14\n",
      "loss at batch 400: 0.18\n",
      "accuracy: 0.93\n",
      "Running 16 neurons, 5 layers\n",
      "Epoch 0\n",
      "loss at batch 0: 2.38\n",
      "loss at batch 100: 2.15\n",
      "loss at batch 200: 2.02\n",
      "loss at batch 300: 1.84\n",
      "loss at batch 400: 1.82\n",
      "Epoch 1\n",
      "loss at batch 0: 1.76\n",
      "loss at batch 100: 1.71\n",
      "loss at batch 200: 1.65\n",
      "loss at batch 300: 1.34\n",
      "loss at batch 400: 1.24\n",
      "Epoch 2\n",
      "loss at batch 0: 1.14\n",
      "loss at batch 100: 0.96\n",
      "loss at batch 200: 0.93\n",
      "loss at batch 300: 0.71\n",
      "loss at batch 400: 0.73\n",
      "Epoch 3\n",
      "loss at batch 0: 0.69\n",
      "loss at batch 100: 0.62\n",
      "loss at batch 200: 0.75\n",
      "loss at batch 300: 0.53\n",
      "loss at batch 400: 0.53\n",
      "Epoch 4\n",
      "loss at batch 0: 0.56\n",
      "loss at batch 100: 0.42\n",
      "loss at batch 200: 0.71\n",
      "loss at batch 300: 0.43\n",
      "loss at batch 400: 0.43\n",
      "Epoch 5\n",
      "loss at batch 0: 0.44\n",
      "loss at batch 100: 0.32\n",
      "loss at batch 200: 0.58\n",
      "loss at batch 300: 0.40\n",
      "loss at batch 400: 0.36\n",
      "Epoch 6\n",
      "loss at batch 0: 0.31\n",
      "loss at batch 100: 0.30\n",
      "loss at batch 200: 0.53\n",
      "loss at batch 300: 0.36\n",
      "loss at batch 400: 0.34\n",
      "Epoch 7\n",
      "loss at batch 0: 0.25\n",
      "loss at batch 100: 0.27\n",
      "loss at batch 200: 0.49\n",
      "loss at batch 300: 0.34\n",
      "loss at batch 400: 0.33\n",
      "Epoch 8\n",
      "loss at batch 0: 0.21\n",
      "loss at batch 100: 0.25\n",
      "loss at batch 200: 0.46\n",
      "loss at batch 300: 0.31\n",
      "loss at batch 400: 0.33\n",
      "Epoch 9\n",
      "loss at batch 0: 0.18\n",
      "loss at batch 100: 0.24\n",
      "loss at batch 200: 0.41\n",
      "loss at batch 300: 0.28\n",
      "loss at batch 400: 0.32\n",
      "accuracy: 0.90\n",
      "Running 32 neurons, 2 layers\n",
      "Epoch 0\n",
      "loss at batch 0: 2.67\n",
      "loss at batch 100: 1.03\n",
      "loss at batch 200: 0.51\n",
      "loss at batch 300: 0.40\n",
      "loss at batch 400: 0.46\n",
      "Epoch 1\n",
      "loss at batch 0: 0.31\n",
      "loss at batch 100: 0.27\n",
      "loss at batch 200: 0.26\n",
      "loss at batch 300: 0.28\n",
      "loss at batch 400: 0.36\n",
      "Epoch 2\n",
      "loss at batch 0: 0.22\n",
      "loss at batch 100: 0.22\n",
      "loss at batch 200: 0.23\n",
      "loss at batch 300: 0.25\n",
      "loss at batch 400: 0.33\n",
      "Epoch 3\n",
      "loss at batch 0: 0.18\n",
      "loss at batch 100: 0.20\n",
      "loss at batch 200: 0.23\n",
      "loss at batch 300: 0.23\n",
      "loss at batch 400: 0.29\n",
      "Epoch 4\n",
      "loss at batch 0: 0.16\n",
      "loss at batch 100: 0.18\n",
      "loss at batch 200: 0.23\n",
      "loss at batch 300: 0.21\n",
      "loss at batch 400: 0.26\n",
      "Epoch 5\n",
      "loss at batch 0: 0.15\n",
      "loss at batch 100: 0.17\n",
      "loss at batch 200: 0.23\n",
      "loss at batch 300: 0.20\n",
      "loss at batch 400: 0.22\n",
      "Epoch 6\n",
      "loss at batch 0: 0.14\n",
      "loss at batch 100: 0.15\n",
      "loss at batch 200: 0.22\n",
      "loss at batch 300: 0.18\n",
      "loss at batch 400: 0.19\n",
      "Epoch 7\n",
      "loss at batch 0: 0.13\n",
      "loss at batch 100: 0.14\n",
      "loss at batch 200: 0.22\n",
      "loss at batch 300: 0.16\n",
      "loss at batch 400: 0.17\n",
      "Epoch 8\n",
      "loss at batch 0: 0.12\n",
      "loss at batch 100: 0.13\n",
      "loss at batch 200: 0.21\n",
      "loss at batch 300: 0.15\n",
      "loss at batch 400: 0.16\n",
      "Epoch 9\n",
      "loss at batch 0: 0.11\n",
      "loss at batch 100: 0.11\n",
      "loss at batch 200: 0.19\n",
      "loss at batch 300: 0.13\n",
      "loss at batch 400: 0.15\n",
      "accuracy: 0.95\n",
      "Running 32 neurons, 3 layers\n",
      "Epoch 0\n",
      "loss at batch 0: 3.09\n",
      "loss at batch 100: 1.91\n",
      "loss at batch 200: 0.74\n",
      "loss at batch 300: 0.52\n",
      "loss at batch 400: 0.55\n",
      "Epoch 1\n",
      "loss at batch 0: 0.41\n",
      "loss at batch 100: 0.34\n",
      "loss at batch 200: 0.34\n",
      "loss at batch 300: 0.33\n",
      "loss at batch 400: 0.39\n",
      "Epoch 2\n",
      "loss at batch 0: 0.28\n",
      "loss at batch 100: 0.27\n",
      "loss at batch 200: 0.30\n",
      "loss at batch 300: 0.27\n",
      "loss at batch 400: 0.33\n",
      "Epoch 3\n",
      "loss at batch 0: 0.21\n",
      "loss at batch 100: 0.22\n",
      "loss at batch 200: 0.26\n",
      "loss at batch 300: 0.22\n",
      "loss at batch 400: 0.26\n",
      "Epoch 4\n",
      "loss at batch 0: 0.18\n",
      "loss at batch 100: 0.19\n",
      "loss at batch 200: 0.22\n",
      "loss at batch 300: 0.18\n",
      "loss at batch 400: 0.21\n",
      "Epoch 5\n",
      "loss at batch 0: 0.16\n",
      "loss at batch 100: 0.17\n",
      "loss at batch 200: 0.20\n",
      "loss at batch 300: 0.16\n",
      "loss at batch 400: 0.18\n",
      "Epoch 6\n",
      "loss at batch 0: 0.14\n",
      "loss at batch 100: 0.15\n",
      "loss at batch 200: 0.18\n",
      "loss at batch 300: 0.14\n",
      "loss at batch 400: 0.15\n",
      "Epoch 7\n",
      "loss at batch 0: 0.13\n",
      "loss at batch 100: 0.14\n",
      "loss at batch 200: 0.17\n",
      "loss at batch 300: 0.13\n",
      "loss at batch 400: 0.14\n",
      "Epoch 8\n",
      "loss at batch 0: 0.12\n",
      "loss at batch 100: 0.12\n",
      "loss at batch 200: 0.16\n",
      "loss at batch 300: 0.12\n",
      "loss at batch 400: 0.13\n",
      "Epoch 9\n",
      "loss at batch 0: 0.11\n",
      "loss at batch 100: 0.11\n",
      "loss at batch 200: 0.15\n",
      "loss at batch 300: 0.10\n",
      "loss at batch 400: 0.12\n",
      "accuracy: 0.96\n",
      "Running 32 neurons, 4 layers\n",
      "Epoch 0\n",
      "loss at batch 0: 2.98\n",
      "loss at batch 100: 2.15\n",
      "loss at batch 200: 1.83\n",
      "loss at batch 300: 1.50\n",
      "loss at batch 400: 1.23\n",
      "Epoch 1\n",
      "loss at batch 0: 1.09\n",
      "loss at batch 100: 0.74\n",
      "loss at batch 200: 0.53\n",
      "loss at batch 300: 0.39\n",
      "loss at batch 400: 0.43\n",
      "Epoch 2\n",
      "loss at batch 0: 0.32\n",
      "loss at batch 100: 0.27\n",
      "loss at batch 200: 0.32\n",
      "loss at batch 300: 0.25\n",
      "loss at batch 400: 0.23\n",
      "Epoch 3\n",
      "loss at batch 0: 0.22\n",
      "loss at batch 100: 0.20\n",
      "loss at batch 200: 0.24\n",
      "loss at batch 300: 0.19\n",
      "loss at batch 400: 0.19\n",
      "Epoch 4\n",
      "loss at batch 0: 0.18\n",
      "loss at batch 100: 0.15\n",
      "loss at batch 200: 0.19\n",
      "loss at batch 300: 0.16\n",
      "loss at batch 400: 0.16\n",
      "Epoch 5\n",
      "loss at batch 0: 0.15\n",
      "loss at batch 100: 0.12\n",
      "loss at batch 200: 0.16\n",
      "loss at batch 300: 0.15\n",
      "loss at batch 400: 0.15\n",
      "Epoch 6\n",
      "loss at batch 0: 0.13\n",
      "loss at batch 100: 0.12\n",
      "loss at batch 200: 0.14\n",
      "loss at batch 300: 0.14\n",
      "loss at batch 400: 0.14\n",
      "Epoch 7\n",
      "loss at batch 0: 0.11\n",
      "loss at batch 100: 0.11\n",
      "loss at batch 200: 0.12\n",
      "loss at batch 300: 0.13\n",
      "loss at batch 400: 0.13\n",
      "Epoch 8\n",
      "loss at batch 0: 0.10\n",
      "loss at batch 100: 0.10\n",
      "loss at batch 200: 0.11\n",
      "loss at batch 300: 0.12\n",
      "loss at batch 400: 0.13\n",
      "Epoch 9\n",
      "loss at batch 0: 0.09\n",
      "loss at batch 100: 0.10\n",
      "loss at batch 200: 0.09\n",
      "loss at batch 300: 0.11\n",
      "loss at batch 400: 0.12\n",
      "accuracy: 0.96\n",
      "Running 32 neurons, 5 layers\n",
      "Epoch 0\n",
      "loss at batch 0: 7.38\n",
      "loss at batch 100: 2.27\n",
      "loss at batch 200: 2.15\n",
      "loss at batch 300: 1.94\n",
      "loss at batch 400: 1.91\n",
      "Epoch 1\n",
      "loss at batch 0: 1.89\n",
      "loss at batch 100: 1.85\n",
      "loss at batch 200: 1.85\n",
      "loss at batch 300: 1.65\n",
      "loss at batch 400: 1.64\n",
      "Epoch 2\n",
      "loss at batch 0: 1.54\n",
      "loss at batch 100: 1.32\n",
      "loss at batch 200: 1.25\n",
      "loss at batch 300: 0.94\n",
      "loss at batch 400: 0.97\n",
      "Epoch 3\n",
      "loss at batch 0: 0.89\n",
      "loss at batch 100: 0.75\n",
      "loss at batch 200: 0.76\n",
      "loss at batch 300: 0.49\n",
      "loss at batch 400: 0.47\n",
      "Epoch 4\n",
      "loss at batch 0: 0.54\n",
      "loss at batch 100: 0.38\n",
      "loss at batch 200: 0.50\n",
      "loss at batch 300: 0.37\n",
      "loss at batch 400: 0.32\n",
      "Epoch 5\n",
      "loss at batch 0: 0.31\n",
      "loss at batch 100: 0.31\n",
      "loss at batch 200: 0.41\n",
      "loss at batch 300: 0.29\n",
      "loss at batch 400: 0.27\n",
      "Epoch 6\n",
      "loss at batch 0: 0.24\n",
      "loss at batch 100: 0.23\n",
      "loss at batch 200: 0.30\n",
      "loss at batch 300: 0.21\n",
      "loss at batch 400: 0.23\n",
      "Epoch 7\n",
      "loss at batch 0: 0.20\n",
      "loss at batch 100: 0.19\n",
      "loss at batch 200: 0.26\n",
      "loss at batch 300: 0.17\n",
      "loss at batch 400: 0.23\n",
      "Epoch 8\n",
      "loss at batch 0: 0.16\n",
      "loss at batch 100: 0.18\n",
      "loss at batch 200: 0.23\n",
      "loss at batch 300: 0.16\n",
      "loss at batch 400: 0.20\n",
      "Epoch 9\n",
      "loss at batch 0: 0.14\n",
      "loss at batch 100: 0.16\n",
      "loss at batch 200: 0.21\n",
      "loss at batch 300: 0.16\n",
      "loss at batch 400: 0.19\n",
      "accuracy: 0.94\n",
      "Running 64 neurons, 2 layers\n",
      "Epoch 0\n",
      "loss at batch 0: 3.43\n",
      "loss at batch 100: 0.86\n",
      "loss at batch 200: 0.43\n",
      "loss at batch 300: 0.37\n",
      "loss at batch 400: 0.42\n",
      "Epoch 1\n",
      "loss at batch 0: 0.31\n",
      "loss at batch 100: 0.26\n",
      "loss at batch 200: 0.25\n",
      "loss at batch 300: 0.27\n",
      "loss at batch 400: 0.34\n",
      "Epoch 2\n",
      "loss at batch 0: 0.22\n",
      "loss at batch 100: 0.21\n",
      "loss at batch 200: 0.22\n",
      "loss at batch 300: 0.25\n",
      "loss at batch 400: 0.32\n",
      "Epoch 3\n",
      "loss at batch 0: 0.18\n",
      "loss at batch 100: 0.19\n",
      "loss at batch 200: 0.21\n",
      "loss at batch 300: 0.23\n",
      "loss at batch 400: 0.29\n",
      "Epoch 4\n",
      "loss at batch 0: 0.15\n",
      "loss at batch 100: 0.18\n",
      "loss at batch 200: 0.20\n",
      "loss at batch 300: 0.21\n",
      "loss at batch 400: 0.26\n",
      "Epoch 5\n",
      "loss at batch 0: 0.14\n",
      "loss at batch 100: 0.17\n",
      "loss at batch 200: 0.19\n",
      "loss at batch 300: 0.19\n",
      "loss at batch 400: 0.23\n",
      "Epoch 6\n",
      "loss at batch 0: 0.13\n",
      "loss at batch 100: 0.16\n",
      "loss at batch 200: 0.17\n",
      "loss at batch 300: 0.17\n",
      "loss at batch 400: 0.19\n",
      "Epoch 7\n",
      "loss at batch 0: 0.12\n",
      "loss at batch 100: 0.14\n",
      "loss at batch 200: 0.15\n",
      "loss at batch 300: 0.15\n",
      "loss at batch 400: 0.16\n",
      "Epoch 8\n",
      "loss at batch 0: 0.11\n",
      "loss at batch 100: 0.12\n",
      "loss at batch 200: 0.14\n",
      "loss at batch 300: 0.13\n",
      "loss at batch 400: 0.15\n",
      "Epoch 9\n",
      "loss at batch 0: 0.10\n",
      "loss at batch 100: 0.10\n",
      "loss at batch 200: 0.13\n",
      "loss at batch 300: 0.12\n",
      "loss at batch 400: 0.14\n",
      "accuracy: 0.96\n",
      "Running 64 neurons, 3 layers\n",
      "Epoch 0\n",
      "loss at batch 0: 4.23\n",
      "loss at batch 100: 1.51\n",
      "loss at batch 200: 0.59\n",
      "loss at batch 300: 0.46\n",
      "loss at batch 400: 0.52\n",
      "Epoch 1\n",
      "loss at batch 0: 0.35\n",
      "loss at batch 100: 0.25\n",
      "loss at batch 200: 0.27\n",
      "loss at batch 300: 0.28\n",
      "loss at batch 400: 0.35\n",
      "Epoch 2\n",
      "loss at batch 0: 0.23\n",
      "loss at batch 100: 0.19\n",
      "loss at batch 200: 0.24\n",
      "loss at batch 300: 0.22\n",
      "loss at batch 400: 0.27\n",
      "Epoch 3\n",
      "loss at batch 0: 0.16\n",
      "loss at batch 100: 0.15\n",
      "loss at batch 200: 0.22\n",
      "loss at batch 300: 0.18\n",
      "loss at batch 400: 0.21\n",
      "Epoch 4\n",
      "loss at batch 0: 0.13\n",
      "loss at batch 100: 0.12\n",
      "loss at batch 200: 0.19\n",
      "loss at batch 300: 0.15\n",
      "loss at batch 400: 0.17\n",
      "Epoch 5\n",
      "loss at batch 0: 0.12\n",
      "loss at batch 100: 0.10\n",
      "loss at batch 200: 0.17\n",
      "loss at batch 300: 0.12\n",
      "loss at batch 400: 0.15\n",
      "Epoch 6\n",
      "loss at batch 0: 0.10\n",
      "loss at batch 100: 0.08\n",
      "loss at batch 200: 0.15\n",
      "loss at batch 300: 0.10\n",
      "loss at batch 400: 0.13\n",
      "Epoch 7\n",
      "loss at batch 0: 0.09\n",
      "loss at batch 100: 0.07\n",
      "loss at batch 200: 0.13\n",
      "loss at batch 300: 0.08\n",
      "loss at batch 400: 0.13\n",
      "Epoch 8\n",
      "loss at batch 0: 0.08\n",
      "loss at batch 100: 0.06\n",
      "loss at batch 200: 0.12\n",
      "loss at batch 300: 0.07\n",
      "loss at batch 400: 0.12\n",
      "Epoch 9\n",
      "loss at batch 0: 0.07\n",
      "loss at batch 100: 0.05\n",
      "loss at batch 200: 0.11\n",
      "loss at batch 300: 0.06\n",
      "loss at batch 400: 0.11\n",
      "accuracy: 0.97\n",
      "Running 64 neurons, 4 layers\n",
      "Epoch 0\n",
      "loss at batch 0: 9.99\n",
      "loss at batch 100: 2.27\n",
      "loss at batch 200: 2.09\n",
      "loss at batch 300: 1.61\n",
      "loss at batch 400: 0.92\n",
      "Epoch 1\n",
      "loss at batch 0: 0.72\n",
      "loss at batch 100: 0.42\n",
      "loss at batch 200: 0.44\n",
      "loss at batch 300: 0.39\n",
      "loss at batch 400: 0.45\n",
      "Epoch 2\n",
      "loss at batch 0: 0.29\n",
      "loss at batch 100: 0.24\n",
      "loss at batch 200: 0.32\n",
      "loss at batch 300: 0.27\n",
      "loss at batch 400: 0.33\n",
      "Epoch 3\n",
      "loss at batch 0: 0.20\n",
      "loss at batch 100: 0.17\n",
      "loss at batch 200: 0.26\n",
      "loss at batch 300: 0.20\n",
      "loss at batch 400: 0.23\n",
      "Epoch 4\n",
      "loss at batch 0: 0.16\n",
      "loss at batch 100: 0.12\n",
      "loss at batch 200: 0.21\n",
      "loss at batch 300: 0.16\n",
      "loss at batch 400: 0.17\n",
      "Epoch 5\n",
      "loss at batch 0: 0.14\n",
      "loss at batch 100: 0.09\n",
      "loss at batch 200: 0.17\n",
      "loss at batch 300: 0.14\n",
      "loss at batch 400: 0.14\n",
      "Epoch 6\n",
      "loss at batch 0: 0.11\n",
      "loss at batch 100: 0.08\n",
      "loss at batch 200: 0.15\n",
      "loss at batch 300: 0.13\n",
      "loss at batch 400: 0.12\n",
      "Epoch 7\n",
      "loss at batch 0: 0.09\n",
      "loss at batch 100: 0.06\n",
      "loss at batch 200: 0.13\n",
      "loss at batch 300: 0.11\n",
      "loss at batch 400: 0.11\n",
      "Epoch 8\n",
      "loss at batch 0: 0.08\n",
      "loss at batch 100: 0.05\n",
      "loss at batch 200: 0.12\n",
      "loss at batch 300: 0.10\n",
      "loss at batch 400: 0.11\n",
      "Epoch 9\n",
      "loss at batch 0: 0.07\n",
      "loss at batch 100: 0.03\n",
      "loss at batch 200: 0.11\n",
      "loss at batch 300: 0.09\n",
      "loss at batch 400: 0.10\n",
      "accuracy: 0.96\n",
      "Running 64 neurons, 5 layers\n",
      "Epoch 0\n",
      "loss at batch 0: 15.34\n",
      "loss at batch 100: 2.30\n",
      "loss at batch 200: 2.30\n",
      "loss at batch 300: 2.30\n",
      "loss at batch 400: 2.31\n",
      "Epoch 1\n",
      "loss at batch 0: 2.29\n",
      "loss at batch 100: 2.30\n",
      "loss at batch 200: 2.30\n",
      "loss at batch 300: 2.29\n",
      "loss at batch 400: 2.31\n",
      "Epoch 2\n",
      "loss at batch 0: 2.29\n",
      "loss at batch 100: 2.30\n",
      "loss at batch 200: 2.30\n",
      "loss at batch 300: 2.29\n",
      "loss at batch 400: 2.31\n",
      "Epoch 3\n",
      "loss at batch 0: 2.29\n",
      "loss at batch 100: 2.30\n",
      "loss at batch 200: 2.30\n",
      "loss at batch 300: 2.29\n",
      "loss at batch 400: 2.31\n",
      "Epoch 4\n",
      "loss at batch 0: 2.29\n",
      "loss at batch 100: 2.30\n",
      "loss at batch 200: 2.30\n",
      "loss at batch 300: 2.29\n",
      "loss at batch 400: 2.31\n",
      "Epoch 5\n",
      "loss at batch 0: 2.29\n",
      "loss at batch 100: 2.30\n",
      "loss at batch 200: 2.30\n",
      "loss at batch 300: 2.29\n",
      "loss at batch 400: 2.31\n",
      "Epoch 6\n",
      "loss at batch 0: 2.29\n",
      "loss at batch 100: 2.30\n",
      "loss at batch 200: 2.30\n",
      "loss at batch 300: 2.29\n",
      "loss at batch 400: 2.31\n",
      "Epoch 7\n",
      "loss at batch 0: 2.29\n",
      "loss at batch 100: 2.30\n",
      "loss at batch 200: 2.30\n",
      "loss at batch 300: 2.29\n",
      "loss at batch 400: 2.31\n",
      "Epoch 8\n",
      "loss at batch 0: 2.29\n",
      "loss at batch 100: 2.30\n",
      "loss at batch 200: 2.30\n",
      "loss at batch 300: 2.29\n",
      "loss at batch 400: 2.31\n",
      "Epoch 9\n",
      "loss at batch 0: 2.29\n",
      "loss at batch 100: 2.30\n",
      "loss at batch 200: 2.30\n",
      "loss at batch 300: 2.29\n",
      "loss at batch 400: 2.31\n",
      "accuracy: 0.11\n",
      "Running 128 neurons, 2 layers\n",
      "Epoch 0\n",
      "loss at batch 0: 3.23\n",
      "loss at batch 100: 0.61\n",
      "loss at batch 200: 0.37\n",
      "loss at batch 300: 0.34\n",
      "loss at batch 400: 0.41\n",
      "Epoch 1\n",
      "loss at batch 0: 0.29\n",
      "loss at batch 100: 0.24\n",
      "loss at batch 200: 0.24\n",
      "loss at batch 300: 0.26\n",
      "loss at batch 400: 0.34\n",
      "Epoch 2\n",
      "loss at batch 0: 0.21\n",
      "loss at batch 100: 0.21\n",
      "loss at batch 200: 0.24\n",
      "loss at batch 300: 0.25\n",
      "loss at batch 400: 0.31\n",
      "Epoch 3\n",
      "loss at batch 0: 0.18\n",
      "loss at batch 100: 0.19\n",
      "loss at batch 200: 0.24\n",
      "loss at batch 300: 0.24\n",
      "loss at batch 400: 0.28\n",
      "Epoch 4\n",
      "loss at batch 0: 0.17\n",
      "loss at batch 100: 0.18\n",
      "loss at batch 200: 0.22\n",
      "loss at batch 300: 0.22\n",
      "loss at batch 400: 0.24\n",
      "Epoch 5\n",
      "loss at batch 0: 0.15\n",
      "loss at batch 100: 0.17\n",
      "loss at batch 200: 0.20\n",
      "loss at batch 300: 0.18\n",
      "loss at batch 400: 0.20\n",
      "Epoch 6\n",
      "loss at batch 0: 0.14\n",
      "loss at batch 100: 0.14\n",
      "loss at batch 200: 0.17\n",
      "loss at batch 300: 0.15\n",
      "loss at batch 400: 0.17\n",
      "Epoch 7\n",
      "loss at batch 0: 0.12\n",
      "loss at batch 100: 0.11\n",
      "loss at batch 200: 0.15\n",
      "loss at batch 300: 0.12\n",
      "loss at batch 400: 0.14\n",
      "Epoch 8\n",
      "loss at batch 0: 0.10\n",
      "loss at batch 100: 0.08\n",
      "loss at batch 200: 0.12\n",
      "loss at batch 300: 0.10\n",
      "loss at batch 400: 0.12\n",
      "Epoch 9\n",
      "loss at batch 0: 0.09\n",
      "loss at batch 100: 0.07\n",
      "loss at batch 200: 0.10\n",
      "loss at batch 300: 0.09\n",
      "loss at batch 400: 0.11\n",
      "accuracy: 0.96\n",
      "Running 128 neurons, 3 layers\n",
      "Epoch 0\n",
      "loss at batch 0: 13.08\n",
      "loss at batch 100: 1.49\n",
      "loss at batch 200: 0.53\n",
      "loss at batch 300: 0.37\n",
      "loss at batch 400: 0.54\n",
      "Epoch 1\n",
      "loss at batch 0: 0.31\n",
      "loss at batch 100: 0.24\n",
      "loss at batch 200: 0.25\n",
      "loss at batch 300: 0.27\n",
      "loss at batch 400: 0.34\n",
      "Epoch 2\n",
      "loss at batch 0: 0.19\n",
      "loss at batch 100: 0.18\n",
      "loss at batch 200: 0.22\n",
      "loss at batch 300: 0.20\n",
      "loss at batch 400: 0.25\n",
      "Epoch 3\n",
      "loss at batch 0: 0.13\n",
      "loss at batch 100: 0.13\n",
      "loss at batch 200: 0.20\n",
      "loss at batch 300: 0.17\n",
      "loss at batch 400: 0.20\n",
      "Epoch 4\n",
      "loss at batch 0: 0.11\n",
      "loss at batch 100: 0.10\n",
      "loss at batch 200: 0.17\n",
      "loss at batch 300: 0.14\n",
      "loss at batch 400: 0.17\n",
      "Epoch 5\n",
      "loss at batch 0: 0.09\n",
      "loss at batch 100: 0.08\n",
      "loss at batch 200: 0.13\n",
      "loss at batch 300: 0.12\n",
      "loss at batch 400: 0.15\n",
      "Epoch 6\n",
      "loss at batch 0: 0.09\n",
      "loss at batch 100: 0.07\n",
      "loss at batch 200: 0.09\n",
      "loss at batch 300: 0.10\n",
      "loss at batch 400: 0.13\n",
      "Epoch 7\n",
      "loss at batch 0: 0.07\n",
      "loss at batch 100: 0.06\n",
      "loss at batch 200: 0.07\n",
      "loss at batch 300: 0.09\n",
      "loss at batch 400: 0.11\n",
      "Epoch 8\n",
      "loss at batch 0: 0.06\n",
      "loss at batch 100: 0.05\n",
      "loss at batch 200: 0.05\n",
      "loss at batch 300: 0.07\n",
      "loss at batch 400: 0.10\n",
      "Epoch 9\n",
      "loss at batch 0: 0.05\n",
      "loss at batch 100: 0.05\n",
      "loss at batch 200: 0.04\n",
      "loss at batch 300: 0.06\n",
      "loss at batch 400: 0.09\n",
      "accuracy: 0.97\n",
      "Running 128 neurons, 4 layers\n",
      "Epoch 0\n",
      "loss at batch 0: 14.76\n",
      "loss at batch 100: 14.48\n",
      "loss at batch 200: 14.48\n",
      "loss at batch 300: 14.73\n",
      "loss at batch 400: 14.86\n",
      "Epoch 1\n",
      "loss at batch 0: 15.36\n",
      "loss at batch 100: 14.48\n",
      "loss at batch 200: 14.48\n",
      "loss at batch 300: 14.73\n",
      "loss at batch 400: 14.86\n",
      "Epoch 2\n",
      "loss at batch 0: 15.36\n",
      "loss at batch 100: 14.48\n",
      "loss at batch 200: 14.48\n",
      "loss at batch 300: 14.73\n",
      "loss at batch 400: 14.86\n",
      "Epoch 3\n",
      "loss at batch 0: 15.36\n",
      "loss at batch 100: 14.48\n",
      "loss at batch 200: 14.48\n",
      "loss at batch 300: 14.73\n",
      "loss at batch 400: 14.86\n",
      "Epoch 4\n",
      "loss at batch 0: 15.36\n",
      "loss at batch 100: 14.48\n",
      "loss at batch 200: 14.48\n",
      "loss at batch 300: 14.73\n",
      "loss at batch 400: 14.86\n",
      "Epoch 5\n",
      "loss at batch 0: 15.36\n",
      "loss at batch 100: 14.48\n",
      "loss at batch 200: 14.48\n",
      "loss at batch 300: 14.73\n",
      "loss at batch 400: 14.86\n",
      "Epoch 6\n",
      "loss at batch 0: 15.36\n",
      "loss at batch 100: 14.48\n",
      "loss at batch 200: 14.48\n",
      "loss at batch 300: 14.73\n",
      "loss at batch 400: 14.86\n",
      "Epoch 7\n",
      "loss at batch 0: 15.36\n",
      "loss at batch 100: 14.48\n",
      "loss at batch 200: 14.48\n",
      "loss at batch 300: 14.73\n",
      "loss at batch 400: 14.86\n",
      "Epoch 8\n",
      "loss at batch 0: 15.36\n",
      "loss at batch 100: 14.48\n",
      "loss at batch 200: 14.48\n",
      "loss at batch 300: 14.73\n",
      "loss at batch 400: 14.86\n",
      "Epoch 9\n",
      "loss at batch 0: 15.36\n",
      "loss at batch 100: 14.48\n",
      "loss at batch 200: 14.48\n",
      "loss at batch 300: 14.73\n",
      "loss at batch 400: 14.86\n",
      "accuracy: 0.09\n",
      "Running 128 neurons, 5 layers\n",
      "Epoch 0\n",
      "loss at batch 0: 14.48\n",
      "loss at batch 100: 14.61\n",
      "loss at batch 200: 14.73\n",
      "loss at batch 300: 14.10\n",
      "loss at batch 400: 14.48\n",
      "Epoch 1\n",
      "loss at batch 0: 14.48\n",
      "loss at batch 100: 14.61\n",
      "loss at batch 200: 14.73\n",
      "loss at batch 300: 14.10\n",
      "loss at batch 400: 14.48\n",
      "Epoch 2\n",
      "loss at batch 0: 14.48\n",
      "loss at batch 100: 14.61\n",
      "loss at batch 200: 14.73\n",
      "loss at batch 300: 14.10\n",
      "loss at batch 400: 14.48\n",
      "Epoch 3\n",
      "loss at batch 0: 14.48\n",
      "loss at batch 100: 14.61\n",
      "loss at batch 200: 14.73\n",
      "loss at batch 300: 14.10\n",
      "loss at batch 400: 14.48\n",
      "Epoch 4\n",
      "loss at batch 0: 14.48\n",
      "loss at batch 100: 14.61\n",
      "loss at batch 200: 14.73\n",
      "loss at batch 300: 14.10\n",
      "loss at batch 400: 14.48\n",
      "Epoch 5\n",
      "loss at batch 0: 14.48\n",
      "loss at batch 100: 14.61\n",
      "loss at batch 200: 14.73\n",
      "loss at batch 300: 14.10\n",
      "loss at batch 400: 14.48\n",
      "Epoch 6\n",
      "loss at batch 0: 14.48\n",
      "loss at batch 100: 14.61\n",
      "loss at batch 200: 14.73\n",
      "loss at batch 300: 14.10\n",
      "loss at batch 400: 14.48\n",
      "Epoch 7\n",
      "loss at batch 0: 14.48\n",
      "loss at batch 100: 14.61\n",
      "loss at batch 200: 14.73\n",
      "loss at batch 300: 14.10\n",
      "loss at batch 400: 14.48\n",
      "Epoch 8\n",
      "loss at batch 0: 14.48\n",
      "loss at batch 100: 14.61\n",
      "loss at batch 200: 14.73\n",
      "loss at batch 300: 14.10\n",
      "loss at batch 400: 14.48\n",
      "Epoch 9\n",
      "loss at batch 0: 14.48\n",
      "loss at batch 100: 14.61\n",
      "loss at batch 200: 14.73\n",
      "loss at batch 300: 14.10\n",
      "loss at batch 400: 14.48\n",
      "accuracy: 0.10\n",
      "Running 256 neurons, 2 layers\n",
      "Epoch 0\n",
      "loss at batch 0: 3.53\n",
      "loss at batch 100: 0.49\n",
      "loss at batch 200: 0.32\n",
      "loss at batch 300: 0.31\n",
      "loss at batch 400: 0.43\n",
      "Epoch 1\n",
      "loss at batch 0: 0.25\n",
      "loss at batch 100: 0.21\n",
      "loss at batch 200: 0.24\n",
      "loss at batch 300: 0.28\n",
      "loss at batch 400: 0.36\n",
      "Epoch 2\n",
      "loss at batch 0: 0.20\n",
      "loss at batch 100: 0.20\n",
      "loss at batch 200: 0.24\n",
      "loss at batch 300: 0.25\n",
      "loss at batch 400: 0.32\n",
      "Epoch 3\n",
      "loss at batch 0: 0.19\n",
      "loss at batch 100: 0.20\n",
      "loss at batch 200: 0.25\n",
      "loss at batch 300: 0.23\n",
      "loss at batch 400: 0.29\n",
      "Epoch 4\n",
      "loss at batch 0: 0.17\n",
      "loss at batch 100: 0.19\n",
      "loss at batch 200: 0.25\n",
      "loss at batch 300: 0.21\n",
      "loss at batch 400: 0.26\n",
      "Epoch 5\n",
      "loss at batch 0: 0.16\n",
      "loss at batch 100: 0.17\n",
      "loss at batch 200: 0.22\n",
      "loss at batch 300: 0.18\n",
      "loss at batch 400: 0.21\n",
      "Epoch 6\n",
      "loss at batch 0: 0.15\n",
      "loss at batch 100: 0.14\n",
      "loss at batch 200: 0.19\n",
      "loss at batch 300: 0.15\n",
      "loss at batch 400: 0.17\n",
      "Epoch 7\n",
      "loss at batch 0: 0.14\n",
      "loss at batch 100: 0.11\n",
      "loss at batch 200: 0.14\n",
      "loss at batch 300: 0.12\n",
      "loss at batch 400: 0.15\n",
      "Epoch 8\n",
      "loss at batch 0: 0.11\n",
      "loss at batch 100: 0.09\n",
      "loss at batch 200: 0.12\n",
      "loss at batch 300: 0.09\n",
      "loss at batch 400: 0.13\n",
      "Epoch 9\n",
      "loss at batch 0: 0.09\n",
      "loss at batch 100: 0.07\n",
      "loss at batch 200: 0.10\n",
      "loss at batch 300: 0.08\n",
      "loss at batch 400: 0.11\n",
      "accuracy: 0.97\n",
      "Running 256 neurons, 3 layers\n",
      "Epoch 0\n",
      "loss at batch 0: 14.98\n",
      "loss at batch 100: 14.48\n",
      "loss at batch 200: 14.48\n",
      "loss at batch 300: 13.10\n",
      "loss at batch 400: 14.98\n",
      "Epoch 1\n",
      "loss at batch 0: 13.60\n",
      "loss at batch 100: 14.48\n",
      "loss at batch 200: 14.48\n",
      "loss at batch 300: 13.10\n",
      "loss at batch 400: 14.98\n",
      "Epoch 2\n",
      "loss at batch 0: 13.60\n",
      "loss at batch 100: 14.48\n",
      "loss at batch 200: 14.48\n",
      "loss at batch 300: 13.10\n",
      "loss at batch 400: 14.98\n",
      "Epoch 3\n",
      "loss at batch 0: 13.60\n",
      "loss at batch 100: 14.48\n",
      "loss at batch 200: 14.48\n",
      "loss at batch 300: 13.10\n",
      "loss at batch 400: 14.98\n",
      "Epoch 4\n",
      "loss at batch 0: 13.60\n",
      "loss at batch 100: 14.48\n",
      "loss at batch 200: 14.48\n",
      "loss at batch 300: 13.10\n",
      "loss at batch 400: 14.98\n",
      "Epoch 5\n",
      "loss at batch 0: 13.60\n",
      "loss at batch 100: 14.48\n",
      "loss at batch 200: 14.48\n",
      "loss at batch 300: 13.10\n",
      "loss at batch 400: 14.98\n",
      "Epoch 6\n",
      "loss at batch 0: 13.60\n",
      "loss at batch 100: 14.48\n",
      "loss at batch 200: 14.48\n",
      "loss at batch 300: 13.10\n",
      "loss at batch 400: 14.98\n",
      "Epoch 7\n",
      "loss at batch 0: 13.60\n",
      "loss at batch 100: 14.48\n",
      "loss at batch 200: 14.48\n",
      "loss at batch 300: 13.10\n",
      "loss at batch 400: 14.98\n",
      "Epoch 8\n",
      "loss at batch 0: 13.60\n",
      "loss at batch 100: 14.48\n",
      "loss at batch 200: 14.48\n",
      "loss at batch 300: 13.10\n",
      "loss at batch 400: 14.98\n",
      "Epoch 9\n",
      "loss at batch 0: 13.60\n",
      "loss at batch 100: 14.48\n",
      "loss at batch 200: 14.48\n",
      "loss at batch 300: 13.10\n",
      "loss at batch 400: 14.98\n",
      "accuracy: 0.11\n",
      "Running 256 neurons, 4 layers\n",
      "Epoch 0\n",
      "loss at batch 0: 14.86\n",
      "loss at batch 100: 13.85\n",
      "loss at batch 200: 14.36\n",
      "loss at batch 300: 14.61\n",
      "loss at batch 400: 14.61\n",
      "Epoch 1\n",
      "loss at batch 0: 14.86\n",
      "loss at batch 100: 13.85\n",
      "loss at batch 200: 14.36\n",
      "loss at batch 300: 14.61\n",
      "loss at batch 400: 14.61\n",
      "Epoch 2\n",
      "loss at batch 0: 14.86\n",
      "loss at batch 100: 13.85\n",
      "loss at batch 200: 14.36\n",
      "loss at batch 300: 14.61\n",
      "loss at batch 400: 14.61\n",
      "Epoch 3\n",
      "loss at batch 0: 14.86\n",
      "loss at batch 100: 13.85\n",
      "loss at batch 200: 14.36\n",
      "loss at batch 300: 14.61\n",
      "loss at batch 400: 14.61\n",
      "Epoch 4\n",
      "loss at batch 0: 14.86\n",
      "loss at batch 100: 13.85\n",
      "loss at batch 200: 14.36\n",
      "loss at batch 300: 14.61\n",
      "loss at batch 400: 14.61\n",
      "Epoch 5\n",
      "loss at batch 0: 14.86\n",
      "loss at batch 100: 13.85\n",
      "loss at batch 200: 14.36\n",
      "loss at batch 300: 14.61\n",
      "loss at batch 400: 14.61\n",
      "Epoch 6\n",
      "loss at batch 0: 14.86\n",
      "loss at batch 100: 13.85\n",
      "loss at batch 200: 14.36\n",
      "loss at batch 300: 14.61\n",
      "loss at batch 400: 14.61\n",
      "Epoch 7\n",
      "loss at batch 0: 14.86\n",
      "loss at batch 100: 13.85\n",
      "loss at batch 200: 14.36\n",
      "loss at batch 300: 14.61\n",
      "loss at batch 400: 14.61\n",
      "Epoch 8\n",
      "loss at batch 0: 14.86\n",
      "loss at batch 100: 13.85\n",
      "loss at batch 200: 14.36\n",
      "loss at batch 300: 14.61\n",
      "loss at batch 400: 14.61\n",
      "Epoch 9\n",
      "loss at batch 0: 14.86\n",
      "loss at batch 100: 13.85\n",
      "loss at batch 200: 14.36\n",
      "loss at batch 300: 14.61\n",
      "loss at batch 400: 14.61\n",
      "accuracy: 0.10\n",
      "Running 256 neurons, 5 layers\n",
      "Epoch 0\n",
      "loss at batch 0: 14.48\n",
      "loss at batch 100: 14.86\n",
      "loss at batch 200: 13.98\n",
      "loss at batch 300: 14.73\n",
      "loss at batch 400: 14.61\n",
      "Epoch 1\n",
      "loss at batch 0: 14.48\n",
      "loss at batch 100: 14.86\n",
      "loss at batch 200: 13.98\n",
      "loss at batch 300: 14.73\n",
      "loss at batch 400: 14.61\n",
      "Epoch 2\n",
      "loss at batch 0: 14.48\n",
      "loss at batch 100: 14.86\n",
      "loss at batch 200: 13.98\n",
      "loss at batch 300: 14.73\n",
      "loss at batch 400: 14.61\n",
      "Epoch 3\n",
      "loss at batch 0: 14.48\n",
      "loss at batch 100: 14.86\n",
      "loss at batch 200: 13.98\n",
      "loss at batch 300: 14.73\n",
      "loss at batch 400: 14.61\n",
      "Epoch 4\n",
      "loss at batch 0: 14.48\n",
      "loss at batch 100: 14.86\n",
      "loss at batch 200: 13.98\n",
      "loss at batch 300: 14.73\n",
      "loss at batch 400: 14.61\n",
      "Epoch 5\n",
      "loss at batch 0: 14.48\n",
      "loss at batch 100: 14.86\n",
      "loss at batch 200: 13.98\n",
      "loss at batch 300: 14.73\n",
      "loss at batch 400: 14.61\n",
      "Epoch 6\n",
      "loss at batch 0: 14.48\n",
      "loss at batch 100: 14.86\n",
      "loss at batch 200: 13.98\n",
      "loss at batch 300: 14.73\n",
      "loss at batch 400: 14.61\n",
      "Epoch 7\n",
      "loss at batch 0: 14.48\n",
      "loss at batch 100: 14.86\n",
      "loss at batch 200: 13.98\n",
      "loss at batch 300: 14.73\n",
      "loss at batch 400: 14.61\n",
      "Epoch 8\n",
      "loss at batch 0: 14.48\n",
      "loss at batch 100: 14.86\n",
      "loss at batch 200: 13.98\n",
      "loss at batch 300: 14.73\n",
      "loss at batch 400: 14.61\n",
      "Epoch 9\n",
      "loss at batch 0: 14.48\n",
      "loss at batch 100: 14.86\n",
      "loss at batch 200: 13.98\n",
      "loss at batch 300: 14.73\n",
      "loss at batch 400: 14.61\n",
      "accuracy: 0.10\n",
      "Running 512 neurons, 2 layers\n",
      "Epoch 0\n",
      "loss at batch 0: 3.07\n",
      "loss at batch 100: 0.44\n",
      "loss at batch 200: 0.29\n",
      "loss at batch 300: 0.29\n",
      "loss at batch 400: 0.52\n",
      "Epoch 1\n",
      "loss at batch 0: 0.31\n",
      "loss at batch 100: 0.23\n",
      "loss at batch 200: 0.24\n",
      "loss at batch 300: 0.26\n",
      "loss at batch 400: 0.51\n",
      "Epoch 2\n",
      "loss at batch 0: 0.19\n",
      "loss at batch 100: 0.19\n",
      "loss at batch 200: 0.23\n",
      "loss at batch 300: 0.26\n",
      "loss at batch 400: 0.47\n",
      "Epoch 3\n",
      "loss at batch 0: 0.17\n",
      "loss at batch 100: 0.18\n",
      "loss at batch 200: 0.24\n",
      "loss at batch 300: 0.25\n",
      "loss at batch 400: 0.35\n",
      "Epoch 4\n",
      "loss at batch 0: 0.17\n",
      "loss at batch 100: 0.18\n",
      "loss at batch 200: 0.25\n",
      "loss at batch 300: 0.23\n",
      "loss at batch 400: 0.32\n",
      "Epoch 5\n",
      "loss at batch 0: 0.17\n",
      "loss at batch 100: 0.18\n",
      "loss at batch 200: 0.25\n",
      "loss at batch 300: 0.21\n",
      "loss at batch 400: 0.27\n",
      "Epoch 6\n",
      "loss at batch 0: 0.16\n",
      "loss at batch 100: 0.17\n",
      "loss at batch 200: 0.24\n",
      "loss at batch 300: 0.18\n",
      "loss at batch 400: 0.21\n",
      "Epoch 7\n",
      "loss at batch 0: 0.14\n",
      "loss at batch 100: 0.15\n",
      "loss at batch 200: 0.20\n",
      "loss at batch 300: 0.14\n",
      "loss at batch 400: 0.16\n",
      "Epoch 8\n",
      "loss at batch 0: 0.12\n",
      "loss at batch 100: 0.11\n",
      "loss at batch 200: 0.14\n",
      "loss at batch 300: 0.10\n",
      "loss at batch 400: 0.13\n",
      "Epoch 9\n",
      "loss at batch 0: 0.09\n",
      "loss at batch 100: 0.08\n",
      "loss at batch 200: 0.10\n",
      "loss at batch 300: 0.08\n",
      "loss at batch 400: 0.11\n",
      "accuracy: 0.96\n",
      "Running 512 neurons, 3 layers\n",
      "Epoch 0\n",
      "loss at batch 0: 13.66\n",
      "loss at batch 100: 14.48\n",
      "loss at batch 200: 14.48\n",
      "loss at batch 300: 13.10\n",
      "loss at batch 400: 14.98\n",
      "Epoch 1\n",
      "loss at batch 0: 13.60\n",
      "loss at batch 100: 14.48\n",
      "loss at batch 200: 14.48\n",
      "loss at batch 300: 13.10\n",
      "loss at batch 400: 14.98\n",
      "Epoch 2\n",
      "loss at batch 0: 13.60\n",
      "loss at batch 100: 14.48\n",
      "loss at batch 200: 14.48\n",
      "loss at batch 300: 13.10\n",
      "loss at batch 400: 14.98\n",
      "Epoch 3\n",
      "loss at batch 0: 13.60\n",
      "loss at batch 100: 14.48\n",
      "loss at batch 200: 14.48\n",
      "loss at batch 300: 13.10\n",
      "loss at batch 400: 14.98\n",
      "Epoch 4\n",
      "loss at batch 0: 13.60\n",
      "loss at batch 100: 14.48\n",
      "loss at batch 200: 14.48\n",
      "loss at batch 300: 13.10\n",
      "loss at batch 400: 14.98\n",
      "Epoch 5\n",
      "loss at batch 0: 13.60\n",
      "loss at batch 100: 14.48\n",
      "loss at batch 200: 14.48\n",
      "loss at batch 300: 13.10\n",
      "loss at batch 400: 14.98\n",
      "Epoch 6\n",
      "loss at batch 0: 13.60\n",
      "loss at batch 100: 14.48\n",
      "loss at batch 200: 14.48\n",
      "loss at batch 300: 13.10\n",
      "loss at batch 400: 14.98\n",
      "Epoch 7\n",
      "loss at batch 0: 13.60\n",
      "loss at batch 100: 14.48\n",
      "loss at batch 200: 14.48\n",
      "loss at batch 300: 13.10\n",
      "loss at batch 400: 14.98\n",
      "Epoch 8\n",
      "loss at batch 0: 13.60\n",
      "loss at batch 100: 14.48\n",
      "loss at batch 200: 14.48\n",
      "loss at batch 300: 13.10\n",
      "loss at batch 400: 14.98\n",
      "Epoch 9\n",
      "loss at batch 0: 13.60\n",
      "loss at batch 100: 14.48\n",
      "loss at batch 200: 14.48\n",
      "loss at batch 300: 13.10\n",
      "loss at batch 400: 14.98\n",
      "accuracy: 0.11\n",
      "Running 512 neurons, 4 layers\n",
      "Epoch 0\n",
      "loss at batch 0: 14.48\n",
      "loss at batch 100: 14.10\n",
      "loss at batch 200: 14.48\n",
      "loss at batch 300: 15.11\n",
      "loss at batch 400: 14.61\n",
      "Epoch 1\n",
      "loss at batch 0: 14.48\n",
      "loss at batch 100: 14.10\n",
      "loss at batch 200: 14.48\n",
      "loss at batch 300: 15.11\n",
      "loss at batch 400: 14.61\n",
      "Epoch 2\n",
      "loss at batch 0: 14.48\n",
      "loss at batch 100: 14.10\n",
      "loss at batch 200: 14.48\n",
      "loss at batch 300: 15.11\n",
      "loss at batch 400: 14.61\n",
      "Epoch 3\n",
      "loss at batch 0: 14.48\n",
      "loss at batch 100: 14.10\n",
      "loss at batch 200: 14.48\n",
      "loss at batch 300: 15.11\n",
      "loss at batch 400: 14.61\n",
      "Epoch 4\n",
      "loss at batch 0: 14.48\n",
      "loss at batch 100: 14.10\n",
      "loss at batch 200: 14.48\n",
      "loss at batch 300: 15.11\n",
      "loss at batch 400: 14.61\n",
      "Epoch 5\n",
      "loss at batch 0: 14.48\n",
      "loss at batch 100: 14.10\n",
      "loss at batch 200: 14.48\n",
      "loss at batch 300: 15.11\n",
      "loss at batch 400: 14.61\n",
      "Epoch 6\n",
      "loss at batch 0: 14.48\n",
      "loss at batch 100: 14.10\n",
      "loss at batch 200: 14.48\n",
      "loss at batch 300: 15.11\n",
      "loss at batch 400: 14.61\n",
      "Epoch 7\n",
      "loss at batch 0: 14.48\n",
      "loss at batch 100: 14.10\n",
      "loss at batch 200: 14.48\n",
      "loss at batch 300: 15.11\n",
      "loss at batch 400: 14.61\n",
      "Epoch 8\n",
      "loss at batch 0: 14.48\n",
      "loss at batch 100: 14.10\n",
      "loss at batch 200: 14.48\n",
      "loss at batch 300: 15.11\n",
      "loss at batch 400: 14.61\n",
      "Epoch 9\n",
      "loss at batch 0: 14.48\n",
      "loss at batch 100: 14.10\n",
      "loss at batch 200: 14.48\n",
      "loss at batch 300: 15.11\n",
      "loss at batch 400: 14.61\n",
      "accuracy: 0.10\n",
      "Running 512 neurons, 5 layers\n",
      "Epoch 0\n",
      "loss at batch 0: 14.48\n",
      "loss at batch 100: 14.61\n",
      "loss at batch 200: 14.86\n",
      "loss at batch 300: 14.73\n",
      "loss at batch 400: 14.48\n",
      "Epoch 1\n",
      "loss at batch 0: 14.48\n",
      "loss at batch 100: 14.61\n",
      "loss at batch 200: 14.86\n",
      "loss at batch 300: 14.73\n",
      "loss at batch 400: 14.48\n",
      "Epoch 2\n",
      "loss at batch 0: 14.48\n",
      "loss at batch 100: 14.61\n",
      "loss at batch 200: 14.86\n",
      "loss at batch 300: 14.73\n",
      "loss at batch 400: 14.48\n",
      "Epoch 3\n",
      "loss at batch 0: 14.48\n",
      "loss at batch 100: 14.61\n",
      "loss at batch 200: 14.86\n",
      "loss at batch 300: 14.73\n",
      "loss at batch 400: 14.48\n",
      "Epoch 4\n",
      "loss at batch 0: 14.48\n",
      "loss at batch 100: 14.61\n",
      "loss at batch 200: 14.86\n",
      "loss at batch 300: 14.73\n",
      "loss at batch 400: 14.48\n",
      "Epoch 5\n",
      "loss at batch 0: 14.48\n",
      "loss at batch 100: 14.61\n",
      "loss at batch 200: 14.86\n",
      "loss at batch 300: 14.73\n",
      "loss at batch 400: 14.48\n",
      "Epoch 6\n",
      "loss at batch 0: 14.48\n",
      "loss at batch 100: 14.61\n",
      "loss at batch 200: 14.86\n",
      "loss at batch 300: 14.73\n",
      "loss at batch 400: 14.48\n",
      "Epoch 7\n",
      "loss at batch 0: 14.48\n",
      "loss at batch 100: 14.61\n",
      "loss at batch 200: 14.86\n",
      "loss at batch 300: 14.73\n",
      "loss at batch 400: 14.48\n",
      "Epoch 8\n",
      "loss at batch 0: 14.48\n",
      "loss at batch 100: 14.61\n",
      "loss at batch 200: 14.86\n",
      "loss at batch 300: 14.73\n",
      "loss at batch 400: 14.48\n",
      "Epoch 9\n",
      "loss at batch 0: 14.48\n",
      "loss at batch 100: 14.61\n",
      "loss at batch 200: 14.86\n",
      "loss at batch 300: 14.73\n",
      "loss at batch 400: 14.48\n",
      "accuracy: 0.10\n",
      "defaultdict(<class 'list'>, {(16, 2): [np.float64(0.9322), np.float64(0.9373), np.float64(0.9327)], (16, 3): [np.float64(0.9324), np.float64(0.9321), np.float64(0.9321)], (16, 4): [np.float64(0.9346), np.float64(0.9376), np.float64(0.9325)], (16, 5): [np.float64(0.9172), np.float64(0.9119), np.float64(0.9023)], (32, 2): [np.float64(0.9482), np.float64(0.9531), np.float64(0.9491)], (32, 3): [np.float64(0.949), np.float64(0.9525), np.float64(0.9564)], (32, 4): [np.float64(0.954), np.float64(0.9626), np.float64(0.9577)], (32, 5): [np.float64(0.9446), np.float64(0.9439), np.float64(0.9423)], (64, 2): [np.float64(0.9586), np.float64(0.9592), np.float64(0.9588)], (64, 3): [np.float64(0.9679), np.float64(0.9678), np.float64(0.9674)], (64, 4): [np.float64(0.9682), np.float64(0.9656), np.float64(0.9643)], (64, 5): [np.float64(0.1135), np.float64(0.1135), np.float64(0.1135)], (128, 2): [np.float64(0.965), np.float64(0.9647), np.float64(0.9646)], (128, 3): [np.float64(0.9713), np.float64(0.9714), np.float64(0.9712)], (128, 4): [np.float64(0.1135), np.float64(0.0982), np.float64(0.0892)], (128, 5): [np.float64(0.0982), np.float64(0.0958), np.float64(0.0958)], (256, 2): [np.float64(0.9648), np.float64(0.9641), np.float64(0.9663)], (256, 3): [np.float64(0.1032), np.float64(0.9594), np.float64(0.1135)], (256, 4): [np.float64(0.0958), np.float64(0.1135), np.float64(0.1032)], (256, 5): [np.float64(0.1135), np.float64(0.1032), np.float64(0.0982)], (512, 2): [np.float64(0.9628), np.float64(0.9595), np.float64(0.9631)], (512, 3): [np.float64(0.1032), np.float64(0.0982), np.float64(0.1135)], (512, 4): [np.float64(0.1028), np.float64(0.1032), np.float64(0.101)], (512, 5): [np.float64(0.101), np.float64(0.101), np.float64(0.1028)]})\n"
     ]
    }
   ],
   "source": [
    "def run(neurons, layers):\n",
    "    print(f'Running {neurons} neurons, {layers} layers')\n",
    "    model_layers = [\n",
    "        NaiveDense(input_size=28 * 28, output_size=neurons, activation=tf.nn.relu)\n",
    "    ]\n",
    "    for _ in range(layers - 2):\n",
    "        model_layers.append(NaiveDense(input_size=neurons, output_size=neurons, activation=tf.nn.relu))\n",
    "    model_layers.append(NaiveDense(input_size=neurons, output_size=10, activation=tf.nn.softmax))\n",
    "    model = NaiveSequential(model_layers)\n",
    "    global optimizer\n",
    "    optimizer = tf.optimizers.Adam()\n",
    "    fit(model, train_images, train_labels, epochs=10, batch_size=128)\n",
    "    predictions = model(test_images)\n",
    "    predictions = predictions.numpy()\n",
    "    predicted_labels = np.argmax(predictions, axis=1)\n",
    "    matches = predicted_labels == test_labels\n",
    "    print(f\"accuracy: {matches.mean():.2f}\")\n",
    "    D[neurons,layers].append(matches.mean())\n",
    "    \n",
    "for neurons in [16, 32, 64, 128, 256, 512]:\n",
    "    for layers in [2, 3, 4, 5]:\n",
    "        run(neurons, layers)\n",
    "    # run(neurons, 2)\n",
    "    # run(512, layers)\n",
    "print(D)"
   ]
  },
  {
   "cell_type": "code",
   "execution_count": 128,
   "metadata": {},
   "outputs": [
    {
     "data": {
      "image/png": "[encoded data removed]",
      "text/plain": [
       "<Figure size 640x480 with 1 Axes>"
      ]
     },
     "metadata": {},
     "output_type": "display_data"
    },
    {
     "name": "stdout",
     "output_type": "stream",
     "text": [
      "\n",
      "\n",
      "\n",
      "nu l acc (neurons, layers, accuracy)\n",
      "16 2 0.9340666666666667\n",
      "16 3 0.9322\n",
      "16 4 0.9349\n",
      "16 5 0.9104666666666666\n",
      "\n",
      "32 2 0.9501333333333334\n",
      "32 3 0.9526333333333333\n",
      "32 4 0.9581\n",
      "32 5 0.9436\n",
      "\n",
      "64 2 0.9588666666666668\n",
      "64 3 0.9677000000000001\n",
      "64 4 0.9660333333333333\n",
      "64 5 0.1135\n",
      "\n",
      "128 2 0.9647666666666667\n",
      "128 3 0.9712999999999999\n",
      "128 4 0.1003\n",
      "128 5 0.0966\n",
      "\n",
      "256 2 0.9650666666666666\n",
      "256 3 0.3920333333333333\n",
      "256 4 0.10416666666666667\n",
      "256 5 0.10496666666666667\n",
      "\n",
      "512 2 0.9617999999999999\n",
      "512 3 0.10496666666666667\n",
      "512 4 0.10233333333333335\n",
      "512 5 0.10160000000000001\n",
      "\n",
      "nu l acc (neurons, layers, accuracy)\n",
      "16 2 0.9340666666666667\n",
      "32 2 0.9501333333333334\n",
      "64 2 0.9588666666666668\n",
      "128 2 0.9647666666666667\n",
      "256 2 0.9650666666666666\n",
      "512 2 0.9617999999999999\n",
      "\n",
      "16 3 0.9322\n",
      "32 3 0.9526333333333333\n",
      "64 3 0.9677000000000001\n",
      "128 3 0.9712999999999999\n",
      "256 3 0.3920333333333333\n",
      "512 3 0.10496666666666667\n",
      "\n",
      "16 4 0.9349\n",
      "32 4 0.9581\n",
      "64 4 0.9660333333333333\n",
      "128 4 0.1003\n",
      "256 4 0.10416666666666667\n",
      "512 4 0.10233333333333335\n",
      "\n",
      "16 5 0.9104666666666666\n",
      "32 5 0.9436\n",
      "64 5 0.1135\n",
      "128 5 0.0966\n",
      "256 5 0.10496666666666667\n",
      "512 5 0.10160000000000001\n",
      "\n"
     ]
    }
   ],
   "source": [
    "from matplotlib import pyplot as plt\n",
    "from mpl_toolkits.mplot3d import Axes3D\n",
    "import numpy as np\n",
    "\n",
    "# Prepare data for plotting\n",
    "X = []\n",
    "Y = []\n",
    "Z = []\n",
    "for x,y in D:\n",
    "    X.append(x); Y.append(y); Z.append(sum(D[x,y])/len(D[x,y]))\n",
    "\n",
    "# Create 3D plot\n",
    "fig = plt.figure()\n",
    "ax = plt.axes(projection='3d')\n",
    "\n",
    "# Scatter plot\n",
    "x = np.linspace(min(X),max(X),10)\n",
    "y = np.linspace(min(Y),max(Y),10)\n",
    "x,y = np.meshgrid(x,y)\n",
    "from scipy.interpolate import griddata\n",
    "z = griddata((X,Y), Z, (x,y), method='linear')\n",
    "ax.plot_surface(x,y,z, cmap='viridis', edgecolor='green')\n",
    "# ax.scatter(X,Y,Z)\n",
    "\n",
    "# Labels and title\n",
    "ax.set_xlabel('Neurons')\n",
    "ax.set_ylabel('Layers')\n",
    "ax.set_zlabel('Accuracy')\n",
    "ax.set_title('Model Accuracy')\n",
    "ax.view_init(azim= 75)\n",
    "\n",
    "# Show plot\n",
    "plt.tight_layout()\n",
    "plt.show()\n",
    "# print(D)\n",
    "print()\n",
    "print()\n",
    "print()\n",
    "print('nu l acc (neurons, layers, accuracy)')\n",
    "for neurons in [16,32,64,128,256,512]:\n",
    "    for layers in [2,3,4,5]:\n",
    "        print(neurons, layers, sum(D[neurons,layers])/len(D[neurons,layers]))\n",
    "    print()\n",
    "\n",
    "print('nu l acc (neurons, layers, accuracy)')\n",
    "for layers in [2,3,4,5]:\n",
    "    for neurons in [16,32,64,128,256,512]:\n",
    "        print(neurons, layers, sum(D[neurons,layers])/len(D[neurons,layers]))\n",
    "    print()"
   ]
  }
 ],
 "metadata": {
  "colab": {
   "collapsed_sections": [],
   "name": "chapter02_mathematical-building-blocks.i",
   "private_outputs": false,
   "provenance": [],
   "toc_visible": true
  },
  "kernelspec": {
   "display_name": "Python 3",
   "language": "python",
   "name": "python3"
  },
  "language_info": {
   "codemirror_mode": {
    "name": "ipython",
    "version": 3
   },
   "file_extension": ".py",
   "mimetype": "text/x-python",
   "name": "python",
   "nbconvert_exporter": "python",
   "pygments_lexer": "ipython3",
   "version": "3.12.3"
  }
 },
 "nbformat": 4,
 "nbformat_minor": 0
}

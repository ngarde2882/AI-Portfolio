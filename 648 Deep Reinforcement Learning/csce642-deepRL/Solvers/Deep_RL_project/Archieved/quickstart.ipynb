{
 "cells": [
  {
   "cell_type": "markdown",
   "metadata": {},
   "source": [
    "# `poke-env` Quickstart: Practical Examples and Snippets\n",
    "\n",
    "Complete source code for this example is available [here](https://github.com/hsahovic/poke-env/blob/master/examples/cross_evaluate_random_players.ipynb).\n",
    "\n",
    "**Note**: this notebooks requires a locally running Pokémon Showdown server. Please see the [getting started section](../getting_started.rst) for help on how to set one up.\n",
    "\n",
    "## Creating Agents and Making Them Battle\n",
    "\n",
    "### Creating Built-in Agents\n",
    "\n",
    "`poke-env` comes with a few built-in agents. These agents are meant to be used as a baseline for your own agents.\n",
    "\n",
    "The simplest agent is the `RandomPlayer` agent. This agent will select a random valid move at each turn. Let's create one:\n"
   ]
  },
  {
   "cell_type": "code",
   "execution_count": null,
   "metadata": {
    "execution": {
     "iopub.execute_input": "2023-12-17T01:56:31.017492Z",
     "iopub.status.busy": "2023-12-17T01:56:31.017065Z",
     "iopub.status.idle": "2023-12-17T01:56:31.196204Z",
     "shell.execute_reply": "2023-12-17T01:56:31.195741Z"
    }
   },
   "outputs": [
    {
     "name": "stderr",
     "output_type": "stream",
     "text": [
      "C:\\Users\\joewa\\AppData\\Roaming\\Python\\Python39\\site-packages\\scipy\\__init__.py:146: UserWarning: A NumPy version >=1.17.3 and <1.25.0 is required for this version of SciPy (detected version 1.26.0\n",
      "  warnings.warn(f\"A NumPy version >={np_minversion} and <{np_maxversion}\"\n"
     ]
    },
    {
     "name": "stdout",
     "output_type": "stream",
     "text": [
      "WARNING:tensorflow:From c:\\Users\\joewa\\anaconda3\\envs\\Project\\lib\\site-packages\\keras\\src\\losses.py:2976: The name tf.losses.sparse_softmax_cross_entropy is deprecated. Please use tf.compat.v1.losses.sparse_softmax_cross_entropy instead.\n",
      "\n"
     ]
    },
    {
     "ename": "NameError",
     "evalue": "name 'Gen9EnvSinglePlayer' is not defined",
     "output_type": "error",
     "traceback": [
      "\u001b[1;31m---------------------------------------------------------------------------\u001b[0m",
      "\u001b[1;31mNameError\u001b[0m                                 Traceback (most recent call last)",
      "Cell \u001b[1;32mIn[1], line 6\u001b[0m\n\u001b[0;32m      3\u001b[0m \u001b[38;5;28;01mfrom\u001b[39;00m \u001b[38;5;21;01mpoke_env\u001b[39;00m\u001b[38;5;21;01m.\u001b[39;00m\u001b[38;5;21;01mdata\u001b[39;00m \u001b[38;5;28;01mimport\u001b[39;00m GenData\n\u001b[0;32m      4\u001b[0m \u001b[38;5;66;03m# The RandomPlayer is a basic agent that makes decisions randomly,\u001b[39;00m\n\u001b[0;32m      5\u001b[0m \u001b[38;5;66;03m# serving as a starting point for more complex agent development.\u001b[39;00m\n\u001b[1;32m----> 6\u001b[0m random_player \u001b[38;5;241m=\u001b[39m SimpleRLPlayer(\u001b[43mGen9EnvSinglePlayer\u001b[49m)\n",
      "\u001b[1;31mNameError\u001b[0m: name 'Gen9EnvSinglePlayer' is not defined"
     ]
    }
   ],
   "source": [
    "from poke_env import RandomPlayer\n",
    "from rl_with_new_open_ai_gym_wrapper import SimpleRLPlayer,SimpleHeuristicsPlayer,MaxDamagePlayer\n",
    "from poke_env.data import GenData\n",
    "# The RandomPlayer is a basic agent that makes decisions randomly,\n",
    "# serving as a starting point for more complex agent development."
   ]
  },
  {
   "cell_type": "markdown",
   "metadata": {},
   "source": [
    "### Creating a Battle\n",
    "\n",
    "To create a battle, let's create a second agent and use the `battle_against` method. It's an asynchronous method, so we need to `await` it."
   ]
  },
  {
   "cell_type": "code",
   "execution_count": null,
   "metadata": {
    "execution": {
     "iopub.execute_input": "2023-12-17T01:56:31.199599Z",
     "iopub.status.busy": "2023-12-17T01:56:31.199103Z",
     "iopub.status.idle": "2023-12-17T01:56:31.458751Z",
     "shell.execute_reply": "2023-12-17T01:56:31.458150Z"
    }
   },
   "outputs": [],
   "source": [
    "second_player = RandomPlayer()\n",
    "\n",
    "# The battle_against method initiates a battle between two players.\n",
    "# Here we are using asynchronous programming (await) to start the battle.\n",
    "await random_player.battle_against(second_player, n_battles=1)"
   ]
  },
  {
   "cell_type": "markdown",
   "metadata": {},
   "source": [
    "If you want to look at this battle, you can open a browser at [http://localhost:8000](http://localhost:8000) - you should see the battle in the lobby.\n",
    "\n",
    "### Inspecting the Result\n",
    "\n",
    "Here are a couple of ways to inspect the result of this battle."
   ]
  },
  {
   "cell_type": "code",
   "execution_count": null,
   "metadata": {
    "execution": {
     "iopub.execute_input": "2023-12-17T01:56:31.461987Z",
     "iopub.status.busy": "2023-12-17T01:56:31.461508Z",
     "iopub.status.idle": "2023-12-17T01:56:31.465156Z",
     "shell.execute_reply": "2023-12-17T01:56:31.464749Z"
    }
   },
   "outputs": [
    {
     "name": "stdout",
     "output_type": "stream",
     "text": [
      "Player RandomPlayer 1 won 0 out of 1 played\n",
      "Player RandomPlayer 2 won 1 out of 1 played\n",
      "battle-gen9randombattle-438 False\n"
     ]
    }
   ],
   "source": [
    "# n_won_battles and n_finished_battles\n",
    "\n",
    "print(\n",
    "    f\"Player {random_player.username} won {random_player.n_won_battles} out of {random_player.n_finished_battles} played\"\n",
    ")\n",
    "print(\n",
    "    f\"Player {second_player.username} won {second_player.n_won_battles} out of {second_player.n_finished_battles} played\"\n",
    ")\n",
    "\n",
    "# Looping over battles\n",
    "\n",
    "for battle_tag, battle in random_player.battles.items():\n",
    "    print(battle_tag, battle.won)"
   ]
  },
  {
   "cell_type": "markdown",
   "metadata": {},
   "source": [
    "You can look at more properties of the [Player](../modules/player.rst) and [Battle](../modules/battle.rst) classes in the documentation.\n",
    "\n",
    "### Running a Cross-Evaluation\n",
    "\n",
    "`poke-env` provides a `cross_evaluate` function, that allows you to run a cross evaluation between multiple agents. It will run a number of battles between the two agents, and return the results of the evaluation in a structured way."
   ]
  },
  {
   "cell_type": "code",
   "execution_count": null,
   "metadata": {
    "execution": {
     "iopub.execute_input": "2023-12-17T01:56:31.497179Z",
     "iopub.status.busy": "2023-12-17T01:56:31.497002Z",
     "iopub.status.idle": "2023-12-17T01:56:34.055317Z",
     "shell.execute_reply": "2023-12-17T01:56:34.054272Z"
    }
   },
   "outputs": [
    {
     "data": {
      "text/plain": [
       "{'RandomPlayer 1': {'RandomPlayer 1': None,\n",
       "  'RandomPlayer 2': 0.5,\n",
       "  'RandomPlayer 3': 0.6},\n",
       " 'RandomPlayer 2': {'RandomPlayer 1': 0.5,\n",
       "  'RandomPlayer 2': None,\n",
       "  'RandomPlayer 3': 0.6},\n",
       " 'RandomPlayer 3': {'RandomPlayer 1': 0.4,\n",
       "  'RandomPlayer 2': 0.4,\n",
       "  'RandomPlayer 3': None}}"
      ]
     },
     "execution_count": 5,
     "metadata": {},
     "output_type": "execute_result"
    }
   ],
   "source": [
    "from poke_env import cross_evaluate\n",
    "\n",
    "third_player = RandomPlayer()\n",
    "\n",
    "players = [random_player, second_player, third_player]\n",
    "\n",
    "cross_evaluation = await cross_evaluate(players, n_challenges=5)\n",
    "cross_evaluation"
   ]
  },
  {
   "cell_type": "markdown",
   "metadata": {},
   "source": [
    "Here's one way to pretty print the results of the cross evaluation using `tabulate`:"
   ]
  },
  {
   "cell_type": "code",
   "execution_count": null,
   "metadata": {
    "execution": {
     "iopub.execute_input": "2023-12-17T01:56:34.059968Z",
     "iopub.status.busy": "2023-12-17T01:56:34.059694Z",
     "iopub.status.idle": "2023-12-17T01:56:34.067702Z",
     "shell.execute_reply": "2023-12-17T01:56:34.066920Z"
    }
   },
   "outputs": [
    {
     "name": "stdout",
     "output_type": "stream",
     "text": [
      "--------------  --------------  --------------  --------------\n",
      "-               RandomPlayer 1  RandomPlayer 2  RandomPlayer 3\n",
      "RandomPlayer 1                  0.5             0.6\n",
      "RandomPlayer 2  0.5                             0.6\n",
      "RandomPlayer 3  0.4             0.4\n",
      "--------------  --------------  --------------  --------------\n"
     ]
    }
   ],
   "source": [
    "from tabulate import tabulate\n",
    "\n",
    "table = [[\"-\"] + [p.username for p in players]]\n",
    "for p_1, results in cross_evaluation.items():\n",
    "    table.append([p_1] + [cross_evaluation[p_1][p_2] for p_2 in results])\n",
    "\n",
    "print(tabulate(table))"
   ]
  },
  {
   "cell_type": "markdown",
   "metadata": {},
   "source": [
    "## Building a Max Damage Player\n",
    "\n",
    "In this section, we introduce the `MaxDamagePlayer`, a custom agent designed to choose moves that maximize damage output.\n",
    "\n",
    "### Implementing the MaxDamagePlayer Class\n",
    "\n",
    "The primary task is to override the choose_move method. This method, defined as `choose_move(self, battle: Battle) -> str`, requires a `Battle` object as input, representing the current game state, and outputs a move order as a string. This move order must adhere to the [showdown protocol](https://github.com/smogon/pokemon-showdown/blob/master/sim/SIM-PROTOCOL.md) format. The `poke-env` library provides the `create_order` method to assist in formatting move orders directly from `Pokemon` and `Move` objects.\n",
    "\n",
    "The `battle` parameter, a `Battle` object, encapsulates the agent's current knowledge of the game state. It provides various properties for easy access to game details, such as `active_pokemon`, `available_moves`, `available_switches`, `opponent_active_pokemon`, `opponent_team`, and `team`.\n",
    "\n",
    "For this example, we'll utilize `available_moves`, which gives us a list of `Move` objects available in the current turn.\n",
    "\n",
    "Our focus in implementing `MaxDamagePlayer` involves two key steps: interpreting the game state information from the battle object and then generating and returning a correctly formatted move order."
   ]
  },
  {
   "cell_type": "code",
   "execution_count": null,
   "metadata": {
    "execution": {
     "iopub.execute_input": "2023-12-17T01:56:34.070441Z",
     "iopub.status.busy": "2023-12-17T01:56:34.070237Z",
     "iopub.status.idle": "2023-12-17T01:56:34.074119Z",
     "shell.execute_reply": "2023-12-17T01:56:34.073492Z"
    }
   },
   "outputs": [],
   "source": [
    "from poke_env.player import Player\n",
    "\n",
    "\n",
    "class MaxDamagePlayer(Player):\n",
    "    def choose_move(self, battle):\n",
    "        # Chooses a move with the highest base power when possible\n",
    "        if battle.available_moves:\n",
    "            # Iterating over available moves to find the one with the highest base power\n",
    "            best_move = max(battle.available_moves, key=lambda move: move.base_power)\n",
    "            # Creating an order for the selected move\n",
    "            return self.create_order(best_move)\n",
    "        else:\n",
    "            # If no attacking move is available, perform a random switch\n",
    "            # This involves choosing a random move, which could be a switch or another available action\n",
    "            return self.choose_random_move(battle)"
   ]
  },
  {
   "cell_type": "markdown",
   "metadata": {},
   "source": [
    "In the `choose_move` method, our first step is to determine if there are any available moves for the current turn, as indicated by `battle.available_moves`. When a move is available, we select the one with the highest `base_power`. Formatting our choice is achieved by the `create_order`.\n",
    "\n",
    "However, there are scenarios where no moves are available. In such cases, we use `choose_random_move(battle)`. This method randomly selects either a move or a switch, and guarantees that we will return a valid order.\n",
    "\n",
    "The `Player.create_order` function is a crucial part of this process. It's a wrapper method that generates valid battle messages. It can take either a `Move` or a `Pokemon` object as its input. When passing a `Move` object, additional parameters such as `mega`, `z_move`, `dynamax`, or `terastallize` can be specified to indicate special battle actions.\n",
    "\n",
    "We will adjust our strategy to include `terastallize` at the earliest opportunity, enhancing the effectiveness of our player in battle scenarios."
   ]
  },
  {
   "cell_type": "code",
   "execution_count": null,
   "metadata": {
    "execution": {
     "iopub.execute_input": "2023-12-17T01:56:34.077132Z",
     "iopub.status.busy": "2023-12-17T01:56:34.076925Z",
     "iopub.status.idle": "2023-12-17T01:56:34.080221Z",
     "shell.execute_reply": "2023-12-17T01:56:34.079787Z"
    }
   },
   "outputs": [],
   "source": [
    "class MaxDamagePlayer(Player):\n",
    "    def choose_move(self, battle):\n",
    "        if battle.available_moves:\n",
    "            best_move = max(battle.available_moves, key=lambda move: move.base_power)\n",
    "\n",
    "            if battle.can_tera:\n",
    "                return self.create_order(best_move, terastallize=True)\n",
    "\n",
    "            return self.create_order(best_move)\n",
    "        else:\n",
    "            return self.choose_random_move(battle)"
   ]
  },
  {
   "cell_type": "markdown",
   "metadata": {},
   "source": [
    "### Testing the MaxDamagePlayer\n",
    "\n",
    "Next, we'll test our `MaxDamagePlayer` against a `RandomPlayer` in a series of battles:\n"
   ]
  },
  {
   "cell_type": "code",
   "execution_count": null,
   "metadata": {
    "execution": {
     "iopub.execute_input": "2023-12-17T01:56:34.082896Z",
     "iopub.status.busy": "2023-12-17T01:56:34.082654Z",
     "iopub.status.idle": "2023-12-17T01:56:44.386996Z",
     "shell.execute_reply": "2023-12-17T01:56:44.386238Z"
    }
   },
   "outputs": [
    {
     "ename": "CancelledError",
     "evalue": "",
     "output_type": "error",
     "traceback": [
      "\u001b[1;31m---------------------------------------------------------------------------\u001b[0m",
      "\u001b[1;31mCancelledError\u001b[0m                            Traceback (most recent call last)",
      "Cell \u001b[1;32mIn[9], line 6\u001b[0m\n\u001b[0;32m      3\u001b[0m max_damage_player \u001b[38;5;241m=\u001b[39m MaxDamagePlayer()\n\u001b[0;32m      5\u001b[0m \u001b[38;5;66;03m# Running battles\u001b[39;00m\n\u001b[1;32m----> 6\u001b[0m \u001b[38;5;28;01mawait\u001b[39;00m max_damage_player\u001b[38;5;241m.\u001b[39mbattle_against(random_player, n_battles\u001b[38;5;241m=\u001b[39m\u001b[38;5;241m100\u001b[39m)\n\u001b[0;32m      8\u001b[0m \u001b[38;5;66;03m# Displaying results\u001b[39;00m\n\u001b[0;32m      9\u001b[0m \u001b[38;5;28mprint\u001b[39m(\u001b[38;5;124mf\u001b[39m\u001b[38;5;124m\"\u001b[39m\u001b[38;5;124mMax damage player won \u001b[39m\u001b[38;5;132;01m{\u001b[39;00mmax_damage_player\u001b[38;5;241m.\u001b[39mn_won_battles\u001b[38;5;132;01m}\u001b[39;00m\u001b[38;5;124m / 100 battles\u001b[39m\u001b[38;5;124m\"\u001b[39m)\n",
      "File \u001b[1;32mc:\\Users\\joewa\\anaconda3\\envs\\Project\\lib\\site-packages\\poke_env\\player\\player.py:693\u001b[0m, in \u001b[0;36mPlayer.battle_against\u001b[1;34m(self, opponent, n_battles)\u001b[0m\n\u001b[0;32m    683\u001b[0m \u001b[38;5;28;01masync\u001b[39;00m \u001b[38;5;28;01mdef\u001b[39;00m \u001b[38;5;21mbattle_against\u001b[39m(\u001b[38;5;28mself\u001b[39m, opponent: \u001b[38;5;124m\"\u001b[39m\u001b[38;5;124mPlayer\u001b[39m\u001b[38;5;124m\"\u001b[39m, n_battles: \u001b[38;5;28mint\u001b[39m \u001b[38;5;241m=\u001b[39m \u001b[38;5;241m1\u001b[39m):\n\u001b[0;32m    684\u001b[0m \u001b[38;5;250m    \u001b[39m\u001b[38;5;124;03m\"\"\"Make the player play n_battles against opponent.\u001b[39;00m\n\u001b[0;32m    685\u001b[0m \n\u001b[0;32m    686\u001b[0m \u001b[38;5;124;03m    This function is a wrapper around send_challenges and accept challenges.\u001b[39;00m\n\u001b[1;32m   (...)\u001b[0m\n\u001b[0;32m    691\u001b[0m \u001b[38;5;124;03m    :type n_battles: int\u001b[39;00m\n\u001b[0;32m    692\u001b[0m \u001b[38;5;124;03m    \"\"\"\u001b[39;00m\n\u001b[1;32m--> 693\u001b[0m     \u001b[38;5;28;01mawait\u001b[39;00m handle_threaded_coroutines(\u001b[38;5;28mself\u001b[39m\u001b[38;5;241m.\u001b[39m_battle_against(opponent, n_battles))\n",
      "File \u001b[1;32mc:\\Users\\joewa\\anaconda3\\envs\\Project\\lib\\site-packages\\poke_env\\concurrency.py:64\u001b[0m, in \u001b[0;36mhandle_threaded_coroutines\u001b[1;34m(coro)\u001b[0m\n\u001b[0;32m     62\u001b[0m \u001b[38;5;28;01masync\u001b[39;00m \u001b[38;5;28;01mdef\u001b[39;00m \u001b[38;5;21mhandle_threaded_coroutines\u001b[39m(coro: Any):\n\u001b[0;32m     63\u001b[0m     task \u001b[38;5;241m=\u001b[39m asyncio\u001b[38;5;241m.\u001b[39mrun_coroutine_threadsafe(coro, POKE_LOOP)\n\u001b[1;32m---> 64\u001b[0m     \u001b[38;5;28;01mawait\u001b[39;00m asyncio\u001b[38;5;241m.\u001b[39mwrap_future(task)\n\u001b[0;32m     65\u001b[0m     \u001b[38;5;28;01mreturn\u001b[39;00m task\u001b[38;5;241m.\u001b[39mresult()\n",
      "\u001b[1;31mCancelledError\u001b[0m: "
     ]
    }
   ],
   "source": [
    "# Creating players\n",
    "random_player = RandomPlayer()\n",
    "max_damage_player = MaxDamagePlayer()\n",
    "\n",
    "# Running battles\n",
    "await max_damage_player.battle_against(random_player, n_battles=100)\n",
    "\n",
    "# Displaying results\n",
    "print(f\"Max damage player won {max_damage_player.n_won_battles} / 100 battles\")"
   ]
  },
  {
   "cell_type": "markdown",
   "metadata": {},
   "source": [
    "Unsurprisingly, the `MaxDamagePlayer` wins most of the battles.\n",
    "\n",
    "## Setting teams\n",
    "\n",
    "Most formats do not provide a team automatically. \n",
    "\n",
    "To specify a team, you have two main options: you can either provide a `str` describing your team, or a `Teambuilder` object. This example will focus on the first option; if you want to learn more about using teambuilders, please refer to [Creating a custom teambuilder and Teambuilder: Parse, manage and generate showdown teams](using_a_custom_teambuilder.ipynb).\n",
    "\n",
    "The easiest way to specify a team in poke-env is to copy-paste a showdown team. You can use showdown’s teambuilder and export it directly.\n",
    "\n",
    "Alternatively, you can use showdown’s packed formats, which correspond to the actual string sent by the showdown client to the server.\n",
    "\n",
    "### Using a `str`\n",
    "\n",
    "Here's an example:"
   ]
  },
  {
   "cell_type": "code",
   "execution_count": null,
   "metadata": {
    "execution": {
     "iopub.execute_input": "2023-12-17T01:56:44.389907Z",
     "iopub.status.busy": "2023-12-17T01:56:44.389685Z",
     "iopub.status.idle": "2023-12-17T01:56:44.583577Z",
     "shell.execute_reply": "2023-12-17T01:56:44.583132Z"
    }
   },
   "outputs": [],
   "source": [
    "team_1 = \"\"\"\n",
    "Goodra (M) @ Assault Vest\n",
    "Ability: Sap Sipper\n",
    "EVs: 248 HP / 252 SpA / 8 Spe\n",
    "Modest Nature\n",
    "IVs: 0 Atk\n",
    "- Dragon Pulse\n",
    "- Flamethrower\n",
    "- Sludge Wave\n",
    "- Thunderbolt\n",
    "\n",
    "Sylveon (M) @ Leftovers\n",
    "Ability: Pixilate\n",
    "EVs: 248 HP / 244 Def / 16 SpD\n",
    "Calm Nature\n",
    "IVs: 0 Atk\n",
    "- Hyper Voice\n",
    "- Mystical Fire\n",
    "- Protect\n",
    "- Wish\n",
    "\n",
    "Toxtricity (M) @ Throat Spray\n",
    "Ability: Punk Rock\n",
    "EVs: 4 Atk / 252 SpA / 252 Spe\n",
    "Rash Nature\n",
    "- Overdrive\n",
    "- Boomburst\n",
    "- Shift Gear\n",
    "- Fire Punch\n",
    "\n",
    "Seismitoad (M) @ Leftovers\n",
    "Ability: Water Absorb\n",
    "EVs: 252 HP / 252 Def / 4 SpD\n",
    "Relaxed Nature\n",
    "- Stealth Rock\n",
    "- Scald\n",
    "- Earthquake\n",
    "- Toxic\n",
    "\n",
    "Corviknight (M) @ Leftovers\n",
    "Ability: Pressure\n",
    "EVs: 248 HP / 80 SpD / 180 Spe\n",
    "Impish Nature\n",
    "- Defog\n",
    "- Brave Bird\n",
    "- Roost\n",
    "- U-turn\n",
    "\n",
    "Galvantula @ Focus Sash\n",
    "Ability: Compound Eyes\n",
    "EVs: 252 SpA / 4 SpD / 252 Spe\n",
    "Timid Nature\n",
    "IVs: 0 Atk\n",
    "- Sticky Web\n",
    "- Thunder Wave\n",
    "- Thunder\n",
    "- Energy Ball\n",
    "\"\"\"\n",
    "team_2 = \"\"\"\n",
    "Togekiss @ Leftovers\n",
    "Ability: Serene Grace\n",
    "EVs: 248 HP / 8 SpA / 252 Spe\n",
    "Timid Nature\n",
    "IVs: 0 Atk\n",
    "- Air Slash\n",
    "- Nasty Plot\n",
    "- Substitute\n",
    "- Thunder Wave\n",
    "\n",
    "Galvantula @ Focus Sash\n",
    "Ability: Compound Eyes\n",
    "EVs: 252 SpA / 4 SpD / 252 Spe\n",
    "Timid Nature\n",
    "IVs: 0 Atk\n",
    "- Sticky Web\n",
    "- Thunder Wave\n",
    "- Thunder\n",
    "- Energy Ball\n",
    "\n",
    "Cloyster @ Leftovers\n",
    "Ability: Skill Link\n",
    "EVs: 252 Atk / 4 SpD / 252 Spe\n",
    "Adamant Nature\n",
    "- Icicle Spear\n",
    "- Rock Blast\n",
    "- Ice Shard\n",
    "- Shell Smash\n",
    "\n",
    "Sandaconda @ Focus Sash\n",
    "Ability: Sand Spit\n",
    "EVs: 252 Atk / 4 SpD / 252 Spe\n",
    "Jolly Nature\n",
    "- Stealth Rock\n",
    "- Glare\n",
    "- Earthquake\n",
    "- Rock Tomb\n",
    "\n",
    "Excadrill @ Focus Sash\n",
    "Ability: Sand Rush\n",
    "EVs: 252 Atk / 4 SpD / 252 Spe\n",
    "Adamant Nature\n",
    "- Iron Head\n",
    "- Rock Slide\n",
    "- Earthquake\n",
    "- Rapid Spin\n",
    "\n",
    "Cinccino @ Leftovers\n",
    "Ability: Skill Link\n",
    "EVs: 252 Atk / 4 Def / 252 Spe\n",
    "Jolly Nature\n",
    "- Bullet Seed\n",
    "- Knock Off\n",
    "- Rock Blast\n",
    "- Tail Slap\n",
    "\"\"\"\n",
    "\n",
    "p1 = MaxDamagePlayer(battle_format=\"gen8ou\", team=team_1)\n",
    "p2 = MaxDamagePlayer(battle_format=\"gen8ou\", team=team_2)\n",
    "\n",
    "await p1.battle_against(p2, n_battles=1)"
   ]
  },
  {
   "cell_type": "markdown",
   "metadata": {},
   "source": [
    "### Dealing with team preview\n",
    "\n",
    "By default, teampreview will be handled by randomly selecting the order of your pokemons. You can change this behaviour by overriding the `teampreview` method of the `Player` class. Here is an example using type-based heuristics:"
   ]
  },
  {
   "cell_type": "code",
   "execution_count": null,
   "metadata": {
    "execution": {
     "iopub.execute_input": "2023-12-17T01:56:44.586405Z",
     "iopub.status.busy": "2023-12-17T01:56:44.586226Z",
     "iopub.status.idle": "2023-12-17T01:56:44.662907Z",
     "shell.execute_reply": "2023-12-17T01:56:44.662464Z"
    }
   },
   "outputs": [],
   "source": [
    "import numpy as np\n",
    "\n",
    "\n",
    "def teampreview_performance(mon_a, mon_b):\n",
    "    # We evaluate the performance on mon_a against mon_b as its type advantage\n",
    "    a_on_b = b_on_a = -np.inf\n",
    "    for type_ in mon_a.types:\n",
    "        if type_:\n",
    "            a_on_b = max(\n",
    "                a_on_b,\n",
    "                type_.damage_multiplier(\n",
    "                    *mon_b.types, type_chart=GenData.from_gen(8).type_chart\n",
    "                ),\n",
    "            )\n",
    "    # We do the same for mon_b over mon_a\n",
    "    for type_ in mon_b.types:\n",
    "        if type_:\n",
    "            b_on_a = max(\n",
    "                b_on_a,\n",
    "                type_.damage_multiplier(\n",
    "                    *mon_a.types, type_chart=GenData.from_gen(8).type_chart\n",
    "                ),\n",
    "            )\n",
    "    # Our performance metric is the different between the two\n",
    "    return a_on_b - b_on_a\n",
    "\n",
    "\n",
    "class MaxDamagePlayerWithTeampreview(MaxDamagePlayer):\n",
    "    def teampreview(self, battle):\n",
    "        mon_performance = {}\n",
    "\n",
    "        # For each of our pokemons\n",
    "        for i, mon in enumerate(battle.team.values()):\n",
    "            # We store their average performance against the opponent team\n",
    "            mon_performance[i] = np.mean(\n",
    "                [\n",
    "                    teampreview_performance(mon, opp)\n",
    "                    for opp in battle.opponent_team.values()\n",
    "                ]\n",
    "            )\n",
    "\n",
    "        # We sort our mons by performance\n",
    "        ordered_mons = sorted(mon_performance, key=lambda k: -mon_performance[k])\n",
    "\n",
    "        # We start with the one we consider best overall\n",
    "        # We use i + 1 as python indexes start from 0\n",
    "        #  but showdown's indexes start from 1\n",
    "        return \"/team \" + \"\".join([str(i + 1) for i in ordered_mons])\n",
    "\n",
    "\n",
    "p3 = MaxDamagePlayerWithTeampreview(battle_format=\"gen8ou\", team=team_1)\n",
    "p4 = MaxDamagePlayerWithTeampreview(battle_format=\"gen8ou\", team=team_2)\n",
    "\n",
    "await p3.battle_against(p4, n_battles=1)"
   ]
  },
  {
   "cell_type": "markdown",
   "metadata": {},
   "source": [
    "## Other Initialization Options for `Player` Objects\n",
    "\n",
    "### Specifying an Avatar\n",
    "\n",
    "You can specify an `avatar` argument when initializing a `Player` object. This argument is a string, corresponding to the avatar's name.\n",
    "\n",
    "You can find a [list of avatar names here](https://github.com/smogon/pokemon-showdown-client/blob/6d55434cb85e7bbe614caadada819238190214f6/play.pokemonshowdown.com/src/battle-dex-data.ts#L690). If the avatar you are looking for is not in this list, you can inspect the message the client is sending to the server by opening your browser's development console and selecting the avatar manually.\n"
   ]
  },
  {
   "cell_type": "code",
   "execution_count": null,
   "metadata": {
    "execution": {
     "iopub.execute_input": "2023-12-17T01:56:44.665480Z",
     "iopub.status.busy": "2023-12-17T01:56:44.665310Z",
     "iopub.status.idle": "2023-12-17T01:56:44.670070Z",
     "shell.execute_reply": "2023-12-17T01:56:44.669445Z"
    }
   },
   "outputs": [],
   "source": [
    "player_with_avatar = RandomPlayer(avatar=\"boarder\")"
   ]
  },
  {
   "cell_type": "markdown",
   "metadata": {},
   "source": [
    "### Saving Battle Replays\n",
    "\n",
    "You can save battle replays by specifying a `save_replay` value when initializing a `Player` object. This argument can either be a boolean (if `True`, the replays will be saved in the `replays`) or a string - in which case the replays will be saved in the specified directory."
   ]
  },
  {
   "cell_type": "code",
   "execution_count": null,
   "metadata": {
    "execution": {
     "iopub.execute_input": "2023-12-17T01:56:44.672636Z",
     "iopub.status.busy": "2023-12-17T01:56:44.672447Z",
     "iopub.status.idle": "2023-12-17T01:56:44.677085Z",
     "shell.execute_reply": "2023-12-17T01:56:44.676320Z"
    }
   },
   "outputs": [],
   "source": [
    "player_with_replays = RandomPlayer(save_replays=\"my_folder\")"
   ]
  },
  {
   "cell_type": "markdown",
   "metadata": {},
   "source": [
    "### Logging\n",
    "\n",
    "Every `Player` instance has a custom logger. By default, it will only surface warnings and errors. You can change the logging level by specifying a `log_level` argument when initializing a `Player` object.\n",
    "\n",
    "The two most relevant values are `logging.INFO` or 20, which will surface every message sent or received by the client (which is very useful when debugging) and 25, which is a custom level used by `poke-env` to surface only the most relevant events.\n",
    "\n",
    "You can also use `logging.DEBUG` or 10, but the difference with `logging.INFO` should only be relevant for `poke-env` internals."
   ]
  },
  {
   "cell_type": "code",
   "execution_count": null,
   "metadata": {
    "execution": {
     "iopub.execute_input": "2023-12-17T01:56:44.679808Z",
     "iopub.status.busy": "2023-12-17T01:56:44.679609Z",
     "iopub.status.idle": "2023-12-17T01:56:45.687731Z",
     "shell.execute_reply": "2023-12-17T01:56:45.686655Z"
    }
   },
   "outputs": [],
   "source": [
    "verbose_player = RandomPlayer(log_level=20)\n",
    "\n",
    "from asyncio import sleep\n",
    "\n",
    "await sleep(1)"
   ]
  },
  {
   "cell_type": "markdown",
   "metadata": {},
   "source": [
    "### Concurrency\n",
    "\n",
    "By default, a `poke-env` `Player` will only run a single battle at a time. You can change this behavior by specifying a `max_concurrent_battles` argument when initializing a `Player` object.\n",
    "\n",
    "This argument is an integer, and represents the maximum number of battles a `Player` can run at the same time. If 0, no limit will be enforced.\n",
    "\n",
    "This can provide a significant speedup when your process is not CPU bound."
   ]
  },
  {
   "cell_type": "code",
   "execution_count": null,
   "metadata": {
    "execution": {
     "iopub.execute_input": "2023-12-17T01:56:45.693748Z",
     "iopub.status.busy": "2023-12-17T01:56:45.693351Z",
     "iopub.status.idle": "2023-12-17T01:56:53.818329Z",
     "shell.execute_reply": "2023-12-17T01:56:53.817732Z"
    }
   },
   "outputs": [],
   "source": [
    "import time\n",
    "\n",
    "# Time to run 50 battles, one at a time\n",
    "start = time.time()\n",
    "await random_player.battle_against(second_player, n_battles=50)\n",
    "end = time.time()\n",
    "print(f\"Time to run 50 battles, one at a time: {end - start:.2f} seconds\")"
   ]
  },
  {
   "cell_type": "code",
   "execution_count": null,
   "metadata": {
    "execution": {
     "iopub.execute_input": "2023-12-17T01:56:53.821701Z",
     "iopub.status.busy": "2023-12-17T01:56:53.821449Z",
     "iopub.status.idle": "2023-12-17T01:56:58.061583Z",
     "shell.execute_reply": "2023-12-17T01:56:58.055501Z"
    }
   },
   "outputs": [],
   "source": [
    "unrestricted_random_player = RandomPlayer(max_concurrent_battles=0)\n",
    "unrestricted_second_player = RandomPlayer(max_concurrent_battles=0)\n",
    "\n",
    "# Time to run 50 battles, in parallel\n",
    "start = time.time()\n",
    "await unrestricted_random_player.battle_against(\n",
    "    unrestricted_second_player, n_battles=50\n",
    ")\n",
    "end = time.time()\n",
    "print(f\"Time to run 50 battles, in parallel: {end - start:.2f} seconds\")"
   ]
  },
  {
   "cell_type": "markdown",
   "metadata": {},
   "source": [
    "Other options can also be used on the server side to make battles run faster.\n",
    "\n",
    "### Pokemon Showdown Timer\n",
    "\n",
    "You can turn on the Pokemon Showdown timer by setting `start_timer_on_battle_start` to `True` when initializing a `Player` object.\n",
    "\n",
    "This is mostly relevant when pitting your argents against humans."
   ]
  },
  {
   "cell_type": "code",
   "execution_count": null,
   "metadata": {
    "execution": {
     "iopub.execute_input": "2023-12-17T01:56:58.077245Z",
     "iopub.status.busy": "2023-12-17T01:56:58.075520Z",
     "iopub.status.idle": "2023-12-17T01:56:58.087932Z",
     "shell.execute_reply": "2023-12-17T01:56:58.086308Z"
    }
   },
   "outputs": [],
   "source": [
    "impatient_player = RandomPlayer(start_timer_on_battle_start=True)"
   ]
  }
 ],
 "metadata": {
  "kernelspec": {
   "display_name": "Project",
   "language": "python",
   "name": "python3"
  },
  "language_info": {
   "codemirror_mode": {
    "name": "ipython",
    "version": 3
   },
   "file_extension": ".py",
   "mimetype": "text/x-python",
   "name": "python",
   "nbconvert_exporter": "python",
   "pygments_lexer": "ipython3",
   "version": "3.9.20"
  }
 },
 "nbformat": 4,
 "nbformat_minor": 2
}

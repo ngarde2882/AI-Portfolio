{
 "cells": [
  {
   "cell_type": "markdown",
   "metadata": {
    "id": "Fxg2A5fZyHyp"
   },
   "source": [
    "# Week 9 Discussion 8: Support Vector Machines (03/21/2024)"
   ]
  },
  {
   "cell_type": "markdown",
   "metadata": {
    "id": "C86vcL6_yHyr"
   },
   "source": [
    "## Objectives"
   ]
  },
  {
   "cell_type": "markdown",
   "metadata": {
    "id": "OhlFHbe1yHys"
   },
   "source": [
    "***Support Vector Machines*** (SVM) represent a powerful and versatile class of supervised machine learning algorithms. At its core, **SVM is a binary classification algorithm** that operates by finding the optimal hyperplane that separates data points belonging to different classes in a high-dimensional space. Unlike some other classification methods, SVM aims to **maximize the margin**, which is the distance between the hyperplane and the nearest data points from each class. This approach not only ensures robustness against overfitting but also enhances the algorithm's generalization capability.\n",
    "\n",
    "This week's discussion will delve into various key aspects:\n",
    "\n",
    "1. We'll begin by providing an **overview** of the SVM formulation, exploring its core concepts.\n",
    "\n",
    "2. Next, we'll delve into the **dual formulation** of SVM, transitioning from the **linearly separable** case to the **linearly non-separable** case.\n",
    "\n",
    "3. Having the optimization at hand, we talk about how we can actually solve that optimization problem in `Python` using the `CVXOPT` library.\n",
    "\n",
    "4. Finally, to test the **implementation**, we'll create a linearly non-separable binary classification dataset and apply a linear and a nonlinear kernel to see which one is able to separate the two classes."
   ]
  },
  {
   "cell_type": "markdown",
   "metadata": {
    "id": "1qYT59HziPDj"
   },
   "source": [
    "## Sources\n",
    "This discussion is based on the following references:\n",
    "\n",
    "Murphy, Kevin P. Probabilistic machine learning: an introduction. MIT press, 2022.\n",
    "\n",
    "[blog post](https://mbhaskar1.github.io/machine%20learning/2019/07/04/svm-using-cvxopt.html)\n"
   ]
  },
  {
   "cell_type": "markdown",
   "metadata": {
    "id": "bFC7WaShiPDj"
   },
   "source": [
    "## SVM Review: The Primal Problem"
   ]
  },
  {
   "cell_type": "markdown",
   "metadata": {
    "id": "4ZKw1jeziPDj"
   },
   "source": [
    "Support Vector Machines (SVM) offer a mathematical framework for classification tasks that aims to find an optimal decision boundary separating different classes of data points. In the original formulation, the decision function for a feature vector $x_i \\in \\mathbb{R}^k$ is:\n",
    "$$\n",
    "f(x) = sign(w^T x_i + w_0),\n",
    "$$\n",
    "where $w \\in \\mathbb{R}^k$ and $w_0 \\in \\mathbb{R}$ are the decision function parameters.\n",
    "When fitting an SVM, the loss function typically used in SVM is the hinge loss, which is defined as:\n",
    "$$\n",
    "max(0, 1 - y_i (w^T x_i + w_0)),\n",
    "$$\n",
    "where $y_i \\in \\{-1, 1\\}$. In words, we can make the following observations from this loss function:\n",
    "* if $1 \\leq y_i (w^T x_i + w_0)$, the datapoint is classified correctly by a \"large\" margin, so it will not contribute to the loss.\n",
    "* if $0 \\leq y_i (w^T x_i + w_0) < 1$, the datapoint is classified correctly but with a \"smaller\" margin, therefore contributing to the loss.\n",
    "* if $y_i (w^T x_i + w_0) < 0$, the datapoint is miclassified, therefore contributing to the loss.\n",
    "\n",
    "If we add $\\ell_2$-regularization on weights as well, the empirical loss function we want to minimize would be:\n",
    "$$\n",
    "\\ell oss = \\frac{1}{2} \\lambda ||w||^2 + \\frac{1}{n} \\sum_{i=1}^n max(0, 1 - y_i (w^T x_i + w_0)),\n",
    "$$\n",
    "which can be rewritten as:\n",
    "$$\n",
    "\\ell oss = \\frac{1}{2} \\lambda ||w||^2 + \\frac{1}{n} \\sum_{\\substack{i=1 \\\\ y_i (w^T x_i + w_0) \\leq 1}}^n (1 - y_i (w^T x_i + w_0)).\n",
    "$$\n",
    "\n",
    "To optimize this loss with gradient descent, we need to calculate the gradient which is:\n",
    "$$\n",
    "\\frac{\\partial \\ell oss}{\\partial w} = \\lambda w - \\frac{1}{n} \\sum_{\\substack{i=1 \\\\ y_i (w^T x_i + w_0) \\leq 1}}^n y_i x_i.\\\\\n",
    "\\frac{\\partial \\ell oss}{\\partial w_0} = - \\frac{1}{n} \\sum_{\\substack{i=1 \\\\ y_i (w^T x_i + w_0) \\leq 1}}^n y_i\n",
    "$$"
   ]
  },
  {
   "cell_type": "markdown",
   "metadata": {
    "id": "Q9FQhRhhiPDk"
   },
   "source": [
    "## SVM Review: The Dual Problem"
   ]
  },
  {
   "cell_type": "markdown",
   "metadata": {
    "id": "Rp9LykGdiPDk"
   },
   "source": [
    "What we saw above is the original formulation of SVM, called the primal problem. Since this is a convex optimization problem, we can also derive a **dual problem** by a change of variables. The derivation starts from writing the Lagrangian, in the case of linearly separable data points, as:\n",
    "$$\n",
    "\\mathcal{L}(w, w_0) = \\frac{1}{2}w^Tw - \\sum_{i=1}^n \\alpha_i(y_i(w^T x_i + w_0)-1),\n",
    "$$\n",
    "with $\\alpha_i$ being the Lagrangian multiplier. To find a stationary point, we should take the partial derivatives with respect to $w$ and $w_0$ and put to 0. Those calculations, will result in a new formulation of the problem where we want to maximize (For more information on this, please refer to Probabilistic machine learning: an introduction by Kevin Murphy.):\n",
    "$$\n",
    "\\mathcal{L}(w, w_0, \\alpha) = -\\frac{1}{2}\\sum_{i=1}^n \\sum_{j=1}^n \\alpha_i \\alpha_j y_i y_j x_i . x_j + \\sum_{i=1}^n \\alpha_i,\n",
    "$$\n",
    "subject to:\n",
    "$$\n",
    "\\alpha_i \\geq 0,\\\\\n",
    "y_i f(x_i) \\geq 1,\\\\\n",
    "\\alpha_i (y_i f(x_i) - 1) = 0.\n",
    "$$\n",
    "\n",
    "After the optimization and obtaining ${\\{\\hat{\\alpha_i}\\}}_{i=1} ^ n$, our parameters $\\hat{w}$ and $\\hat{w_0}$ can be calculated by:\n",
    "$$\n",
    "\\hat{w} = \\sum_ {i=1}^n \\hat{\\alpha_i} y_i x_i,\\\\\n",
    "\\hat{w_0} =  \\frac{1}{\\# \\hat{\\alpha_i} > 0} \\sum_{\\substack{i=1 \\\\ \\hat{\\alpha_i} > 0}}^n (y_i - \\sum_{\\substack{j=1 \\\\ \\hat{\\alpha_j} > 0}}^n \\hat{\\alpha_j} y_j x_i.x_j)\n",
    "$$\n",
    "\n",
    "In a case where data is not linearly separable, we introduce extra variables $\\zeta_i$ called **slack variables**, and the optimization problem becomes:\n",
    "$$\n",
    "\\min_{w, w_0, \\zeta} \\frac{1}{2} w^T w + C \\sum_{i=1}^n \\zeta_i,\n",
    "$$\n",
    "subject to:\n",
    "$$\n",
    "\\zeta_i \\geq 0,\\\\\n",
    "y_i f(x_i) \\geq 1 - \\zeta_i,\n",
    "$$\n",
    "where the variables $\\zeta_i$ relax the constraints on samples being misclassified and $C$ is a hyperparameter controlling how many points are allowed to be misclassified. Setting $C=\\infty$ gets us back to original formulation.\n",
    "\n",
    "The dual problem in this case will be:\n",
    "\n",
    "$$\n",
    "\\mathcal{L}(w, w_0, \\alpha) = -\\frac{1}{2}\\sum_{i=1}^n \\sum_{j=1}^n \\alpha_i \\alpha_j y_i y_j x_i . x_j + \\sum_{i=1}^n \\alpha_i,\n",
    "$$\n",
    "subject to:\n",
    "$$\n",
    "0 \\leq \\alpha_i \\leq C,\\\\\n",
    "\\sum_{i=1}^n \\alpha_i y_i = 0.\n",
    "$$\n",
    "\n",
    "Applying the kernel trick discussed in class to replace the inner dot, the problem becomes:\n",
    "$$\n",
    "\\mathcal{L}(w, w_0, \\alpha) = -\\frac{1}{2}\\sum_{i=1}^n \\sum_{j=1}^n \\alpha_i \\alpha_j y_i y_j K(x_i, x_j) + \\sum_{i=1}^n \\alpha_i,\n",
    "$$\n",
    "subject to:\n",
    "$$\n",
    "0 \\leq \\alpha_i \\leq C,\\\\\n",
    "\\sum_{i=1}^n \\alpha_i y_i = 0,\n",
    "$$\n",
    "\n",
    "with $K(.,.)$ being the kernel function. After optimizing the above, we can make predictions by:\n",
    "$$\n",
    "f(x) = sign(\\sum_{i=1}^n \\alpha_i y_i K(x_i, x) + w_0),\\\\\n",
    "w_0 = \\frac{1}{\\# \\hat{\\alpha_i} > 0} \\sum_{\\substack{i=1 \\\\ \\hat{\\alpha_i} > 0}}^n (y_i - \\sum_{\\substack{j=1 \\\\ \\hat{\\alpha_j} > 0}}^n \\hat{\\alpha_j} y_j K(x_i,x_j))\n",
    "$$\n"
   ]
  },
  {
   "cell_type": "markdown",
   "metadata": {
    "id": "2dJPdD8giPDk"
   },
   "source": [
    "## Optimizing the Dual Problem"
   ]
  },
  {
   "cell_type": "markdown",
   "metadata": {
    "id": "bCN5z5pjiPDk"
   },
   "source": [
    "We are seeking to minimize the convex optimization problem obtained above , which, to repeat, is:\n",
    "$$\n",
    "\\mathcal{L}(\\alpha) = \\frac{1}{2}\\sum_{i=1}^n \\sum_{j=1}^n \\alpha_i \\alpha_j y_i y_j K(x_i, x_j) - \\sum_{i=1}^n \\alpha_i,\n",
    "$$\n",
    "subject to:\n",
    "$$\n",
    "0 \\leq \\alpha_i \\leq C,\\\\\n",
    "\\sum_{i=1}^n \\alpha_i y_i = 0,\n",
    "$$"
   ]
  },
  {
   "cell_type": "markdown",
   "metadata": {
    "id": "yAatXR34iPDk"
   },
   "source": [
    "There are packages that can solve convex optimization problems for us, like `CVXOPT` in `python`. This package optimizes the following formulation (still using $\\alpha$ as the variable):\n",
    "$$\n",
    "\\text{minimize   }\\frac{1}{2} \\alpha^T P \\alpha + q^T \\alpha\\\\\n",
    "\\text{subject to: }\\\\\n",
    "G\\alpha \\leq h \\\\\n",
    "A\\alpha = b\n",
    "$$"
   ]
  },
  {
   "cell_type": "markdown",
   "metadata": {
    "id": "51Y6Pi20iPDl"
   },
   "source": [
    "Now the question becomes, how can we formulate the problem we are seeking to optimize, as what `CVXOPT` expects. In other words, how can we create matrices $P$, $q$, $G$, $h$, $A$, and $b$?"
   ]
  },
  {
   "cell_type": "markdown",
   "metadata": {
    "id": "0Qnx67sKiPDl"
   },
   "source": [
    "#### Toy dataset\n",
    "\n",
    "In what follows, we explain how to create the matrices `CVXOPT` needs for optimization based on the data points that we have and what we are trying to minimize. For a concrete explanation, let's create a very small dataset of 10 two-dimensional points we can use:"
   ]
  },
  {
   "cell_type": "code",
   "execution_count": null,
   "metadata": {
    "colab": {
     "base_uri": "https://localhost:8080/"
    },
    "executionInfo": {
     "elapsed": 12,
     "status": "ok",
     "timestamp": 1711051875549,
     "user": {
      "displayName": "Sicong Huang",
      "userId": "05751007013995625240"
     },
     "user_tz": 300
    },
    "id": "DdSUp29fiPDl",
    "outputId": "998ed0fc-6e47-432b-9104-2b0d3017adbc"
   },
   "outputs": [
    {
     "name": "stdout",
     "output_type": "stream",
     "text": [
      "[[0.20150764 0.94840765]\n",
      " [0.9510631  0.71380637]\n",
      " [0.92413229 0.20495071]\n",
      " [0.6184659  0.04983685]\n",
      " [0.96584986 0.45166315]]\n",
      "[[ 1]\n",
      " [-1]\n",
      " [ 1]\n",
      " [ 1]\n",
      " [ 1]]\n"
     ]
    }
   ],
   "source": [
    "import numpy as np\n",
    "n   = 5\n",
    "dim = 2\n",
    "X = np.random.rand(n, dim)\n",
    "y = np.random.choice([-1, 1], size=n).reshape(n, -1)\n",
    "C = 1 # hyperparameter: slack\n",
    "\n",
    "print (X)\n",
    "print (y)\n",
    "# 5x2 rand data"
   ]
  },
  {
   "cell_type": "markdown",
   "metadata": {
    "id": "n28Vc6EeiPDm"
   },
   "source": [
    "#### Creating the matrix $P$"
   ]
  },
  {
   "cell_type": "markdown",
   "metadata": {
    "id": "ycv-dYzwiPDm"
   },
   "source": [
    "If we look closely at the term $\\frac{1}{2} \\alpha^T P \\alpha$ and expand it, we arrive at:\n",
    "$$\n",
    "\\frac{1}{2} \\alpha^T P \\alpha = \\frac{1}{2} \\sum_{i=1}^n \\sum_{j=1}^n \\alpha_i \\alpha_j P_{ij},\n",
    "$$\n",
    "which becomes very similar to a term we have in our optimization problem:\n",
    "$$\n",
    "\\frac{1}{2}\\sum_{i=1}^n \\sum_{j=1}^n \\alpha_i \\alpha_j y_i y_j K(x_i, x_j).\n",
    "$$\n",
    "By equating the two, we learn that the $(i,j)$ element of the matrix $P$ equals $y_i y_j K(x_i, x_j)$. So we can build the matrix $P$ by:\n",
    "$$\n",
    "P = [y_i y_j K(x_i, x_j)]_{i,j}\n",
    "$$"
   ]
  },
  {
   "cell_type": "markdown",
   "metadata": {
    "id": "9PgShFKriPDm"
   },
   "source": [
    "Now let's define our kernel, for example the radial basis function (RBF) kernel:\n",
    "$$\n",
    "K(x_i, x_j) = exp(-\\frac{{||x_i-x_j||}^2}{2 \\sigma ^ 2})\n",
    "$$"
   ]
  },
  {
   "cell_type": "code",
   "execution_count": null,
   "metadata": {
    "id": "QfCYKaRniPDm"
   },
   "outputs": [],
   "source": [
    "def K_rbf(xi, xj, s2=1): # sig sqrd (kernel formula above)\n",
    "    diff = xi - xj\n",
    "    return np.exp(-(np.sum(diff**2))/2/s2)"
   ]
  },
  {
   "cell_type": "markdown",
   "metadata": {
    "id": "7EKybJuwiPDm"
   },
   "source": [
    "Then we can create the matrix $P$:"
   ]
  },
  {
   "cell_type": "code",
   "execution_count": null,
   "metadata": {
    "id": "A3eKc1dLiPDm"
   },
   "outputs": [],
   "source": [
    "P = np.zeros((n, n))\n",
    "for i in range(n):\n",
    "    for j in range(n):\n",
    "        P[i][j] = y[i, 0]*y[j, 0]*K_rbf(X[i, :], X[j, :])"
   ]
  },
  {
   "cell_type": "markdown",
   "metadata": {
    "id": "tLUPGb1RiPDm"
   },
   "source": [
    "So the matrix $P$ looks like:"
   ]
  },
  {
   "cell_type": "code",
   "execution_count": null,
   "metadata": {
    "colab": {
     "base_uri": "https://localhost:8080/"
    },
    "executionInfo": {
     "elapsed": 9,
     "status": "ok",
     "timestamp": 1711051875549,
     "user": {
      "displayName": "Sicong Huang",
      "userId": "05751007013995625240"
     },
     "user_tz": 300
    },
    "id": "bLDKmQ3WiPDm",
    "outputId": "922e81d0-0e7c-4e4a-c765-cdc39b55270f"
   },
   "outputs": [
    {
     "name": "stdout",
     "output_type": "stream",
     "text": [
      "[[ 1.         -0.73459528  0.58423189  0.61223332  0.66001874]\n",
      " [-0.73459528  1.         -0.878245   -0.75901161 -0.96611843]\n",
      " [ 0.58423189 -0.878245    1.          0.94294613  0.9691812 ]\n",
      " [ 0.61223332 -0.75901161  0.94294613  1.          0.86842853]\n",
      " [ 0.66001874 -0.96611843  0.9691812   0.86842853  1.        ]]\n"
     ]
    }
   ],
   "source": [
    "print (P)"
   ]
  },
  {
   "cell_type": "markdown",
   "metadata": {
    "id": "eH6RQhadiPDm"
   },
   "source": [
    "#### Creating the matrix $q$"
   ]
  },
  {
   "cell_type": "markdown",
   "metadata": {
    "id": "a3Jls1gdiPDn"
   },
   "source": [
    "Similar to what we had above, if we expand $q^T \\alpha$, we get:\n",
    "$$\n",
    "q^T \\alpha = \\sum_{i=1}^n q_i \\alpha_i.\n",
    "$$\n",
    "In our loss function, we have a term $- \\sum_{i=1}^n \\alpha_i$. So we can recreate $- \\sum_{i=1}^n \\alpha_i$ by having $q$ as a column vector of all $-1$'s. So:"
   ]
  },
  {
   "cell_type": "code",
   "execution_count": null,
   "metadata": {
    "colab": {
     "base_uri": "https://localhost:8080/"
    },
    "executionInfo": {
     "elapsed": 350,
     "status": "ok",
     "timestamp": 1711051875893,
     "user": {
      "displayName": "Sicong Huang",
      "userId": "05751007013995625240"
     },
     "user_tz": 300
    },
    "id": "PLJIyaEMiPDn",
    "outputId": "d25ee307-2bfb-4886-e5d5-4e2c1658fa7d"
   },
   "outputs": [
    {
     "name": "stdout",
     "output_type": "stream",
     "text": [
      "[[-1.]\n",
      " [-1.]\n",
      " [-1.]\n",
      " [-1.]\n",
      " [-1.]]\n"
     ]
    }
   ],
   "source": [
    "q = -np.ones((n, 1))\n",
    "print (q)"
   ]
  },
  {
   "cell_type": "markdown",
   "metadata": {
    "id": "pQPruDcNyHyt"
   },
   "source": [
    "#### Creating the matrices $G$ and $h$"
   ]
  },
  {
   "cell_type": "markdown",
   "metadata": {
    "id": "Jk6NNgfAiPDn"
   },
   "source": [
    "Matrices $G$ and $h$ are used for inequality constraints, the end goal being having a formulation like $G \\alpha \\leq h$. The inequality we are trying to implement is:\n",
    "$$\n",
    "0 \\leq \\alpha_i \\leq C,\n",
    "$$\n",
    "which we want to implement using a formulation like:\n",
    "$$\n",
    "G \\alpha \\leq h.\n",
    "$$\n",
    "\n",
    "We can achieve the following by decomposing the equalities that we have, namely, $0 \\leq \\alpha_i \\leq C$ into two inequalities:\n",
    "$$\n",
    "- \\alpha_i \\leq 0 \\\\\n",
    "\\alpha_i \\leq C.\n",
    "$$\n",
    "We can recreate these inequalities using $G \\alpha \\leq h$ by:\n",
    "$$\n",
    "G =\n",
    "  \\begin{bmatrix}\n",
    "  -I \\\\\n",
    "  I\n",
    "  \\end{bmatrix}, \\\\\n",
    "h =\n",
    "  \\begin{bmatrix}\n",
    "  0*\\mathbf{1} \\\\\n",
    "  C*\\mathbf{1}\n",
    "  \\end{bmatrix},\n",
    "$$\n",
    "Where $G$ and $h$ are block matrices, $I$ denotes the identity matrix (an $n \\times n$ diagonal matrix with entries $1$ on the diagonal), and $\\mathbf{1}$ denotes an $n \\times 1$ vector with entries 1."
   ]
  },
  {
   "cell_type": "markdown",
   "metadata": {
    "id": "spudooxAiPDn"
   },
   "source": [
    "In code, we create $G$ and $h$ as follows:"
   ]
  },
  {
   "cell_type": "code",
   "execution_count": null,
   "metadata": {
    "colab": {
     "base_uri": "https://localhost:8080/"
    },
    "executionInfo": {
     "elapsed": 4,
     "status": "ok",
     "timestamp": 1711051875893,
     "user": {
      "displayName": "Sicong Huang",
      "userId": "05751007013995625240"
     },
     "user_tz": 300
    },
    "id": "uf2-fsO4iPDn",
    "outputId": "1680f04e-b5ad-42db-b42e-07398d7ad52c"
   },
   "outputs": [
    {
     "name": "stdout",
     "output_type": "stream",
     "text": [
      "[[-1.  0.  0.  0.  0.]\n",
      " [ 0. -1.  0.  0.  0.]\n",
      " [ 0.  0. -1.  0.  0.]\n",
      " [ 0.  0.  0. -1.  0.]\n",
      " [ 0.  0.  0.  0. -1.]\n",
      " [ 1.  0.  0.  0.  0.]\n",
      " [ 0.  1.  0.  0.  0.]\n",
      " [ 0.  0.  1.  0.  0.]\n",
      " [ 0.  0.  0.  1.  0.]\n",
      " [ 0.  0.  0.  0.  1.]]\n",
      "[[0.]\n",
      " [0.]\n",
      " [0.]\n",
      " [0.]\n",
      " [0.]\n",
      " [1.]\n",
      " [1.]\n",
      " [1.]\n",
      " [1.]\n",
      " [1.]]\n"
     ]
    }
   ],
   "source": [
    "G = np.vstack([np.diag([-1 for _ in range(n)]), np.eye(n)])\n",
    "h = np.vstack([np.zeros((n, 1)), C * np.ones((n, 1))])\n",
    "print (G)\n",
    "print (h)"
   ]
  },
  {
   "cell_type": "markdown",
   "metadata": {
    "id": "Xy18OGrsiPDn"
   },
   "source": [
    "#### Creating the matrices $A$ and $b$\n",
    "Matrices $A$ and $b$ are used for equality constraints, the end goal being having a formulation like $A \\alpha = b$. The equality we are trying to implement is:\n",
    "$$\n",
    "\\sum_{i=1}^n y_i \\alpha_i = 0.\n",
    "$$"
   ]
  },
  {
   "cell_type": "markdown",
   "metadata": {
    "id": "QzDw5rIgiPDn"
   },
   "source": [
    "If we put $A=y^T$ and $b=0$, we will have:\n",
    "$$\n",
    "y^T \\alpha = 0,\n",
    "$$\n",
    "which is the same as having:\n",
    "$$\n",
    "\\sum_{i=1}^n y_i \\alpha_i = 0.\n",
    "$$\n",
    "Therefore:"
   ]
  },
  {
   "cell_type": "code",
   "execution_count": null,
   "metadata": {
    "colab": {
     "base_uri": "https://localhost:8080/"
    },
    "executionInfo": {
     "elapsed": 4,
     "status": "ok",
     "timestamp": 1711051875894,
     "user": {
      "displayName": "Sicong Huang",
      "userId": "05751007013995625240"
     },
     "user_tz": 300
    },
    "id": "eEGoUcXWiPDn",
    "outputId": "6677af46-8978-45f7-e6af-8ff8a1da78fa"
   },
   "outputs": [
    {
     "name": "stdout",
     "output_type": "stream",
     "text": [
      "[[ 1 -1  1  1  1]]\n",
      "[[0.]]\n"
     ]
    }
   ],
   "source": [
    "A = y.T\n",
    "b = np.zeros((1,1))\n",
    "print (A)\n",
    "print (b)"
   ]
  },
  {
   "cell_type": "markdown",
   "metadata": {
    "id": "MJ7tfHBriPDn"
   },
   "source": [
    "## Putting all together, creating an SVM with RBF kernel"
   ]
  },
  {
   "cell_type": "markdown",
   "metadata": {
    "id": "SES6begTiPDn"
   },
   "source": [
    "We now use what we have learnt so far to create an SVM learner class with RBF kernel. You should recognize all parts of the implementation below:"
   ]
  },
  {
   "cell_type": "code",
   "execution_count": null,
   "metadata": {
    "id": "RKyr9bmMiPDn"
   },
   "outputs": [],
   "source": [
    "import cvxopt\n",
    "class SVM:\n",
    "    def __init__(self, kernel, C = 1):\n",
    "        self.C = C\n",
    "        self.kernel = kernel\n",
    "\n",
    "    def fit(self, X, y):\n",
    "        self.X = X\n",
    "        self.y = y\n",
    "        n      = X.shape[0]\n",
    "        self.n = n\n",
    "\n",
    "        # P and q\n",
    "        P = np.zeros((n, n))\n",
    "        for i in range(n):\n",
    "            for j in range(n):\n",
    "                P[i][j] = y[i, 0]*y[j, 0]*self.kernel(X[i, :], X[j, :])\n",
    "        q = -np.ones((n, 1))\n",
    "\n",
    "        # G and h\n",
    "        G = np.vstack([np.diag([-1 for _ in range(n)]), np.eye(n)])\n",
    "        h = np.vstack([np.zeros((n, 1)), self.C * np.ones((n, 1))])\n",
    "\n",
    "        # A and b\n",
    "        A = y.T\n",
    "        b = np.zeros((1,1))\n",
    "\n",
    "\n",
    "        # casting all matrices to CVXOPT matrices\n",
    "        P, q, G, h, A, b = [cvxopt.matrix(m.astype('double')) for m in [P, q, G, h, A, b]]\n",
    "\n",
    "\n",
    "        # calling cvxopt solver using the matrices we have built\n",
    "        sol = cvxopt.solvers.qp(P, q, G, h, A, b)\n",
    "\n",
    "        # extracting alpha values from the solver output\n",
    "        self.alpha = np.array(sol['x']).reshape(self.n)\n",
    "\n",
    "        # support vectors are points with \\alpha_i > 0\n",
    "        sup_vecs = np.where(self.alpha > 1e-4)[0]\n",
    "        self.sup_vecs = sup_vecs\n",
    "\n",
    "        # calculating w0\n",
    "        self.w0 = np.mean([\n",
    "            y[sv, 0] - sum(self.alpha[sv_]*y[sv_, 0]*self.kernel(X[sv, :], X[sv_, :]) for sv_ in sup_vecs)\n",
    "            for sv in sup_vecs\n",
    "        ])\n",
    "\n",
    "    # make predictions in kernel space, map predictions into space\n",
    "    def _predict(self, x):\n",
    "        return np.sign(sum([self.alpha[sv]*self.y[sv, 0]*self.kernel(x, self.X[sv, :])for sv in self.sup_vecs])+self.w0)\n",
    "\n",
    "    def predict(self, X):\n",
    "        return np.array([self._predict(X[i, :]) for i in range(X.shape[0])])\n"
   ]
  },
  {
   "cell_type": "markdown",
   "metadata": {
    "id": "4NGYZW-liPDo"
   },
   "source": [
    "## Creating a dataset\n",
    "\n",
    "Now let's create a dataset and a simple plotter function:"
   ]
  },
  {
   "cell_type": "code",
   "execution_count": null,
   "metadata": {
    "id": "YZX4GdX6iPDo"
   },
   "outputs": [],
   "source": [
    "from sklearn.datasets import make_moons\n",
    "X, y = make_moons(1000)\n",
    "y = np.power(-1, y+1).reshape(-1, 1) # making y in {-1, 1} rather than {0, 1}"
   ]
  },
  {
   "cell_type": "markdown",
   "metadata": {
    "id": "GuJjH85JiPDo"
   },
   "source": [
    "A simple plotting function:"
   ]
  },
  {
   "cell_type": "code",
   "execution_count": null,
   "metadata": {
    "id": "zXAleNiLiPDo"
   },
   "outputs": [],
   "source": [
    "import matplotlib.pyplot as plt\n",
    "\n",
    "def plot(X, y, title):\n",
    "    fig, ax  = plt.subplots()\n",
    "    ax.scatter(X[:,0], X[:,1], c = y)\n",
    "    ax.set_title(title)\n",
    "    plt.show()"
   ]
  },
  {
   "cell_type": "code",
   "execution_count": null,
   "metadata": {
    "colab": {
     "base_uri": "https://localhost:8080/",
     "height": 452
    },
    "executionInfo": {
     "elapsed": 598,
     "status": "ok",
     "timestamp": 1711051878091,
     "user": {
      "displayName": "Sicong Huang",
      "userId": "05751007013995625240"
     },
     "user_tz": 300
    },
    "id": "jeZLEGYpiPDr",
    "outputId": "c0a2b638-eda4-4814-e2f9-2282c70c9a03"
   },
   "outputs": [
    {
     "data": {
      "image/png": "[encoded data removed]",
      "text/plain": [
       "<Figure size 640x480 with 1 Axes>"
      ]
     },
     "metadata": {},
     "output_type": "display_data"
    }
   ],
   "source": [
    "plot(X, y, 'Training Data')"
   ]
  },
  {
   "cell_type": "markdown",
   "metadata": {
    "id": "XwDrMxsyiPDr"
   },
   "source": [
    "Now we train an SVM with a linear kernel to see if we can fit this data perfectly:"
   ]
  },
  {
   "cell_type": "code",
   "execution_count": null,
   "metadata": {
    "colab": {
     "base_uri": "https://localhost:8080/",
     "height": 724
    },
    "executionInfo": {
     "elapsed": 25256,
     "status": "ok",
     "timestamp": 1711051903339,
     "user": {
      "displayName": "Sicong Huang",
      "userId": "05751007013995625240"
     },
     "user_tz": 300
    },
    "id": "ihVB_qP9iPDs",
    "outputId": "78b3a6cb-0338-4566-ebab-9f731ccabbb5"
   },
   "outputs": [
    {
     "name": "stdout",
     "output_type": "stream",
     "text": [
      "     pcost       dcost       gap    pres   dres\n",
      " 0: -3.2720e+02 -1.8264e+03  7e+03  2e+00  1e-14\n",
      " 1: -2.3235e+02 -9.7957e+02  1e+03  1e-01  9e-15\n",
      " 2: -2.2905e+02 -3.4203e+02  1e+02  2e-02  8e-15\n",
      " 3: -2.4978e+02 -2.8547e+02  4e+01  4e-03  9e-15\n",
      " 4: -2.5391e+02 -2.7674e+02  3e+01  2e-03  8e-15\n",
      " 5: -2.5698e+02 -2.7071e+02  1e+01  1e-03  8e-15\n",
      " 6: -2.5843e+02 -2.6799e+02  1e+01  8e-04  8e-15\n",
      " 7: -2.5976e+02 -2.6564e+02  6e+00  4e-04  7e-15\n",
      " 8: -2.6071e+02 -2.6363e+02  3e+00  7e-05  9e-15\n",
      " 9: -2.6151e+02 -2.6266e+02  1e+00  2e-05  8e-15\n",
      "10: -2.6202e+02 -2.6206e+02  4e-02  1e-08  1e-14\n",
      "11: -2.6204e+02 -2.6204e+02  9e-04  3e-10  1e-14\n",
      "12: -2.6204e+02 -2.6204e+02  2e-05  5e-12  1e-14\n",
      "Optimal solution found.\n"
     ]
    },
    {
     "data": {
      "image/png": "[encoded data removed]",
      "text/plain": [
       "<Figure size 640x480 with 1 Axes>"
      ]
     },
     "metadata": {},
     "output_type": "display_data"
    }
   ],
   "source": [
    "def K_linear(xi, xj):\n",
    "    return np.inner(xi, xj)\n",
    "\n",
    "svm = SVM(kernel=K_linear, C=1)\n",
    "svm.fit(X, y)\n",
    "preds = svm.predict(X)\n",
    "plot(X, preds, 'Predictions with linear Kernel')"
   ]
  },
  {
   "cell_type": "markdown",
   "metadata": {
    "id": "IJtVGFtyiPDs"
   },
   "source": [
    "We see that we are not able to lineraly separate the two classes with a linear kernel. Now we try again with RBF kernel:"
   ]
  },
  {
   "cell_type": "code",
   "execution_count": null,
   "metadata": {
    "colab": {
     "base_uri": "https://localhost:8080/",
     "height": 724
    },
    "executionInfo": {
     "elapsed": 13858,
     "status": "ok",
     "timestamp": 1711051917193,
     "user": {
      "displayName": "Sicong Huang",
      "userId": "05751007013995625240"
     },
     "user_tz": 300
    },
    "id": "kTjFx9aWiPDs",
    "outputId": "5ec9a974-6b6d-4ce3-b9c8-a306c69b0f77"
   },
   "outputs": [
    {
     "name": "stdout",
     "output_type": "stream",
     "text": [
      "     pcost       dcost       gap    pres   dres\n",
      " 0: -3.4068e+01 -1.2321e+03  5e+03  2e+00  3e-15\n",
      " 1: -1.8129e+01 -4.7311e+02  5e+02  3e-02  2e-15\n",
      " 2: -3.2211e+01 -8.9250e+01  6e+01  3e-03  2e-15\n",
      " 3: -3.8189e+01 -5.5227e+01  2e+01  9e-04  2e-15\n",
      " 4: -4.0384e+01 -4.9987e+01  1e+01  2e-04  2e-15\n",
      " 5: -4.1768e+01 -4.5691e+01  4e+00  8e-05  2e-15\n",
      " 6: -4.2363e+01 -4.4184e+01  2e+00  3e-05  2e-15\n",
      " 7: -4.2703e+01 -4.3476e+01  8e-01  1e-05  2e-15\n",
      " 8: -4.2917e+01 -4.3079e+01  2e-01  1e-15  3e-15\n",
      " 9: -4.2976e+01 -4.3012e+01  4e-02  2e-15  2e-15\n",
      "10: -4.2989e+01 -4.2997e+01  8e-03  3e-15  2e-15\n",
      "11: -4.2992e+01 -4.2993e+01  4e-04  5e-15  3e-15\n",
      "12: -4.2993e+01 -4.2993e+01  4e-06  2e-15  3e-15\n",
      "Optimal solution found.\n"
     ]
    },
    {
     "data": {
      "image/png": "[encoded data removed]",
      "text/plain": [
       "<Figure size 640x480 with 1 Axes>"
      ]
     },
     "metadata": {},
     "output_type": "display_data"
    }
   ],
   "source": [
    "def K_rbf(xi, xj, s2=1):\n",
    "    diff = xi - xj\n",
    "    return np.exp(-(np.sum(diff**2))/2/s2)\n",
    "\n",
    "svm = SVM(kernel=K_rbf, C=1)\n",
    "svm.fit(X, y)\n",
    "preds = svm.predict(X)\n",
    "plot(X, preds, 'Predictions with RBF Kernel')"
   ]
  },
  {
   "cell_type": "markdown",
   "metadata": {
    "id": "wuR1xZyjiPDs"
   },
   "source": [
    "We see that we can separate these classes with the RBF kernel."
   ]
  },
  {
   "cell_type": "markdown",
   "metadata": {
    "id": "ljLL5l2GyHy_"
   },
   "source": [
    "## What We Have Learned"
   ]
  },
  {
   "cell_type": "markdown",
   "metadata": {
    "id": "-5opSCIqyHy_"
   },
   "source": [
    "In this discussion, we accomplished the following:\n",
    "\n",
    "* Provided an overview of SVM.\n",
    "* Discussed the dual formulation of SVM.\n",
    "* Created the necessary matrices and used the `CVXOPT` library in `Python` to fit the SVM model.\n",
    "* Created a binary classification dataset and applied our implementation and saw how a kernel function can help with linearly non-separable data."
   ]
  },
  {
   "cell_type": "markdown",
   "metadata": {
    "id": "9o5y2t5yyHy_"
   },
   "source": [
    "Hope you have enjoyed this lesson!"
   ]
  }
 ],
 "metadata": {
  "colab": {
   "provenance": []
  },
  "kernelspec": {
   "display_name": "Python 3 (ipykernel)",
   "language": "python",
   "name": "python3"
  },
  "language_info": {
   "codemirror_mode": {
    "name": "ipython",
    "version": 3
   },
   "file_extension": ".py",
   "mimetype": "text/x-python",
   "name": "python",
   "nbconvert_exporter": "python",
   "pygments_lexer": "ipython3",
   "version": "3.11.5"
  }
 },
 "nbformat": 4,
 "nbformat_minor": 4
}

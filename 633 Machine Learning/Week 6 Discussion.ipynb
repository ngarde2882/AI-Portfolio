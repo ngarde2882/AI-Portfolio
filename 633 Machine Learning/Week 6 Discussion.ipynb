{
 "cells": [
  {
   "cell_type": "markdown",
   "metadata": {},
   "source": [
    "# Week 6 Discussion: Boosted Decision Trees"
   ]
  },
  {
   "cell_type": "markdown",
   "metadata": {},
   "source": [
    "## Objectives"
   ]
  },
  {
   "cell_type": "markdown",
   "metadata": {},
   "source": [
    "Boosting is an ensemble learning technique where multiple weak learners are combined to form a strong learner. The key principle behind boosting is to sequentially train weak learners and give more weight to the misclassified instances in subsequent iterations, thereby focusing on the difficult-to-classify examples. This iterative process allows boosting algorithms to continuously improve the model's performance.\n",
    "\n",
    "Last week we developed classification decision trees, whereas this week we will focus on regression decision trees. To adapt decision trees for regression we have developed, we need to make some modifications to the traditional classification decision trees.\n",
    "\n",
    "This week's discussion will include several topics:\n",
    "\n",
    "1. Changes to the classification decision tree we developed to make it a regression decision tree.\n",
    "\n",
    "2. For creating a boosted tree learner using regression trees, we employ the AdaBoost algorithm. In each iteration, a regression tree is trained on the residuals (the differences between the actual and predicted values) of the previous iteration. This process continues, with each new tree correcting the errors of the previous ones, ultimately leading to a strong ensemble model.\n",
    "\n",
    "3. To visualize the regression dataset, we plot the input feature against the target variable. Once the model is trained, we will apply it to the data and visualize the output predictions, too."
   ]
  },
  {
   "cell_type": "markdown",
   "metadata": {},
   "source": [
    "## Sources"
   ]
  },
  {
   "cell_type": "markdown",
   "metadata": {},
   "source": [
    "This discussion on fitting decision trees is based on the following references:\n",
    "\n",
    "https://github.com/patrickloeber/MLfromscratch/blob/master/mlfromscratch/decision_tree.py\n",
    "\n",
    "https://blog.mlreview.com/gradient-boosting-from-scratch-1e317ae4587d\n",
    "\n",
    "https://www.kaggle.com/code/grroverpr/gradient-boosting-simplified/notebook"
   ]
  },
  {
   "cell_type": "markdown",
   "metadata": {},
   "source": [
    "## 1. Changing the classification decision tree to a regression tree"
   ]
  },
  {
   "cell_type": "markdown",
   "metadata": {},
   "source": [
    "Previously, we constructed a classification decision tree, and this week, we're adapting the same codebase to create a regression decision tree. Surprisingly, most of the existing code can be repurposed, necessitating only two alterations:\n",
    "\n",
    "* Splitting Criteria: While our classification trees relied on entropy for optimal splits, regression trees require a different approach. Typically, we assess splits using metrics such as mean squared error (MSE) or mean absolute error (MAE) to gauge enhancements in prediction accuracy. In our case, we opt for mean squared error.\n",
    "\n",
    "* Leaf Node Prediction: In classification trees, leaf nodes forecast the prevalent class within their domain. Conversely, in regression trees, leaf nodes predict a continuous value, commonly the mean (for MSE) or median (for MAE) of the target values within their domain. In our case, we use MSE to match our splitting criteria."
   ]
  },
  {
   "cell_type": "markdown",
   "metadata": {},
   "source": [
    "We'll start by briefly reviewing the code we had last week and making adjustments as needed. We'll clearly indicate the sections that need modification and those that remain unchanged. The decision tree implementation provided below is identical to last week's code unless specified otherwise."
   ]
  },
  {
   "cell_type": "markdown",
   "metadata": {},
   "source": [
    "Last week, we used the `entropy` function below as the splitting criteria. This function measures the entropy in the given labels. "
   ]
  },
  {
   "cell_type": "code",
   "execution_count": 1,
   "metadata": {},
   "outputs": [],
   "source": [
    "import numpy as np\n",
    "\n",
    "def entropy(y):\n",
    "    hist = np.bincount(y)\n",
    "    ps = hist / len(y)\n",
    "    return -np.sum([p * np.log2(p) for p in ps if p > 0])"
   ]
  },
  {
   "cell_type": "markdown",
   "metadata": {},
   "source": [
    "Given the shift in our objective from classification to regression, we'll no longer utilize the aforementioned function for splitting criteria. Instead, we'll employ the `MSE` function provided below:"
   ]
  },
  {
   "cell_type": "code",
   "execution_count": 2,
   "metadata": {},
   "outputs": [],
   "source": [
    "import numpy as np\n",
    "\n",
    "def MSE(y):\n",
    "    pred = np.mean(y)\n",
    "    return np.mean((y-pred)**2)"
   ]
  },
  {
   "cell_type": "markdown",
   "metadata": {},
   "source": [
    "The function `MSE` outlined above operates on the labels $y$ and performs the following steps:\n",
    "\n",
    "* The prediction pred is computed as the mean of the labels.\n",
    "* Mean squared error (MSE) is then computed by squaring the differences between the labels and the prediction `pred`, then averaging these squared differences."
   ]
  },
  {
   "cell_type": "markdown",
   "metadata": {},
   "source": [
    "The foundational component of our tree structure is the class `Node`, as defined below:"
   ]
  },
  {
   "cell_type": "code",
   "execution_count": 3,
   "metadata": {},
   "outputs": [],
   "source": [
    "class Node:\n",
    "    def __init__(\n",
    "        self, feature=None, threshold=None, left=None, right=None, value=None\n",
    "    ):\n",
    "        self.feature = feature\n",
    "        self.threshold = threshold\n",
    "        self.left = left\n",
    "        self.right = right\n",
    "        self.value = value\n",
    "\n",
    "    def is_leaf_node(self):\n",
    "        return self.value is not None"
   ]
  },
  {
   "cell_type": "markdown",
   "metadata": {},
   "source": [
    "The `Node` class `__init__()` function is designed to five arguments:\n",
    "\n",
    "* `feature`: Represents the feature on which the node splits. Applicable to non-leaf nodes.\n",
    "\n",
    "* `threshold`: Denotes the threshold for the node's split. Applicable to non-leaf nodes.\n",
    "\n",
    "* `left`: Refers to the left child of the node. Applicable to non-leaf nodes.\n",
    "\n",
    "* `right`: Denotes the right child of the node. Applicable to non-leaf nodes.\n",
    "\n",
    "*  `value`: Represents the node's value used for prediction. Applicable to leaf nodes.\n",
    "\n",
    "The function `is_leaf_node()` returns `True` if the class attribute `value` is set, indicating that the node is a leaf node."
   ]
  },
  {
   "cell_type": "markdown",
   "metadata": {},
   "source": [
    "We will construct the `DecisionTree` class gradually, one function at a time. To enhance understanding, we'll initially define the functions outside the class and later assemble them within the class structure."
   ]
  },
  {
   "cell_type": "markdown",
   "metadata": {},
   "source": [
    "The `DecisionTree` class `__init__` function is as follows:"
   ]
  },
  {
   "cell_type": "code",
   "execution_count": 4,
   "metadata": {},
   "outputs": [],
   "source": [
    "def __init__(self, min_samples_split=2, max_depth=100, n_feats=None):\n",
    "    self.min_samples_split = min_samples_split\n",
    "    self.max_depth = max_depth\n",
    "    self.n_feats = n_feats\n",
    "    self.root = None"
   ]
  },
  {
   "cell_type": "markdown",
   "metadata": {},
   "source": [
    "In the `__init__()` function of the `DecisionTree` class, there are three arguments:\n",
    "\n",
    "* `min_samples_split`: Represents the minimum number of samples in a node required for further splitting.\n",
    "\n",
    "* `max_depth`: Denotes the maximum depth allowed for the tree.\n",
    "\n",
    "* `n_feats`: Indicates the number of features present in the dataset.\n",
    "\n",
    "The `root` attribute of the class is initialized to $None$ and will be assigned later during the tree fitting process."
   ]
  },
  {
   "cell_type": "markdown",
   "metadata": {},
   "source": [
    "The function `fit` is used for fitting the decision tree:"
   ]
  },
  {
   "cell_type": "code",
   "execution_count": 5,
   "metadata": {},
   "outputs": [],
   "source": [
    "def fit(self, X, y):\n",
    "    self.n_feats = X.shape[1] if not self.n_feats else min(self.n_feats, X.shape[1])\n",
    "    self.root = self._grow_tree(X, y)"
   ]
  },
  {
   "cell_type": "markdown",
   "metadata": {},
   "source": [
    "In the `fit()` takes in two arguments: input features and the output labels.\n",
    "\n",
    "* Sets the `n_feats` attribute as the number of features.\n",
    "* Calls the `_grow_tree()` function and assigns the output to the `root` attribute. We will see the function `_grow_tree()` below."
   ]
  },
  {
   "cell_type": "markdown",
   "metadata": {},
   "source": [
    "Next, let's examine the `_grow_tree()` function provided below. This function closely resembles the one developed for classification, with the exception of line 11, where the leaf value is determined."
   ]
  },
  {
   "cell_type": "code",
   "execution_count": 6,
   "metadata": {},
   "outputs": [],
   "source": [
    "def _grow_tree(self, X, y, depth=0):\n",
    "    n_samples, n_features = X.shape\n",
    "    n_labels = len(np.unique(y))\n",
    "\n",
    "    # stopping criteria\n",
    "    if (\n",
    "        depth >= self.max_depth\n",
    "        or n_labels == 1\n",
    "        or n_samples < self.min_samples_split\n",
    "    ):\n",
    "        leaf_value = self._mean_label(y)\n",
    "        return Node(value=leaf_value)\n",
    "\n",
    "    feat_idxs = np.random.choice(n_features, self.n_feats, replace=False)\n",
    "\n",
    "    # greedily select the best split according to information gain\n",
    "    best_feat, best_thresh = self._best_criteria(X, y, feat_idxs)\n",
    "\n",
    "    # grow the children that result from the split\n",
    "    left_idxs, right_idxs = self._split(X[:, best_feat], best_thresh)\n",
    "    left = self._grow_tree(X[left_idxs, :], y[left_idxs], depth + 1)\n",
    "    right = self._grow_tree(X[right_idxs, :], y[right_idxs], depth + 1)\n",
    "    return Node(best_feat, best_thresh, left, right)"
   ]
  },
  {
   "cell_type": "markdown",
   "metadata": {},
   "source": [
    "The `_grow_tree()` function takes in 3 inputs:\n",
    "\n",
    "* `X`: Represents the input features of the training data within the node to be split.\n",
    "\n",
    "* `y`: Denotes the labels of the training data within the node to be split.\n",
    "\n",
    "* `depth`: Indicates the depth within the tree. It ensures that the tree is fitted only up to the specified `max_depth`."
   ]
  },
  {
   "cell_type": "markdown",
   "metadata": {},
   "source": [
    "The `_grow_tree()` function performs the following tasks:\n",
    "\n",
    "* Line 2 computes the dimensions of the input data.\n",
    "* Line 3 calculates the number of unique labels present in the input data.\n",
    "* Line 6 checks the stopping criteria:\n",
    "  - Line 7: If the depth of the tree has reached `max_depth`.\n",
    "  - Line 8: If there is only one unique label present in the node (i.e., entropy equals 0).\n",
    "  - Line 9: If the number of data points in the node is less than `min_samples_split`.\n",
    "* Line 11: If any of the conditions in the if statement on line 6 evaluates to True:\n",
    "  - We have reached a leaf node.\n",
    "  - The average label in the node is computed and assigned as the leaf label.\n",
    "* Line 14: A subset of features is randomly chosen for splitting. This is particularly useful for random forest where feature selection is randomized at each node.\n",
    "* Line 17: The best split is determined by calling the `_best_criteria` function.\n",
    "* Line 20: The data point indexes that belong to the left and right nodes after the split are computed.\n",
    "* Lines 21 and 22: The `_grow_tree()` function is recursively called on the data in the left and right nodes.\n",
    "* Line 23: The subtrees built in the left and right nodes are used to construct the overall tree, with the current node as the root. The result is then returned."
   ]
  },
  {
   "cell_type": "markdown",
   "metadata": {},
   "source": [
    "Next, we'll inspect the `_best_criteria()` function, responsible for determining the optimal feature and splitting point. Unlike last week, this function has been modified for regression instead of classification. It now takes the input data and the list of feature indexes designated for splitting in this node as parameters."
   ]
  },
  {
   "cell_type": "code",
   "execution_count": 7,
   "metadata": {},
   "outputs": [],
   "source": [
    "def _best_criteria(self, X, y, feat_idxs):\n",
    "    best_score = -1\n",
    "    split_idx, split_thresh = None, None\n",
    "    for feat_idx in feat_idxs:\n",
    "        X_column = X[:, feat_idx]\n",
    "        thresholds = np.unique(X_column)\n",
    "        for threshold in thresholds:\n",
    "            score = self._split_score(y, X_column, threshold)\n",
    "            if score > best_score:\n",
    "                best_score = score\n",
    "                split_idx = feat_idx\n",
    "                split_thresh = threshold\n",
    "\n",
    "    return split_idx, split_thresh"
   ]
  },
  {
   "cell_type": "markdown",
   "metadata": {},
   "source": [
    "In summary, `_best_criteria()` function executes the following steps:\n",
    "* Line 5: Retrieves the column on which we are evaluating splits and stores it in the variable `X_column`. \n",
    "* Line 6: Computes all the unique values present in `X_column`, which will serve as our splitting thresholds.\n",
    "* Line 7: In a loop over different thresholds:\n",
    "  - Line 8: Calculates the score as the split score by calling the `_split_score()` function.\n",
    "  - Line 9: If the score gain is greater than the best score observed so far, updates the current gain as the best gain."
   ]
  },
  {
   "cell_type": "markdown",
   "metadata": {},
   "source": [
    "Now let's examine the `_split_score()` function. This function accepts the data labels `y`, the column we are evaluating for splitting `X_column`, and the threshold under consideration `split_thresh`. Its purpose is to compute the split score if we were to choose that split."
   ]
  },
  {
   "cell_type": "code",
   "execution_count": 8,
   "metadata": {},
   "outputs": [],
   "source": [
    "def _split_score(self, y, X_column, split_thresh):\n",
    "    # parent MSE\n",
    "    parent_score = MSE(y)\n",
    "\n",
    "    # generate split\n",
    "    left_idxs, right_idxs = self._split(X_column, split_thresh)\n",
    "\n",
    "    if len(left_idxs) == 0 or len(right_idxs) == 0:\n",
    "        return 0\n",
    "\n",
    "    # compute the weighted avg. of the MSE scores for the children\n",
    "    n = len(y)\n",
    "    n_l, n_r = len(left_idxs), len(right_idxs)\n",
    "    s_l, s_r = MSE(y[left_idxs]), MSE(y[right_idxs])\n",
    "    child_score = (n_l / n) * s_l + (n_r / n) * s_r\n",
    "\n",
    "    # split score is difference in MSE before vs. after split\n",
    "    ig = parent_score - child_score\n",
    "    return ig"
   ]
  },
  {
   "cell_type": "markdown",
   "metadata": {},
   "source": [
    "In summary, `_split_score()` function executes the following steps:\n",
    "* Line 3: Computes the MSE in the parent.\n",
    "* Line 6: Calculates the indexes of data points in the left and right nodes if the split under consideration is implemented.\n",
    "* Line 8: Returns 0 if either child node ends up without any data points after the split.\n",
    "* Lines 12 to 15: Computes the weighted average of child MSE's.\n",
    "* Line 19: Returns the difference between the parent MSE and the child MSE's as the split score."
   ]
  },
  {
   "cell_type": "markdown",
   "metadata": {},
   "source": [
    "Now, let's direct our attention to the `_split()` function, which determines the distribution of data samples into the right or left child nodes."
   ]
  },
  {
   "cell_type": "code",
   "execution_count": 9,
   "metadata": {},
   "outputs": [],
   "source": [
    "def _split(self, X_column, split_thresh):\n",
    "    left_idxs = np.argwhere(X_column <= split_thresh).flatten()\n",
    "    right_idxs = np.argwhere(X_column > split_thresh).flatten()\n",
    "    return left_idxs, right_idxs"
   ]
  },
  {
   "cell_type": "markdown",
   "metadata": {},
   "source": [
    "The `_split()` function takes in the column we are evaluating for splitting, as well as the threshold. It identifies the indexes where the value in `X_column` is less than or equal to or greater than the `split_thresh`, and returns them."
   ]
  },
  {
   "cell_type": "markdown",
   "metadata": {},
   "source": [
    "To obtain the leaf weight, we utilize the `_mean_label()` function to compute the mean value in the labels. Let's delve into how this function operates:"
   ]
  },
  {
   "cell_type": "code",
   "execution_count": 10,
   "metadata": {},
   "outputs": [],
   "source": [
    "def _mean_label(self, y):\n",
    "    return np.mean(y)"
   ]
  },
  {
   "cell_type": "markdown",
   "metadata": {},
   "source": [
    "This function simply takes the average of all labels in `y`."
   ]
  },
  {
   "cell_type": "markdown",
   "metadata": {},
   "source": [
    "We've completed the functions responsible for fitting the tree. Finally, let's explore how we perform predictions:"
   ]
  },
  {
   "cell_type": "code",
   "execution_count": 11,
   "metadata": {},
   "outputs": [],
   "source": [
    "def predict(self, X):\n",
    "    return np.array([self._traverse_tree(x, self.root) for x in X])\n",
    "\n",
    "def _traverse_tree(self, x, node):\n",
    "    if node.is_leaf_node():\n",
    "        return node.value\n",
    "\n",
    "    if x[node.feature] <= node.threshold:\n",
    "        return self._traverse_tree(x, node.left)\n",
    "    return self._traverse_tree(x, node.right)"
   ]
  },
  {
   "cell_type": "markdown",
   "metadata": {},
   "source": [
    "During prediction, we invoke the `predict()` function, which accepts the testing data. As shown in line 2, it iterates through all the data points in the test data `X`, calling the `_traverse_tree()` function.\n",
    "\n",
    "The `_traverse_tree()` function, defined on line 4, is a recursive function that takes a single test data point and the current node (initially the root). If the current node is a leaf node, it returns the value of the leaf node as the prediction. If not, based on the splitting criteria of that node, it recursively calls the `_traverse_tree()` function on either the left or the right child node."
   ]
  },
  {
   "cell_type": "markdown",
   "metadata": {},
   "source": [
    "Putting all we developed together in a single class, we will have:"
   ]
  },
  {
   "cell_type": "code",
   "execution_count": 12,
   "metadata": {},
   "outputs": [],
   "source": [
    "import numpy as np\n",
    "\n",
    "\n",
    "def MSE(y):\n",
    "    pred = np.mean(y)\n",
    "    return np.mean((y-pred)**2)\n",
    "\n",
    "\n",
    "class Node:\n",
    "    def __init__(\n",
    "        self, feature=None, threshold=None, left=None, right=None, *, value=None\n",
    "    ):\n",
    "        self.feature = feature\n",
    "        self.threshold = threshold\n",
    "        self.left = left\n",
    "        self.right = right\n",
    "        self.value = value\n",
    "\n",
    "    def is_leaf_node(self):\n",
    "        return self.value is not None\n",
    "\n",
    "\n",
    "class DecisionTree:\n",
    "    def __init__(self, min_samples_split=2, max_depth=100, n_feats=None):\n",
    "        self.min_samples_split = min_samples_split\n",
    "        self.max_depth = max_depth\n",
    "        self.n_feats = n_feats\n",
    "        self.root = None\n",
    "\n",
    "    def fit(self, X, y):\n",
    "        self.n_feats = X.shape[1] if not self.n_feats else min(self.n_feats, X.shape[1])\n",
    "        self.root = self._grow_tree(X, y)\n",
    "\n",
    "    def predict(self, X):\n",
    "        return np.array([self._traverse_tree(x, self.root) for x in X]).reshape(-1, 1)\n",
    "\n",
    "    def _grow_tree(self, X, y, depth=0):\n",
    "        n_samples, n_features = X.shape\n",
    "        n_labels = len(np.unique(y))\n",
    "\n",
    "        # stopping criteria\n",
    "        if (\n",
    "            depth >= self.max_depth\n",
    "            or n_labels == 1\n",
    "            or n_samples < self.min_samples_split\n",
    "        ):\n",
    "            leaf_value = self._mean_label(y)\n",
    "            return Node(value=leaf_value)\n",
    "\n",
    "        feat_idxs = np.random.choice(n_features, self.n_feats, replace=False)\n",
    "\n",
    "        # greedily select the best split according to information gain\n",
    "        best_feat, best_thresh = self._best_criteria(X, y, feat_idxs)\n",
    "\n",
    "        # grow the children that result from the split\n",
    "        left_idxs, right_idxs = self._split(X[:, best_feat], best_thresh)\n",
    "        left = self._grow_tree(X[left_idxs, :], y[left_idxs], depth + 1)\n",
    "        right = self._grow_tree(X[right_idxs, :], y[right_idxs], depth + 1)\n",
    "        return Node(best_feat, best_thresh, left, right)\n",
    "\n",
    "    def _best_criteria(self, X, y, feat_idxs):\n",
    "        best_score = -1\n",
    "        split_idx, split_thresh = None, None\n",
    "        for feat_idx in feat_idxs:\n",
    "            X_column = X[:, feat_idx]\n",
    "            thresholds = np.unique(X_column)\n",
    "            for threshold in thresholds:\n",
    "                score = self._split_score(y, X_column, threshold)\n",
    "                if score > best_score:\n",
    "                    best_score = score\n",
    "                    split_idx = feat_idx\n",
    "                    split_thresh = threshold\n",
    "\n",
    "        return split_idx, split_thresh\n",
    "\n",
    "    def _split_score(self, y, X_column, split_thresh):\n",
    "        # parent MSE\n",
    "        parent_score = MSE(y)\n",
    "\n",
    "        # generate split\n",
    "        left_idxs, right_idxs = self._split(X_column, split_thresh)\n",
    "\n",
    "        if len(left_idxs) == 0 or len(right_idxs) == 0:\n",
    "            return 0\n",
    "\n",
    "        # compute the weighted avg. of the MSE scores for the children\n",
    "        n = len(y)\n",
    "        n_l, n_r = len(left_idxs), len(right_idxs)\n",
    "        s_l, s_r = MSE(y[left_idxs]), MSE(y[right_idxs])\n",
    "        child_score = (n_l / n) * s_l + (n_r / n) * s_r\n",
    "\n",
    "        # split score is difference in MSE before vs. after split\n",
    "        ig = parent_score - child_score\n",
    "        return ig\n",
    "\n",
    "    def _split(self, X_column, split_thresh):\n",
    "        left_idxs = np.argwhere(X_column <= split_thresh).flatten()\n",
    "        right_idxs = np.argwhere(X_column > split_thresh).flatten()\n",
    "        return left_idxs, right_idxs\n",
    "\n",
    "    def _traverse_tree(self, x, node):\n",
    "        if node.is_leaf_node():\n",
    "            return node.value\n",
    "        if x[node.feature] <= node.threshold:\n",
    "            return self._traverse_tree(x, node.left)\n",
    "        return self._traverse_tree(x, node.right)\n",
    "\n",
    "    def _mean_label(self, y):\n",
    "        return np.mean(y)"
   ]
  },
  {
   "cell_type": "markdown",
   "metadata": {},
   "source": [
    "## 2. Boosting"
   ]
  },
  {
   "cell_type": "markdown",
   "metadata": {},
   "source": [
    "Boosting is an ensemble method where predictors are not created independently but rather sequentially. This approach involves subsequent predictors learning from the errors of previous ones. Consequently, observations are weighted unequally in subsequent models, with those exhibiting higher errors being prioritized. Unlike the bootstrap process, observations are selected based on error. Predictors can encompass various models such as decision trees, regressors, or classifiers. Due to new predictors learning from past mistakes, fewer iterations are needed to approximate actual predictions. However, careful selection of stopping criteria is essential to avoid overfitting on training data. Gradient Boosting serves as a prominent example of a boosting algorithm."
   ]
  },
  {
   "cell_type": "markdown",
   "metadata": {},
   "source": [
    "The goal of every supervised learning algorithm is to establish a loss function and then minimize it. Now, let's explore the mathematical workings of the Gradient Boosting algorithm. Our chosen loss function is the mean squared error (MSE):\n",
    "\n",
    "$$\n",
    "MSE = \\sum{{(\\hat{y}_i - y_i)}^2},\n",
    "$$\n",
    "where $y_i$ is the label of the i'th datapoint and $\\hat{y}_i$ is the predicted label for the i'th datapoint."
   ]
  },
  {
   "cell_type": "markdown",
   "metadata": {},
   "source": [
    "To utilize gradient descent in our gradient boosting scheme, we must first determine the gradient. The gradient of the expression above with respect to $\\hat{y}_i$ can be easily derived as:\n",
    "$$\n",
    "\\frac{\\partial \\sum{{(\\hat{y}_i - y_i)}^2}}{\\partial \\hat{y}_i} = 2 \\sum{{(\\hat{y}_i - y_i)}}\n",
    "$$\n",
    "Thus, moving in the opposite direction of the gradient will lead us to the updates:\n",
    "\n",
    "$$\n",
    "\\hat{y}_i = \\hat{y}_i - \\eta * 2 * \\sum{{(\\hat{y}_i - y_i)}},\n",
    "$$\n",
    "where $\\eta$ denotes the learning rate.\n",
    "\n",
    "For enhanced simplicity in the formula, we combine 2 into $\\eta$, resulting in the formula:\n",
    "$$\n",
    "\\hat{y}_i = \\hat{y}_i - \\eta * \\sum{{(\\hat{y}_i - y_i)}},\n",
    "$$"
   ]
  },
  {
   "cell_type": "markdown",
   "metadata": {},
   "source": [
    "Hence, in a training loop where each iteration entails adding a tree to the existing ensemble, we incorporate a tree that is fitted to the error as shown above."
   ]
  },
  {
   "cell_type": "markdown",
   "metadata": {},
   "source": [
    "Let's initiate the creation of the gradient boosting class. We begin by the class constructor:"
   ]
  },
  {
   "cell_type": "code",
   "execution_count": 13,
   "metadata": {},
   "outputs": [],
   "source": [
    "def __init__(self, n_estimators = 100, eta = 0.1, min_samples_split=2, max_depth=100, n_feats=None):\n",
    "    self.min_samples_split = min_samples_split\n",
    "    self.max_depth         = max_depth\n",
    "    self.n_feats           = n_feats\n",
    "\n",
    "    self.n_estimators      = n_estimators\n",
    "    self.eta               = eta\n",
    "    self.y0                = None\n",
    "    self.trees             = []"
   ]
  },
  {
   "cell_type": "markdown",
   "metadata": {},
   "source": [
    "In the `__init__()` function provided above, you may recognize lines 2 through 4 as the hyperparameters for our regression trees. The remaining lines are as follows:\n",
    "\n",
    "* Line 6: Sets `n_estimators` as the number of trees in the ensemble.\n",
    "* Line 7: Defines the learning rate $\\eta$ as explained previously.\n",
    "* Line 8: Initializes $y_0$. This value represents the constant prediction used before fitting any trees and is simply the average of all input labels.\n",
    "* Line 9: Initializes the list of trees to be fitted as an empty list."
   ]
  },
  {
   "cell_type": "markdown",
   "metadata": {},
   "source": [
    "Next, let us focus on the `fit()` function:"
   ]
  },
  {
   "cell_type": "code",
   "execution_count": 14,
   "metadata": {},
   "outputs": [],
   "source": [
    "def fit(self, X, y):\n",
    "    self.y0 = np.mean(y)\n",
    "    error   = self.y0 - y\n",
    "    for _ in range(self.n_estimators):\n",
    "        new_tree = DecisionTree(max_depth=self.max_depth, min_samples_split = self.min_samples_split, n_feats = self.n_feats)\n",
    "        new_tree.fit(X, error)\n",
    "        self.trees.append(new_tree)\n",
    "        error =  self.predict(X) - y"
   ]
  },
  {
   "cell_type": "markdown",
   "metadata": {},
   "source": [
    "The `fit()` function described above performs the following tasks:\n",
    "\n",
    "* Line 2: Computes `self.y0` as a constant prediction, representing the mean of training data labels before any trees are fitted.\n",
    "* Line 3: Calculates the error in prediction, which equals the current prediction `self.y0` minus the labels. This identifies the deviation for any sample in the dataset if we predict the constant mean value.\n",
    "* Line 4: Initializes a loop that iterates `self.n_estimators` times, fitting a new tree at each iteration.\n",
    "* Line 5: Initializes a new tree with the provided hyperparameters.\n",
    "* Line 6: Fits the new tree to the error computed as the label.\n",
    "* Line 7: Appends the newly acquired tree to the list of trees.\n",
    "* Line 8: Computes the error for the next iteration. This error is calculated as the current output of the ensemble we have built so far minus the labels."
   ]
  },
  {
   "cell_type": "markdown",
   "metadata": {},
   "source": [
    "And finally the `predict()` function:"
   ]
  },
  {
   "cell_type": "code",
   "execution_count": 15,
   "metadata": {},
   "outputs": [],
   "source": [
    "def predict(self, X):\n",
    "    return self.y0 - self.eta * sum([tree.predict(X) for tree in self.trees])"
   ]
  },
  {
   "cell_type": "markdown",
   "metadata": {},
   "source": [
    "This function accepts input features and predicts the output as the constant prediction `self.y0` minus the sum of the predictions of the trees, multiplied by the learning rate $\\eta$."
   ]
  },
  {
   "cell_type": "markdown",
   "metadata": {},
   "source": [
    "Putting it all together:"
   ]
  },
  {
   "cell_type": "code",
   "execution_count": 16,
   "metadata": {},
   "outputs": [],
   "source": [
    "class gradient_booster:\n",
    "    def __init__(self, n_estimators = 100, eta = 0.1, min_samples_split=2, max_depth=100, n_feats=None):\n",
    "        self.n_estimators      = n_estimators\n",
    "        self.min_samples_split = min_samples_split\n",
    "        self.max_depth         = max_depth\n",
    "        self.n_feats           = n_feats\n",
    "        self.eta               = eta\n",
    "        self.y0                = None\n",
    "        self.trees             = []\n",
    "\n",
    "    def fit(self, X, y):\n",
    "        self.y0 = np.mean(y)\n",
    "        error   = self.y0 - y\n",
    "        for _ in range(self.n_estimators):\n",
    "            new_tree = DecisionTree(max_depth=self.max_depth, min_samples_split = self.min_samples_split, n_feats = self.n_feats)\n",
    "            new_tree.fit(X, error)\n",
    "            self.trees.append(new_tree)\n",
    "            error =  self.predict(X) - y\n",
    "    \n",
    "    def predict(self, X):\n",
    "        return self.y0 - self.eta * sum([tree.predict(X) for tree in self.trees])\n",
    "            "
   ]
  },
  {
   "cell_type": "markdown",
   "metadata": {},
   "source": [
    "## 3. Creating a dataset for our regression:"
   ]
  },
  {
   "cell_type": "markdown",
   "metadata": {},
   "source": [
    "Let's create a simple regression dataset:"
   ]
  },
  {
   "cell_type": "code",
   "execution_count": 17,
   "metadata": {},
   "outputs": [],
   "source": [
    "x = np.arange(0,50).reshape(-1, 1)\n",
    "\n",
    "# just random uniform distributions in differnt ranges\n",
    "y1 = np.random.uniform(10,15,10)\n",
    "y2 = np.random.uniform(20,25,10)\n",
    "y3 = np.random.uniform(0,5,10)\n",
    "y4 = np.random.uniform(30,32,10)\n",
    "y5 = np.random.uniform(13,17,10)\n",
    "\n",
    "# concatenating all of them together\n",
    "y = np.concatenate((y1,y2,y3,y4,y5)).reshape(-1, 1)"
   ]
  },
  {
   "cell_type": "markdown",
   "metadata": {},
   "source": [
    "To visualize the data we've created, let's draft a simple plot function:"
   ]
  },
  {
   "cell_type": "code",
   "execution_count": 18,
   "metadata": {},
   "outputs": [],
   "source": [
    "import matplotlib.pyplot as plt\n",
    "def plot(x, y, preds = None):\n",
    "    fig, ax  = plt.subplots()\n",
    "    ax.scatter(x, y, color = 'k')\n",
    "    if not preds is None:\n",
    "        ax.plot(x, preds, color = 'red')\n",
    "    plt.show()"
   ]
  },
  {
   "cell_type": "markdown",
   "metadata": {},
   "source": [
    "The data we craeted looks as follows:"
   ]
  },
  {
   "cell_type": "code",
   "execution_count": 19,
   "metadata": {},
   "outputs": [
    {
     "data": {
      "image/png": "[encoded data removed]",
      "text/plain": [
       "<Figure size 640x480 with 1 Axes>"
      ]
     },
     "metadata": {},
     "output_type": "display_data"
    }
   ],
   "source": [
    "plot(x, y)"
   ]
  },
  {
   "cell_type": "markdown",
   "metadata": {},
   "source": [
    "Now, we initialize a `gradient_booster` instance, fit it to our data, and obtain predictions on the same training data:"
   ]
  },
  {
   "cell_type": "code",
   "execution_count": 20,
   "metadata": {},
   "outputs": [],
   "source": [
    "gbm = gradient_booster(n_estimators = 60, eta = 0.1, min_samples_split=2, max_depth=3)\n",
    "\n",
    "gbm.fit(x, y)\n",
    "preds = gbm.predict(x)"
   ]
  },
  {
   "cell_type": "markdown",
   "metadata": {},
   "source": [
    "Plotting the prediction, we will have:"
   ]
  },
  {
   "cell_type": "code",
   "execution_count": 21,
   "metadata": {},
   "outputs": [
    {
     "data": {
      "image/png": "[encoded data removed]",
      "text/plain": [
       "<Figure size 640x480 with 1 Axes>"
      ]
     },
     "metadata": {},
     "output_type": "display_data"
    }
   ],
   "source": [
    "plot(x, y, preds)"
   ]
  },
  {
   "cell_type": "markdown",
   "metadata": {},
   "source": [
    "As evident, we've overfitted to the data, highlighting the learning capacity of our developed model."
   ]
  },
  {
   "cell_type": "markdown",
   "metadata": {},
   "source": [
    "## What We Have Learned"
   ]
  },
  {
   "cell_type": "markdown",
   "metadata": {},
   "source": [
    "In this discussion, we accomplished the following:\n",
    "\n",
    "* Revisited our classification decision tree implementation and adapted it to a regression decision tree.\n",
    "* Briefly reviewed the concept of boosting.\n",
    "* Implemented boosted regression trees.\n",
    "* Created a simple regression dataset.\n",
    "* Generated predictions using the trained boosted trees and visualized them through plotting."
   ]
  },
  {
   "cell_type": "markdown",
   "metadata": {},
   "source": [
    "Hope you have enjoyed this lesson!"
   ]
  },
  {
   "cell_type": "markdown",
   "metadata": {},
   "source": []
  }
 ],
 "metadata": {
  "kernelspec": {
   "display_name": "Python 3 (ipykernel)",
   "language": "python",
   "name": "python3"
  },
  "language_info": {
   "codemirror_mode": {
    "name": "ipython",
    "version": 3
   },
   "file_extension": ".py",
   "mimetype": "text/x-python",
   "name": "python",
   "nbconvert_exporter": "python",
   "pygments_lexer": "ipython3",
   "version": "3.12.0"
  }
 },
 "nbformat": 4,
 "nbformat_minor": 4
}

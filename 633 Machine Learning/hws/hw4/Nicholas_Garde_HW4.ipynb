{
 "cells": [
  {
   "cell_type": "markdown",
   "metadata": {},
   "source": [
    "# (a,b) Download/Explore Data\n",
    "#### Download the data and pick one example from each digit and visualize them. Count the number of samples per digit in the original training data."
   ]
  },
  {
   "cell_type": "code",
   "execution_count": 2,
   "metadata": {},
   "outputs": [
    {
     "name": "stdout",
     "output_type": "stream",
     "text": [
      "x_train:(60000, 784)\n",
      "y_train:(60000,)\n",
      "x_test:(10000, 28, 28)\t28*28=784\n"
     ]
    },
    {
     "data": {
      "image/png": "[encoded data removed]",
      "text/plain": [
       "<Figure size 1500x600 with 10 Axes>"
      ]
     },
     "metadata": {},
     "output_type": "display_data"
    }
   ],
   "source": [
    "import numpy as np\n",
    "# print(np.__version__)\n",
    "import pandas as pd\n",
    "import random\n",
    "import matplotlib.pyplot as plt\n",
    "# import seaborn as sns\n",
    "x_train = np.load('x_train.npy')\n",
    "y_train = np.load('y_train.npy')\n",
    "x_test = np.load('x_test.npy')\n",
    "\n",
    "print(f'x_train:{x_train.shape}')\n",
    "print(f'y_train:{y_train.shape}')\n",
    "print(f'x_test:{x_test.shape}\\t28*28=784')\n",
    "\n",
    "d = dict()\n",
    "labels = dict(zip(list(range(10)),[0]*10))\n",
    "\n",
    "for i,l in enumerate(y_train):\n",
    "    d[int(y_train[i])] = i # index of example\n",
    "    labels[l]+=1 # label count\n",
    "\n",
    "fig, ax = plt.subplots(2, 5, figsize=(15, 6))\n",
    "for i,a in enumerate(ax.flat):\n",
    "    a.imshow(x_train[d[i]].reshape(28,28), cmap='gray')\n",
    "    a.set_title(f'# {labels[i]}')\n",
    "    a.axis('off')\n",
    "plt.show()"
   ]
  },
  {
   "cell_type": "markdown",
   "metadata": {},
   "source": [
    "# (c) Modeling\n",
    "#### Implement a Convolutional Neural Network model using Convolution layers to classify the digits in the MNIST dataset.\n",
    "### (1)\n",
    "#### Split original training data (60000 datapoints) into training and validation datasets. We also have a test dataset (10000 datapoints)."
   ]
  },
  {
   "cell_type": "code",
   "execution_count": 3,
   "metadata": {},
   "outputs": [
    {
     "name": "stdout",
     "output_type": "stream",
     "text": [
      "X:(48000, 784), X_v:(12000, 784)\n"
     ]
    }
   ],
   "source": [
    "from sklearn.model_selection import train_test_split\n",
    "import torch\n",
    "X,Xv,y,yv = train_test_split(x_train, y_train, test_size=0.2, random_state=777)\n",
    "print(f'X:{X.shape}, X_v:{Xv.shape}')\n",
    "from torch.utils.data import DataLoader,TensorDataset\n",
    "# j,k=torch.from_numpy(X),torch.from_numpy(y)\n",
    "train_dataloader = DataLoader(TensorDataset(torch.from_numpy(X.reshape(X.shape[0],1,28,28)).float(),torch.from_numpy(y).long()),\n",
    "                                batch_size=64,shuffle=True)\n",
    "valid_dataloader = DataLoader(TensorDataset(torch.from_numpy(Xv.reshape(Xv.shape[0],1,28,28)).float(),torch.from_numpy(yv).long()),\n",
    "                                batch_size=64,shuffle=True)"
   ]
  },
  {
   "cell_type": "markdown",
   "metadata": {},
   "source": [
    "### (2)\n",
    "#### Visualize the filter in each layer."
   ]
  },
  {
   "cell_type": "code",
   "execution_count": 84,
   "metadata": {},
   "outputs": [
    {
     "name": "stdout",
     "output_type": "stream",
     "text": [
      "Device: cuda\n",
      "pad:same\tstride:1,kern:4\n",
      "pad:same\tstride:1,kern:4\n",
      "pad:same\tstride:1,kern:4\n"
     ]
    },
    {
     "name": "stderr",
     "output_type": "stream",
     "text": [
      "100%|██████████| 50/50 [03:59<00:00,  4.79s/it]\n"
     ]
    }
   ],
   "source": [
    "import torch.nn as nn\n",
    "\n",
    "class cnn_block(nn.Module): # week 11 discussion code, but with 1 in_channel for our grayscale 28x28 images\n",
    "  def __init__(self, in_channels, n_hidden, kernel_size, stride):\n",
    "    pad = 'same' if stride[0]==1 else int((27*stride[0]-28+kernel_size[0])/2) # i/o filter formula solving for padding (we have to use safe kernel sizes for this calculation)\n",
    "    print(f'pad:{pad}\\tstride:{stride[0]},kern:{kernel_size[0]}')\n",
    "    super().__init__()\n",
    "    self.layers = nn.Sequential(\n",
    "        nn.Conv2d(in_channels = in_channels, out_channels = n_hidden, kernel_size = kernel_size, bias=False, padding = pad, stride = stride),\n",
    "        nn.BatchNorm2d(num_features = n_hidden),\n",
    "        nn.ReLU(),\n",
    "        nn.Dropout(p=0.2),\n",
    "        nn.Conv2d(in_channels = n_hidden, out_channels = in_channels, kernel_size = kernel_size, bias=False, padding = pad, stride = stride),\n",
    "        nn.BatchNorm2d(num_features = in_channels),\n",
    "        nn.ReLU(),\n",
    "        nn.Dropout(p=0.2))\n",
    "\n",
    "  def forward(self, x):\n",
    "    return x + self.layers(x)\n",
    "\n",
    "class linear_block(nn.Module):\n",
    "  def __init__(self, in_features, n_hidden):\n",
    "    super().__init__()\n",
    "    self.in_features = (in_features, n_hidden)\n",
    "    self.layers = nn.Sequential(\n",
    "        nn.Linear(in_features = in_features, out_features = n_hidden),\n",
    "        nn.ReLU(),\n",
    "        nn.Dropout(p=0.2),\n",
    "        nn.Linear(in_features = n_hidden, out_features = in_features),\n",
    "        nn.ReLU()\n",
    "    )\n",
    "\n",
    "  def forward(self, x):\n",
    "    return x + self.layers(x)\n",
    "\n",
    "class CNNClassifier(nn.Module):\n",
    "  def __init__(self, in_channels = 3, cnn_channels = 5, linear_hidden = 1000, n_classes = 10, kernel_size = (3, 3), stride = (1, 1)):\n",
    "    super().__init__()\n",
    "    self.cnn_layers = nn.Sequential(\n",
    "        cnn_block(in_channels, cnn_channels, kernel_size, stride=stride),\n",
    "        cnn_block(in_channels, cnn_channels, kernel_size, stride=stride),\n",
    "        cnn_block(in_channels, cnn_channels, kernel_size, stride=stride))\n",
    "\n",
    "    self.down_sample = nn.Conv2d(in_channels = in_channels, out_channels = 1, kernel_size = (1, 1))\n",
    "\n",
    "    self.linear_layers = nn.Sequential(\n",
    "        linear_block(28*28, linear_hidden),\n",
    "        linear_block(28*28, linear_hidden)\n",
    "    )\n",
    "    self.last_layer = nn.Linear(28*28, n_classes)\n",
    "\n",
    "    self.all        = nn.Sequential(\n",
    "        self.cnn_layers,\n",
    "        self.down_sample,\n",
    "        nn.Flatten(),\n",
    "        self.linear_layers,\n",
    "        self.last_layer,\n",
    "    )\n",
    "\n",
    "  def forward(self, x):\n",
    "    return self.all(x)\n",
    "  \n",
    "\n",
    "from torch.optim import Adam\n",
    "device    = 'cuda' if torch.cuda.is_available() else 'cpu'\n",
    "print(f'Device: {device}')\n",
    "model     = CNNClassifier(in_channels = 1, cnn_channels = 8, linear_hidden = 10, n_classes = 10, kernel_size = (4, 4)).to(device)\n",
    "loss_fn   = nn.CrossEntropyLoss()\n",
    "optimizer = Adam(model.parameters(), lr = 1e-3)\n",
    "\n",
    "from tqdm import tqdm\n",
    "n_epochs = 50\n",
    "train_loss, test_loss = [], []\n",
    "for epoch in tqdm(range(n_epochs)):\n",
    "    # do a loop over all training samples\n",
    "    model.train() # telling the model we are training it as it needs to keep track of gradients (and other things) in this modality\n",
    "    epoch_train_loss = []\n",
    "    for batch, (X, y) in enumerate(train_dataloader):\n",
    "        X, y = X.to(device), y.to(device)\n",
    "        preds = model(X)\n",
    "        loss = loss_fn(preds, y)\n",
    "        optimizer.zero_grad()\n",
    "        loss.backward()\n",
    "        optimizer.step()\n",
    "        epoch_train_loss.append(loss.item())\n",
    "    # do a loop over all testing samples\n",
    "    model.eval() # telling the model we are evaluating it\n",
    "    epoch_test_loss = []\n",
    "    with torch.no_grad(): # alternatively, torch.no_grad()\n",
    "        for batch, (X, y) in enumerate(valid_dataloader):\n",
    "            X, y = X.to(device), y.to(device)\n",
    "            preds = model(X)\n",
    "            loss  = loss_fn(preds, y)\n",
    "            epoch_test_loss.append(loss.item())\n",
    "    train_loss.append(np.mean(epoch_train_loss))\n",
    "    test_loss.append(np.mean(epoch_test_loss))\n"
   ]
  },
  {
   "cell_type": "code",
   "execution_count": 85,
   "metadata": {},
   "outputs": [
    {
     "name": "stdout",
     "output_type": "stream",
     "text": [
      "Layer:0\n",
      "Conv 0\n"
     ]
    },
    {
     "data": {
      "image/png": "[encoded data removed]",
      "text/plain": [
       "<Figure size 640x480 with 8 Axes>"
      ]
     },
     "metadata": {},
     "output_type": "display_data"
    },
    {
     "name": "stdout",
     "output_type": "stream",
     "text": [
      "Conv 1\n"
     ]
    },
    {
     "data": {
      "image/png": "[encoded data removed]",
      "text/plain": [
       "<Figure size 640x480 with 8 Axes>"
      ]
     },
     "metadata": {},
     "output_type": "display_data"
    },
    {
     "name": "stdout",
     "output_type": "stream",
     "text": [
      "Layer:1\n",
      "Conv 0\n"
     ]
    },
    {
     "data": {
      "image/png": "[encoded data removed]",
      "text/plain": [
       "<Figure size 640x480 with 8 Axes>"
      ]
     },
     "metadata": {},
     "output_type": "display_data"
    },
    {
     "name": "stdout",
     "output_type": "stream",
     "text": [
      "Conv 1\n"
     ]
    },
    {
     "data": {
      "image/png": "[encoded data removed]",
      "text/plain": [
       "<Figure size 640x480 with 8 Axes>"
      ]
     },
     "metadata": {},
     "output_type": "display_data"
    },
    {
     "name": "stdout",
     "output_type": "stream",
     "text": [
      "Layer:2\n",
      "Conv 0\n"
     ]
    },
    {
     "data": {
      "image/png": "[encoded data removed]",
      "text/plain": [
       "<Figure size 640x480 with 8 Axes>"
      ]
     },
     "metadata": {},
     "output_type": "display_data"
    },
    {
     "name": "stdout",
     "output_type": "stream",
     "text": [
      "Conv 1\n"
     ]
    },
    {
     "data": {
      "image/png": "[encoded data removed]",
      "text/plain": [
       "<Figure size 640x480 with 8 Axes>"
      ]
     },
     "metadata": {},
     "output_type": "display_data"
    }
   ],
   "source": [
    "# print(model.cnn_layers[0])\n",
    "# print(model.last_layer)\n",
    "# for param in model.named_parameters():\n",
    "#     print(param)\n",
    "# print(model.cnn_layers[0])\n",
    "\n",
    "# fig,axs = plt.subplots()\n",
    "# print(f'cnn[{i}].layers[{j}].weight {model.cnn_layers[i].layers[j].weight.detach().numpy().shape}')\n",
    "for j in range(3):\n",
    "    print(f'Layer:{j}')\n",
    "    print('Conv 0')\n",
    "    fig,axs = plt.subplots(2,4)\n",
    "    for i,ax in enumerate(axs.flat):\n",
    "        ax.imshow(model.cnn_layers[j].layers[0].weight[i,0,:,:].cpu().detach().numpy(),cmap='gray')\n",
    "        ax.axis('off')\n",
    "    plt.show()\n",
    "\n",
    "    print('Conv 1')\n",
    "    fig,axs = plt.subplots(2,4)\n",
    "    for i,ax in enumerate(axs.flat):\n",
    "        ax.imshow(model.cnn_layers[j].layers[4].weight[0,i,:,:].cpu().detach().numpy(),cmap='gray')\n",
    "        ax.axis('off')\n",
    "    plt.show()"
   ]
  },
  {
   "cell_type": "markdown",
   "metadata": {},
   "source": [
    "### (3)\n",
    "#### Monitor the loss on the training dataset across the epochs of the CNN training. Report the overall classification accuracy on validation dataset."
   ]
  },
  {
   "cell_type": "code",
   "execution_count": 88,
   "metadata": {},
   "outputs": [
    {
     "data": {
      "image/png": "[encoded data removed]",
      "text/plain": [
       "<Figure size 640x480 with 1 Axes>"
      ]
     },
     "metadata": {},
     "output_type": "display_data"
    }
   ],
   "source": [
    "plt.scatter(range(n_epochs),train_loss, label='Training Loss')\n",
    "plt.scatter(range(n_epochs),test_loss, label='Validation Loss')\n",
    "plt.legend()\n",
    "plt.show()"
   ]
  },
  {
   "cell_type": "markdown",
   "metadata": {},
   "source": [
    "As the model learns on the training set it gets better at predicting on the validation set. If we continue training, the model will overfit to the training set and the validation loss will start to increase."
   ]
  },
  {
   "cell_type": "markdown",
   "metadata": {},
   "source": [
    "### (4) \n",
    "#### Use validation dataset to tune the hyper-parameters of the model. You may experimenton the validation set with different CNN hyper-parameters, e.g. num of layers, filter size, stride, activation function, dropout, weight regularization, etc. You may also try different loss functions and optimization methods."
   ]
  },
  {
   "cell_type": "code",
   "execution_count": 75,
   "metadata": {},
   "outputs": [],
   "source": [
    "def train(lr,cnn_channels,kernel_size,stride,n_epochs):\n",
    "    model     = CNNClassifier(in_channels = 1, cnn_channels=cnn_channels, linear_hidden=10, n_classes=10, kernel_size=kernel_size, stride=stride).to(device)\n",
    "    loss_fn   = nn.CrossEntropyLoss() # I trust cross entropy loss\n",
    "    optimizer = Adam(model.parameters(), lr = lr) # I trust Adam\n",
    "\n",
    "    train_loss, test_loss = [], []\n",
    "    for epoch in tqdm(range(n_epochs)):\n",
    "        # do a loop over all training samples\n",
    "        model.train() # telling the model we are training it as it needs to keep track of gradients (and other things) in this modality\n",
    "        epoch_train_loss = []\n",
    "        for batch, (X, y) in enumerate(train_dataloader):\n",
    "            X, y = X.to(device), y.to(device)\n",
    "            preds = model(X)\n",
    "            loss = loss_fn(preds, y)\n",
    "            optimizer.zero_grad()\n",
    "            loss.backward()\n",
    "            optimizer.step()\n",
    "            epoch_train_loss.append(loss.item())\n",
    "        # do a loop over all testing samples\n",
    "        model.eval() # telling the model we are evaluating it\n",
    "        epoch_test_loss = []\n",
    "        with torch.no_grad(): # alternatively, torch.no_grad()\n",
    "            for batch, (X, y) in enumerate(valid_dataloader):\n",
    "                X, y = X.to(device), y.to(device)\n",
    "                preds = model(X)\n",
    "                loss  = loss_fn(preds, y)\n",
    "                epoch_test_loss.append(loss.item())\n",
    "        train_loss.append(np.mean(epoch_train_loss))\n",
    "        test_loss.append(np.mean(epoch_test_loss))\n",
    "    return model,test_loss\n"
   ]
  },
  {
   "cell_type": "code",
   "execution_count": 76,
   "metadata": {},
   "outputs": [
    {
     "name": "stdout",
     "output_type": "stream",
     "text": [
      "lr:0.001,cnn:6,kernel:(3, 3),stride:(1, 1)pad:same\tstride:1,kern:3\n",
      "pad:same\tstride:1,kern:3\n",
      "pad:same\tstride:1,kern:3\n"
     ]
    },
    {
     "name": "stderr",
     "output_type": "stream",
     "text": [
      "100%|██████████| 40/40 [03:02<00:00,  4.56s/it]\n"
     ]
    },
    {
     "name": "stdout",
     "output_type": "stream",
     "text": [
      "\tscore:0.1062226624267691\n",
      "lr:0.001,cnn:6,kernel:(4, 4),stride:(1, 1)pad:same\tstride:1,kern:4\n",
      "pad:same\tstride:1,kern:4\n",
      "pad:same\tstride:1,kern:4\n"
     ]
    },
    {
     "name": "stderr",
     "output_type": "stream",
     "text": [
      "100%|██████████| 40/40 [03:16<00:00,  4.92s/it]\n"
     ]
    },
    {
     "name": "stdout",
     "output_type": "stream",
     "text": [
      "\tscore:0.0791392844237209\n",
      "lr:0.001,cnn:6,kernel:(5, 5),stride:(1, 1)pad:same\tstride:1,kern:5\n",
      "pad:same\tstride:1,kern:5\n",
      "pad:same\tstride:1,kern:5\n"
     ]
    },
    {
     "name": "stderr",
     "output_type": "stream",
     "text": [
      "100%|██████████| 40/40 [03:00<00:00,  4.52s/it]\n"
     ]
    },
    {
     "name": "stdout",
     "output_type": "stream",
     "text": [
      "\tscore:0.07458101355128902\n",
      "lr:0.001,cnn:6,kernel:(6, 6),stride:(1, 1)pad:same\tstride:1,kern:6\n",
      "pad:same\tstride:1,kern:6\n",
      "pad:same\tstride:1,kern:6\n"
     ]
    },
    {
     "name": "stderr",
     "output_type": "stream",
     "text": [
      "100%|██████████| 40/40 [03:23<00:00,  5.08s/it]\n"
     ]
    },
    {
     "name": "stdout",
     "output_type": "stream",
     "text": [
      "\tscore:0.07044998285486956\n",
      "lr:0.001,cnn:8,kernel:(3, 3),stride:(1, 1)pad:same\tstride:1,kern:3\n",
      "pad:same\tstride:1,kern:3\n",
      "pad:same\tstride:1,kern:3\n"
     ]
    },
    {
     "name": "stderr",
     "output_type": "stream",
     "text": [
      "100%|██████████| 40/40 [03:07<00:00,  4.68s/it]\n"
     ]
    },
    {
     "name": "stdout",
     "output_type": "stream",
     "text": [
      "\tscore:0.10834396011097\n",
      "lr:0.001,cnn:8,kernel:(4, 4),stride:(1, 1)pad:same\tstride:1,kern:4\n",
      "pad:same\tstride:1,kern:4\n",
      "pad:same\tstride:1,kern:4\n"
     ]
    },
    {
     "name": "stderr",
     "output_type": "stream",
     "text": [
      "100%|██████████| 40/40 [03:12<00:00,  4.81s/it]\n"
     ]
    },
    {
     "name": "stdout",
     "output_type": "stream",
     "text": [
      "\tscore:0.0981692358086064\n",
      "lr:0.001,cnn:8,kernel:(5, 5),stride:(1, 1)pad:same\tstride:1,kern:5\n",
      "pad:same\tstride:1,kern:5\n",
      "pad:same\tstride:1,kern:5\n"
     ]
    },
    {
     "name": "stderr",
     "output_type": "stream",
     "text": [
      "100%|██████████| 40/40 [03:05<00:00,  4.64s/it]\n"
     ]
    },
    {
     "name": "stdout",
     "output_type": "stream",
     "text": [
      "\tscore:0.07131321178006127\n",
      "lr:0.001,cnn:8,kernel:(6, 6),stride:(1, 1)pad:same\tstride:1,kern:6\n",
      "pad:same\tstride:1,kern:6\n",
      "pad:same\tstride:1,kern:6\n"
     ]
    },
    {
     "name": "stderr",
     "output_type": "stream",
     "text": [
      "100%|██████████| 40/40 [03:25<00:00,  5.14s/it]\n"
     ]
    },
    {
     "name": "stdout",
     "output_type": "stream",
     "text": [
      "\tscore:0.06283799567906326\n",
      "lr:0.001,cnn:10,kernel:(3, 3),stride:(1, 1)pad:same\tstride:1,kern:3\n",
      "pad:same\tstride:1,kern:3\n",
      "pad:same\tstride:1,kern:3\n"
     ]
    },
    {
     "name": "stderr",
     "output_type": "stream",
     "text": [
      "100%|██████████| 40/40 [03:05<00:00,  4.63s/it]\n"
     ]
    },
    {
     "name": "stdout",
     "output_type": "stream",
     "text": [
      "\tscore:0.11977387430007629\n",
      "lr:0.001,cnn:10,kernel:(4, 4),stride:(1, 1)pad:same\tstride:1,kern:4\n",
      "pad:same\tstride:1,kern:4\n",
      "pad:same\tstride:1,kern:4\n"
     ]
    },
    {
     "name": "stderr",
     "output_type": "stream",
     "text": [
      "100%|██████████| 40/40 [03:11<00:00,  4.78s/it]\n"
     ]
    },
    {
     "name": "stdout",
     "output_type": "stream",
     "text": [
      "\tscore:0.09389054432023376\n",
      "lr:0.001,cnn:10,kernel:(5, 5),stride:(1, 1)pad:same\tstride:1,kern:5\n",
      "pad:same\tstride:1,kern:5\n",
      "pad:same\tstride:1,kern:5\n"
     ]
    },
    {
     "name": "stderr",
     "output_type": "stream",
     "text": [
      "100%|██████████| 40/40 [03:03<00:00,  4.59s/it]\n"
     ]
    },
    {
     "name": "stdout",
     "output_type": "stream",
     "text": [
      "\tscore:0.07120530576757254\n",
      "lr:0.001,cnn:10,kernel:(6, 6),stride:(1, 1)pad:same\tstride:1,kern:6\n",
      "pad:same\tstride:1,kern:6\n",
      "pad:same\tstride:1,kern:6\n"
     ]
    },
    {
     "name": "stderr",
     "output_type": "stream",
     "text": [
      "100%|██████████| 40/40 [03:27<00:00,  5.19s/it]\n"
     ]
    },
    {
     "name": "stdout",
     "output_type": "stream",
     "text": [
      "\tscore:0.05796316850780599\n",
      "lr:0.01,cnn:6,kernel:(3, 3),stride:(1, 1)pad:same\tstride:1,kern:3\n",
      "pad:same\tstride:1,kern:3\n",
      "pad:same\tstride:1,kern:3\n"
     ]
    },
    {
     "name": "stderr",
     "output_type": "stream",
     "text": [
      "100%|██████████| 40/40 [03:00<00:00,  4.51s/it]\n"
     ]
    },
    {
     "name": "stdout",
     "output_type": "stream",
     "text": [
      "\tscore:0.20630140181908266\n",
      "lr:0.01,cnn:6,kernel:(4, 4),stride:(1, 1)pad:same\tstride:1,kern:4\n",
      "pad:same\tstride:1,kern:4\n",
      "pad:same\tstride:1,kern:4\n"
     ]
    },
    {
     "name": "stderr",
     "output_type": "stream",
     "text": [
      "100%|██████████| 40/40 [03:11<00:00,  4.79s/it]\n"
     ]
    },
    {
     "name": "stdout",
     "output_type": "stream",
     "text": [
      "\tscore:0.1529306035704336\n",
      "lr:0.01,cnn:6,kernel:(5, 5),stride:(1, 1)pad:same\tstride:1,kern:5\n",
      "pad:same\tstride:1,kern:5\n",
      "pad:same\tstride:1,kern:5\n"
     ]
    },
    {
     "name": "stderr",
     "output_type": "stream",
     "text": [
      "100%|██████████| 40/40 [02:57<00:00,  4.44s/it]\n"
     ]
    },
    {
     "name": "stdout",
     "output_type": "stream",
     "text": [
      "\tscore:0.12169898528646879\n",
      "lr:0.01,cnn:6,kernel:(6, 6),stride:(1, 1)pad:same\tstride:1,kern:6\n",
      "pad:same\tstride:1,kern:6\n",
      "pad:same\tstride:1,kern:6\n"
     ]
    },
    {
     "name": "stderr",
     "output_type": "stream",
     "text": [
      "100%|██████████| 40/40 [03:17<00:00,  4.95s/it]\n"
     ]
    },
    {
     "name": "stdout",
     "output_type": "stream",
     "text": [
      "\tscore:0.16883490976104715\n",
      "lr:0.01,cnn:8,kernel:(3, 3),stride:(1, 1)pad:same\tstride:1,kern:3\n",
      "pad:same\tstride:1,kern:3\n",
      "pad:same\tstride:1,kern:3\n"
     ]
    },
    {
     "name": "stderr",
     "output_type": "stream",
     "text": [
      "100%|██████████| 40/40 [03:07<00:00,  4.69s/it]\n"
     ]
    },
    {
     "name": "stdout",
     "output_type": "stream",
     "text": [
      "\tscore:0.1649525172651765\n",
      "lr:0.01,cnn:8,kernel:(4, 4),stride:(1, 1)pad:same\tstride:1,kern:4\n",
      "pad:same\tstride:1,kern:4\n",
      "pad:same\tstride:1,kern:4\n"
     ]
    },
    {
     "name": "stderr",
     "output_type": "stream",
     "text": [
      "100%|██████████| 40/40 [03:12<00:00,  4.82s/it]\n"
     ]
    },
    {
     "name": "stdout",
     "output_type": "stream",
     "text": [
      "\tscore:0.09762794356248242\n",
      "lr:0.01,cnn:8,kernel:(5, 5),stride:(1, 1)pad:same\tstride:1,kern:5\n",
      "pad:same\tstride:1,kern:5\n",
      "pad:same\tstride:1,kern:5\n"
     ]
    },
    {
     "name": "stderr",
     "output_type": "stream",
     "text": [
      "100%|██████████| 40/40 [03:08<00:00,  4.72s/it]\n"
     ]
    },
    {
     "name": "stdout",
     "output_type": "stream",
     "text": [
      "\tscore:0.12283721327524078\n",
      "lr:0.01,cnn:8,kernel:(6, 6),stride:(1, 1)pad:same\tstride:1,kern:6\n",
      "pad:same\tstride:1,kern:6\n",
      "pad:same\tstride:1,kern:6\n"
     ]
    },
    {
     "name": "stderr",
     "output_type": "stream",
     "text": [
      "100%|██████████| 40/40 [03:29<00:00,  5.24s/it]\n"
     ]
    },
    {
     "name": "stdout",
     "output_type": "stream",
     "text": [
      "\tscore:0.08940631852117106\n",
      "lr:0.01,cnn:10,kernel:(3, 3),stride:(1, 1)pad:same\tstride:1,kern:3\n",
      "pad:same\tstride:1,kern:3\n",
      "pad:same\tstride:1,kern:3\n"
     ]
    },
    {
     "name": "stderr",
     "output_type": "stream",
     "text": [
      "100%|██████████| 40/40 [03:07<00:00,  4.69s/it]\n"
     ]
    },
    {
     "name": "stdout",
     "output_type": "stream",
     "text": [
      "\tscore:0.1616697078560816\n",
      "lr:0.01,cnn:10,kernel:(4, 4),stride:(1, 1)pad:same\tstride:1,kern:4\n",
      "pad:same\tstride:1,kern:4\n",
      "pad:same\tstride:1,kern:4\n"
     ]
    },
    {
     "name": "stderr",
     "output_type": "stream",
     "text": [
      "100%|██████████| 40/40 [03:15<00:00,  4.89s/it]\n"
     ]
    },
    {
     "name": "stdout",
     "output_type": "stream",
     "text": [
      "\tscore:0.14064901333668842\n",
      "lr:0.01,cnn:10,kernel:(5, 5),stride:(1, 1)pad:same\tstride:1,kern:5\n",
      "pad:same\tstride:1,kern:5\n",
      "pad:same\tstride:1,kern:5\n"
     ]
    },
    {
     "name": "stderr",
     "output_type": "stream",
     "text": [
      "100%|██████████| 40/40 [03:07<00:00,  4.68s/it]\n"
     ]
    },
    {
     "name": "stdout",
     "output_type": "stream",
     "text": [
      "\tscore:0.1452495333136733\n",
      "lr:0.01,cnn:10,kernel:(6, 6),stride:(1, 1)pad:same\tstride:1,kern:6\n",
      "pad:same\tstride:1,kern:6\n",
      "pad:same\tstride:1,kern:6\n"
     ]
    },
    {
     "name": "stderr",
     "output_type": "stream",
     "text": [
      "100%|██████████| 40/40 [03:33<00:00,  5.35s/it]"
     ]
    },
    {
     "name": "stdout",
     "output_type": "stream",
     "text": [
      "\tscore:0.061753392636657065\n"
     ]
    },
    {
     "name": "stderr",
     "output_type": "stream",
     "text": [
      "\n"
     ]
    }
   ],
   "source": [
    "\n",
    "# (in_channels = 3, cnn_channels = 5, linear_hidden = 1000, n_classes = 10, kernel_size = (3, 3))\n",
    "params = {\n",
    "    'lr':[1e-3,1e-2],\n",
    "    'cnn_channels': [6,8,10],\n",
    "    'kernel_size': [(3,3),(4,4),(5,5),(6,6)],\n",
    "    'stride': [(1,1),(2,2),(3,3)]\n",
    "} # I trust ReLU since we are concerned with the activated pixels\n",
    "D = { # top 3 scores from search\n",
    "    0:{\n",
    "        'score':1,\n",
    "        'test_loss':None,\n",
    "        'params':None,\n",
    "    },\n",
    "    1:{\n",
    "        'score':1,\n",
    "        'test_loss':None,\n",
    "        'params':None,\n",
    "    },\n",
    "    2:{\n",
    "        'score':1,\n",
    "        'test_loss':None,\n",
    "        'params':None,\n",
    "    }\n",
    "}\n",
    "\n",
    "import copy\n",
    "def eval(loss,lr,cnn_channels,kernel_size,stride,model):\n",
    "    score = np.array(loss[-5:]).mean()\n",
    "    print(f'\\tscore:{score}')\n",
    "    if score<D[0]['score']:\n",
    "        D[2] = D[1].copy()\n",
    "        D[1] = D[0].copy()\n",
    "        D[0] = {'score':score,\n",
    "                'test_loss':loss,\n",
    "                'params':{\n",
    "                    'lr':lr,\n",
    "                    'cnn_channels':cnn_channels,\n",
    "                    'kernel_size':kernel_size,\n",
    "                    'stride':stride},\n",
    "                'model':copy.deepcopy(model)}\n",
    "        return\n",
    "    if score<D[1]['score']:\n",
    "        D[2] = D[1].copy()\n",
    "        D[1] = {'score':score,\n",
    "                'test_loss':loss,\n",
    "                'params':{\n",
    "                    'lr':lr,\n",
    "                    'cnn_channels':cnn_channels,\n",
    "                    'kernel_size':kernel_size,\n",
    "                    'stride':stride},\n",
    "                'model':copy.deepcopy(model)}\n",
    "        return\n",
    "    if score<D[2]['score']:\n",
    "        D[2] = {'score':score,\n",
    "                'test_loss':loss,\n",
    "                'params':{\n",
    "                    'lr':lr,\n",
    "                    'cnn_channels':cnn_channels,\n",
    "                    'kernel_size':kernel_size,\n",
    "                    'stride':stride},\n",
    "                'model':copy.deepcopy(model)}\n",
    "        return\n",
    "# constant stride=1x1\n",
    "for lr in params['lr']:\n",
    "    for cnn_channels in params['cnn_channels']:\n",
    "        for kernel_size in params['kernel_size']:\n",
    "            print(f'lr:{lr},cnn:{cnn_channels},kernel:{kernel_size},stride:{(1,1)}',end='')\n",
    "            model,test_loss = train(lr,cnn_channels,kernel_size,(1,1),40) # 40 epochs is enough for training & analyzing\n",
    "            eval(test_loss,lr,cnn_channels,kernel_size,(1,1),model)\n"
   ]
  },
  {
   "cell_type": "code",
   "execution_count": 77,
   "metadata": {},
   "outputs": [
    {
     "name": "stdout",
     "output_type": "stream",
     "text": [
      "lr:0.001,cnn:6,kernel:(4, 4),stride:(1, 1)pad:same\tstride:1,kern:4\n",
      "pad:same\tstride:1,kern:4\n",
      "pad:same\tstride:1,kern:4\n"
     ]
    },
    {
     "name": "stderr",
     "output_type": "stream",
     "text": [
      "100%|██████████| 40/40 [03:18<00:00,  4.96s/it]\n"
     ]
    },
    {
     "name": "stdout",
     "output_type": "stream",
     "text": [
      "\tscore:0.07943041381163603\n",
      "lr:0.001,cnn:6,kernel:(4, 4),stride:(2, 2)pad:15\tstride:2,kern:4\n",
      "pad:15\tstride:2,kern:4\n",
      "pad:15\tstride:2,kern:4\n"
     ]
    },
    {
     "name": "stderr",
     "output_type": "stream",
     "text": [
      "100%|██████████| 40/40 [02:58<00:00,  4.45s/it]\n"
     ]
    },
    {
     "name": "stdout",
     "output_type": "stream",
     "text": [
      "\tscore:0.09656232578774043\n",
      "lr:0.001,cnn:6,kernel:(5, 5),stride:(3, 3)pad:29\tstride:3,kern:5\n",
      "pad:29\tstride:3,kern:5\n",
      "pad:29\tstride:3,kern:5\n"
     ]
    },
    {
     "name": "stderr",
     "output_type": "stream",
     "text": [
      "100%|██████████| 40/40 [02:58<00:00,  4.46s/it]\n"
     ]
    },
    {
     "name": "stdout",
     "output_type": "stream",
     "text": [
      "\tscore:0.11258294591259092\n",
      "lr:0.001,cnn:8,kernel:(4, 4),stride:(1, 1)pad:same\tstride:1,kern:4\n",
      "pad:same\tstride:1,kern:4\n",
      "pad:same\tstride:1,kern:4\n"
     ]
    },
    {
     "name": "stderr",
     "output_type": "stream",
     "text": [
      "100%|██████████| 40/40 [03:15<00:00,  4.90s/it]\n"
     ]
    },
    {
     "name": "stdout",
     "output_type": "stream",
     "text": [
      "\tscore:0.09269564709244693\n",
      "lr:0.001,cnn:8,kernel:(4, 4),stride:(2, 2)pad:15\tstride:2,kern:4\n",
      "pad:15\tstride:2,kern:4\n",
      "pad:15\tstride:2,kern:4\n"
     ]
    },
    {
     "name": "stderr",
     "output_type": "stream",
     "text": [
      "100%|██████████| 40/40 [02:58<00:00,  4.47s/it]\n"
     ]
    },
    {
     "name": "stdout",
     "output_type": "stream",
     "text": [
      "\tscore:0.1043560358601563\n",
      "lr:0.001,cnn:8,kernel:(5, 5),stride:(3, 3)pad:29\tstride:3,kern:5\n",
      "pad:29\tstride:3,kern:5\n",
      "pad:29\tstride:3,kern:5\n"
     ]
    },
    {
     "name": "stderr",
     "output_type": "stream",
     "text": [
      "100%|██████████| 40/40 [02:54<00:00,  4.37s/it]\n"
     ]
    },
    {
     "name": "stdout",
     "output_type": "stream",
     "text": [
      "\tscore:0.12557191302767023\n",
      "lr:0.001,cnn:10,kernel:(4, 4),stride:(1, 1)pad:same\tstride:1,kern:4\n",
      "pad:same\tstride:1,kern:4\n",
      "pad:same\tstride:1,kern:4\n"
     ]
    },
    {
     "name": "stderr",
     "output_type": "stream",
     "text": [
      "100%|██████████| 40/40 [03:11<00:00,  4.80s/it]\n"
     ]
    },
    {
     "name": "stdout",
     "output_type": "stream",
     "text": [
      "\tscore:0.08114216502141604\n",
      "lr:0.001,cnn:10,kernel:(4, 4),stride:(2, 2)pad:15\tstride:2,kern:4\n",
      "pad:15\tstride:2,kern:4\n",
      "pad:15\tstride:2,kern:4\n"
     ]
    },
    {
     "name": "stderr",
     "output_type": "stream",
     "text": [
      "100%|██████████| 40/40 [02:54<00:00,  4.37s/it]\n"
     ]
    },
    {
     "name": "stdout",
     "output_type": "stream",
     "text": [
      "\tscore:0.10118808970350694\n",
      "lr:0.001,cnn:10,kernel:(5, 5),stride:(3, 3)pad:29\tstride:3,kern:5\n",
      "pad:29\tstride:3,kern:5\n",
      "pad:29\tstride:3,kern:5\n"
     ]
    },
    {
     "name": "stderr",
     "output_type": "stream",
     "text": [
      "100%|██████████| 40/40 [02:56<00:00,  4.40s/it]\n"
     ]
    },
    {
     "name": "stdout",
     "output_type": "stream",
     "text": [
      "\tscore:0.11548691643835443\n",
      "lr:0.01,cnn:6,kernel:(4, 4),stride:(1, 1)pad:same\tstride:1,kern:4\n",
      "pad:same\tstride:1,kern:4\n",
      "pad:same\tstride:1,kern:4\n"
     ]
    },
    {
     "name": "stderr",
     "output_type": "stream",
     "text": [
      "100%|██████████| 40/40 [03:12<00:00,  4.82s/it]\n"
     ]
    },
    {
     "name": "stdout",
     "output_type": "stream",
     "text": [
      "\tscore:0.1018004391986401\n",
      "lr:0.01,cnn:6,kernel:(4, 4),stride:(2, 2)pad:15\tstride:2,kern:4\n",
      "pad:15\tstride:2,kern:4\n",
      "pad:15\tstride:2,kern:4\n"
     ]
    },
    {
     "name": "stderr",
     "output_type": "stream",
     "text": [
      "100%|██████████| 40/40 [02:54<00:00,  4.35s/it]\n"
     ]
    },
    {
     "name": "stdout",
     "output_type": "stream",
     "text": [
      "\tscore:0.144493188544553\n",
      "lr:0.01,cnn:6,kernel:(5, 5),stride:(3, 3)pad:29\tstride:3,kern:5\n",
      "pad:29\tstride:3,kern:5\n",
      "pad:29\tstride:3,kern:5\n"
     ]
    },
    {
     "name": "stderr",
     "output_type": "stream",
     "text": [
      "100%|██████████| 40/40 [02:54<00:00,  4.36s/it]\n"
     ]
    },
    {
     "name": "stdout",
     "output_type": "stream",
     "text": [
      "\tscore:0.16719909558132134\n",
      "lr:0.01,cnn:8,kernel:(4, 4),stride:(1, 1)pad:same\tstride:1,kern:4\n",
      "pad:same\tstride:1,kern:4\n",
      "pad:same\tstride:1,kern:4\n"
     ]
    },
    {
     "name": "stderr",
     "output_type": "stream",
     "text": [
      "100%|██████████| 40/40 [03:12<00:00,  4.82s/it]\n"
     ]
    },
    {
     "name": "stdout",
     "output_type": "stream",
     "text": [
      "\tscore:0.10081060175892917\n",
      "lr:0.01,cnn:8,kernel:(4, 4),stride:(2, 2)pad:15\tstride:2,kern:4\n",
      "pad:15\tstride:2,kern:4\n",
      "pad:15\tstride:2,kern:4\n"
     ]
    },
    {
     "name": "stderr",
     "output_type": "stream",
     "text": [
      "100%|██████████| 40/40 [02:54<00:00,  4.37s/it]\n"
     ]
    },
    {
     "name": "stdout",
     "output_type": "stream",
     "text": [
      "\tscore:0.17792260739754173\n",
      "lr:0.01,cnn:8,kernel:(5, 5),stride:(3, 3)pad:29\tstride:3,kern:5\n",
      "pad:29\tstride:3,kern:5\n",
      "pad:29\tstride:3,kern:5\n"
     ]
    },
    {
     "name": "stderr",
     "output_type": "stream",
     "text": [
      "100%|██████████| 40/40 [02:54<00:00,  4.36s/it]\n"
     ]
    },
    {
     "name": "stdout",
     "output_type": "stream",
     "text": [
      "\tscore:0.25702436686632163\n",
      "lr:0.01,cnn:10,kernel:(4, 4),stride:(1, 1)pad:same\tstride:1,kern:4\n",
      "pad:same\tstride:1,kern:4\n",
      "pad:same\tstride:1,kern:4\n"
     ]
    },
    {
     "name": "stderr",
     "output_type": "stream",
     "text": [
      "100%|██████████| 40/40 [03:16<00:00,  4.91s/it]\n"
     ]
    },
    {
     "name": "stdout",
     "output_type": "stream",
     "text": [
      "\tscore:0.16544488647360073\n",
      "lr:0.01,cnn:10,kernel:(4, 4),stride:(2, 2)pad:15\tstride:2,kern:4\n",
      "pad:15\tstride:2,kern:4\n",
      "pad:15\tstride:2,kern:4\n"
     ]
    },
    {
     "name": "stderr",
     "output_type": "stream",
     "text": [
      "100%|██████████| 40/40 [02:59<00:00,  4.49s/it]\n"
     ]
    },
    {
     "name": "stdout",
     "output_type": "stream",
     "text": [
      "\tscore:0.21762175314881382\n",
      "lr:0.01,cnn:10,kernel:(5, 5),stride:(3, 3)pad:29\tstride:3,kern:5\n",
      "pad:29\tstride:3,kern:5\n",
      "pad:29\tstride:3,kern:5\n"
     ]
    },
    {
     "name": "stderr",
     "output_type": "stream",
     "text": [
      "100%|██████████| 40/40 [03:00<00:00,  4.52s/it]"
     ]
    },
    {
     "name": "stdout",
     "output_type": "stream",
     "text": [
      "\tscore:0.1472573704472644\n"
     ]
    },
    {
     "name": "stderr",
     "output_type": "stream",
     "text": [
      "\n"
     ]
    }
   ],
   "source": [
    "# constant kernel=4x4\n",
    "for lr in params['lr']:\n",
    "    for cnn_channels in params['cnn_channels']:\n",
    "        for stride in params['stride']:\n",
    "            kernel_size = (5,5) if stride[0]==3 else (4,4)\n",
    "            print(f'lr:{lr},cnn:{cnn_channels},kernel:{kernel_size},stride:{stride}',end='')\n",
    "            model,test_loss = train(lr,cnn_channels,kernel_size,stride,40) # 40 epochs is enough for training & analyzing\n",
    "            eval(test_loss,lr,cnn_channels,kernel_size,stride,model)"
   ]
  },
  {
   "cell_type": "code",
   "execution_count": 78,
   "metadata": {},
   "outputs": [
    {
     "data": {
      "image/png": "[encoded data removed]",
      "text/plain": [
       "<Figure size 1500x600 with 3 Axes>"
      ]
     },
     "metadata": {},
     "output_type": "display_data"
    },
    {
     "name": "stdout",
     "output_type": "stream",
     "text": [
      "first layer filters\n"
     ]
    },
    {
     "data": {
      "image/png": "[encoded data removed]",
      "text/plain": [
       "<Figure size 640x480 with 10 Axes>"
      ]
     },
     "metadata": {},
     "output_type": "display_data"
    },
    {
     "data": {
      "image/png": "[encoded data removed]",
      "text/plain": [
       "<Figure size 640x480 with 10 Axes>"
      ]
     },
     "metadata": {},
     "output_type": "display_data"
    },
    {
     "data": {
      "image/png": "[encoded data removed]",
      "text/plain": [
       "<Figure size 640x480 with 8 Axes>"
      ]
     },
     "metadata": {},
     "output_type": "display_data"
    }
   ],
   "source": [
    "fig, axs = plt.subplots(1,3,figsize=(15, 6))\n",
    "for i,a in enumerate(axs.flat):\n",
    "    a.scatter(range(len(D[i]['test_loss'])),D[i]['test_loss'])\n",
    "    a.set_title(f'lr:{D[i]['params']['lr']},cnn:{D[i]['params']['cnn_channels']},kernel:{D[i]['params']['kernel_size']},stride:{D[i]['params']['stride']}')\n",
    "fig.suptitle('top 3 validation loss')\n",
    "plt.show()\n",
    "\n",
    "print('first layer filters')\n",
    "for i in range(3):\n",
    "    fig, axs = plt.subplots(2,int(D[i]['params']['cnn_channels']/2))\n",
    "    for j,a in enumerate(axs.flat):\n",
    "        a.imshow(D[i]['model'].cnn_layers[0].layers[0].weight[j,0,:,:].cpu().detach().numpy(),cmap='gray')\n",
    "        a.axis('off')\n",
    "    fig.suptitle(f'lr:{D[i]['params']['lr']},cnn:{D[i]['params']['cnn_channels']},kernel:{D[i]['params']['kernel_size']},stride:{D[i]['params']['stride']}\\nLast5 valid mean score:{(round(D[i]['score'],5))}')\n",
    "    plt.show()"
   ]
  },
  {
   "cell_type": "markdown",
   "metadata": {},
   "source": [
    "# (5)\n",
    "#### Use the best fine-tuned model for inference on test dataset. Compare the classification accuracy with the model you had in step 3 above."
   ]
  },
  {
   "cell_type": "code",
   "execution_count": 149,
   "metadata": {},
   "outputs": [
    {
     "name": "stdout",
     "output_type": "stream",
     "text": [
      "pad:same\tstride:1,kern:6\n",
      "pad:same\tstride:1,kern:6\n",
      "pad:same\tstride:1,kern:6\n"
     ]
    },
    {
     "name": "stderr",
     "output_type": "stream",
     "text": [
      "100%|██████████| 75/75 [06:48<00:00,  5.44s/it]\n"
     ]
    },
    {
     "name": "stdout",
     "output_type": "stream",
     "text": [
      "pad:16\tstride:2,kern:6\n",
      "pad:16\tstride:2,kern:6\n",
      "pad:16\tstride:2,kern:6\n"
     ]
    },
    {
     "name": "stderr",
     "output_type": "stream",
     "text": [
      "100%|██████████| 75/75 [06:46<00:00,  5.42s/it]\n"
     ]
    },
    {
     "name": "stdout",
     "output_type": "stream",
     "text": [
      "pad:43\tstride:4,kern:6\n",
      "pad:43\tstride:4,kern:6\n",
      "pad:43\tstride:4,kern:6\n"
     ]
    },
    {
     "name": "stderr",
     "output_type": "stream",
     "text": [
      "100%|██████████| 75/75 [06:34<00:00,  5.26s/it]\n"
     ]
    },
    {
     "name": "stdout",
     "output_type": "stream",
     "text": [
      "pad:30\tstride:3,kern:7\n",
      "pad:30\tstride:3,kern:7\n",
      "pad:30\tstride:3,kern:7\n"
     ]
    },
    {
     "name": "stderr",
     "output_type": "stream",
     "text": [
      "100%|██████████| 75/75 [06:58<00:00,  5.59s/it]\n"
     ]
    },
    {
     "data": {
      "image/png": "[encoded data removed]",
      "text/plain": [
       "<Figure size 640x480 with 1 Axes>"
      ]
     },
     "metadata": {},
     "output_type": "display_data"
    }
   ],
   "source": [
    "_,loss0 = train(lr=0.001,cnn_channels=10,kernel_size=(6,6),stride=(1,1),n_epochs=75)\n",
    "_,loss1 = train(lr=0.001,cnn_channels=10,kernel_size=(6,6),stride=(2,2),n_epochs=75)\n",
    "_,loss2 = train(lr=0.001,cnn_channels=10,kernel_size=(6,6),stride=(4,4),n_epochs=75)\n",
    "_,loss3 = train(lr=0.001,cnn_channels=10,kernel_size=(7,7),stride=(3,3),n_epochs=75)\n",
    "\n",
    "plt.scatter(range(75),loss0,label=f'kern:{(6,6)},stride:{(1,1)}')\n",
    "plt.scatter(range(75),loss1,label=f'kern:{(6,6)},stride:{(2,2)}')\n",
    "plt.scatter(range(75),loss2,label=f'kern:{(6,6)},stride:{(4,4)}')\n",
    "plt.scatter(range(75),loss3,label=f'kern:{(7,7)},stride:{(3,3)}')\n",
    "plt.legend()\n",
    "plt.show()"
   ]
  },
  {
   "cell_type": "code",
   "execution_count": 150,
   "metadata": {},
   "outputs": [
    {
     "name": "stdout",
     "output_type": "stream",
     "text": [
      "pad:same\tstride:1,kern:6\n",
      "pad:same\tstride:1,kern:6\n",
      "pad:same\tstride:1,kern:6\n"
     ]
    },
    {
     "name": "stderr",
     "output_type": "stream",
     "text": [
      "100%|██████████| 60/60 [05:28<00:00,  5.47s/it]"
     ]
    },
    {
     "name": "stdout",
     "output_type": "stream",
     "text": [
      "0.05834796044088782\n"
     ]
    },
    {
     "name": "stderr",
     "output_type": "stream",
     "text": [
      "\n"
     ]
    },
    {
     "data": {
      "image/png": "[encoded data removed]",
      "text/plain": [
       "<Figure size 640x480 with 1 Axes>"
      ]
     },
     "metadata": {},
     "output_type": "display_data"
    }
   ],
   "source": [
    "model,loss = train(lr=0.001,cnn_channels=10,kernel_size=(6,6),stride=(1,1),n_epochs=60)\n",
    "print(np.array(loss[-5:]).mean())\n",
    "plt.scatter(range(60),loss)\n",
    "plt.title(f'Validation Loss\\nkern:{(6,6)},stride:{(1,1)}')\n",
    "plt.show()\n",
    "\n",
    "test_dataloader = DataLoader(TensorDataset(torch.from_numpy(x_test.reshape(x_test.shape[0],1,28,28)).float()), batch_size=64, shuffle=False)\n",
    "model.eval()\n",
    "preds = list()\n",
    "with torch.no_grad():\n",
    "        for batch, X in enumerate(test_dataloader):\n",
    "            X = X[0].cpu().to(device)\n",
    "            pred_batch = model(X)\n",
    "            for dist in pred_batch:\n",
    "                preds.append(int(dist.argmax()))\n",
    "pd.Series(preds, name=None).to_csv('Nicholas_Garde_preds.csv',index=False,header=False)"
   ]
  },
  {
   "cell_type": "markdown",
   "metadata": {},
   "source": [
    "##### My tuned model's accuracy was much better than my initial model. I was surprised to find out increasing stride length only worsened accuracy. It makes sense on larger kernels since the relevant pixels are grouped in the middle, increasing stride observes less patterns rather than detailed observations all around the group. In the extra credit I plan to tune network depth.\n",
    "\n",
    "##### ...unfortunately I did not have enough time this week for the extra credit\n",
    "\n"
   ]
  },
  {
   "cell_type": "code",
   "execution_count": 151,
   "metadata": {},
   "outputs": [],
   "source": [
    "# print(model.linear_layers[0].layers[5].bias.detach().numpy().shape)\n",
    "\n",
    "# for param in model.named_parameters():\n",
    "#     print(str(param))\n",
    "\n",
    "# for i in model.cnn_layers:\n",
    "#     for j in i.layers:\n",
    "#         print(f'{type(j)}')\n",
    "        # if type(j)!='ReLU':\n",
    "        #     print(j.weight.detach().numpy().shape)\n",
    "\n",
    "# for i in D.keys():\n",
    "#     print(D[i])\n",
    "\n",
    "# for batch, (X,y) in enumerate(valid_dataloader):\n",
    "#     print(X.shape)\n",
    "# torch.Size([64,1,28,28])\n",
    "\n",
    "# test_dataloader = DataLoader(TensorDataset(torch.from_numpy(x_test.reshape(x_test.shape[0],1,28,28)).float()), batch_size=64)\n",
    "# for batch, X in enumerate(test_dataloader):\n",
    "#         print(X[0].shape)\n",
    "\n",
    "# for i,X in enumerate(x_test):\n",
    "#     plt.imshow(X,cmap='gray')\n",
    "#     plt.show()\n",
    "#     if i>4:break"
   ]
  }
 ],
 "metadata": {
  "kernelspec": {
   "display_name": "Python 3",
   "language": "python",
   "name": "python3"
  },
  "language_info": {
   "codemirror_mode": {
    "name": "ipython",
    "version": 3
   },
   "file_extension": ".py",
   "mimetype": "text/x-python",
   "name": "python",
   "nbconvert_exporter": "python",
   "pygments_lexer": "ipython3",
   "version": "3.12.3"
  }
 },
 "nbformat": 4,
 "nbformat_minor": 2
}
